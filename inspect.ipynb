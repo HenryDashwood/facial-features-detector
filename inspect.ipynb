{
 "metadata": {
  "language_info": {
   "codemirror_mode": {
    "name": "ipython",
    "version": 3
   },
   "file_extension": ".py",
   "mimetype": "text/x-python",
   "name": "python",
   "nbconvert_exporter": "python",
   "pygments_lexer": "ipython3",
   "version": "3.8.5-final"
  },
  "orig_nbformat": 2,
  "kernelspec": {
   "name": "Python 3.8.5 64-bit ('py385')",
   "display_name": "Python 3.8.5 64-bit ('py385')",
   "metadata": {
    "interpreter": {
     "hash": "03b2c8230f2ecf2192da6428f7f5e434a1ef0aefb54f65f293ba2ec59df1c4b3"
    }
   }
  }
 },
 "nbformat": 4,
 "nbformat_minor": 2,
 "cells": [
  {
   "cell_type": "code",
   "execution_count": 1,
   "metadata": {
    "tags": []
   },
   "outputs": [],
   "source": [
    "%load_ext autoreload\n",
    "%autoreload 2\n",
    "%load_ext dotenv\n",
    "%dotenv"
   ]
  },
  {
   "cell_type": "code",
   "execution_count": 12,
   "metadata": {},
   "outputs": [],
   "source": [
    "import os\n",
    "\n",
    "from tqdm import progress_bar\n",
    "from matplotlib import pyplot as plt\n",
    "import numpy as np\n",
    "import pandas as pd\n",
    "\n",
    "from results import invoke"
   ]
  },
  {
   "cell_type": "code",
   "execution_count": 57,
   "metadata": {},
   "outputs": [],
   "source": [
    "quantity = 50\n",
    "path_to_data = f\"{os.environ.get('url')}/templates?&state=approved&_sort=updatedAt:DESC&_limit={quantity}\"\n",
    "df = pd.DataFrame(pd.read_json(path_to_data)['uploadedImage'].values.tolist())\n",
    "urls = list(df['url'])"
   ]
  },
  {
   "cell_type": "code",
   "execution_count": 58,
   "metadata": {
    "tags": []
   },
   "outputs": [
    {
     "output_type": "stream",
     "name": "stderr",
     "text": "50it [02:44,  3.29s/it]\n"
    }
   ],
   "source": [
    "efn_results = {\"imgs\": [], \"preds\": []}\n",
    "ffd_results = {\"imgs\": [], \"preds\": []}\n",
    "for i, url in tqdm(enumerate(urls)):\n",
    "    img, preds = invoke(\"dev-efficientnet-2\", url)\n",
    "    efn_results[\"imgs\"].append(img)\n",
    "    efn_results[\"preds\"].append(preds)\n",
    "    img, preds = invoke(\"dev-facial-features-detector\", url)\n",
    "    ffd_results[\"imgs\"].append(img)\n",
    "    ffd_results[\"preds\"].append(preds)"
   ]
  },
  {
   "cell_type": "code",
   "execution_count": 61,
   "metadata": {
    "tags": []
   },
   "outputs": [],
   "source": [
    "fig, axes = plt.subplots(nrows=len(urls), ncols=2, figsize=(20,300))\n",
    "plt.tight_layout()\n",
    "for ax, col in zip(axes[0], [\"dev-efficientnet-2\", \"facial-features-detector\"]):\n",
    "    ax.set_title(col)\n",
    "for i, url in tqdm(enumerate(urls)):\n",
    "    axes[i, 0].imshow(np.array(efn_results['imgs'][i]))\n",
    "    axes[i, 0].scatter(np.array(efn_results['preds'][i][0::2]), np.array(efn_results['preds'][i][1::2]))\n",
    "    axes[i, 1].imshow(np.array(ffd_results['imgs'][i]))\n",
    "    axes[i, 1].scatter(np.array(ffd_results['preds'][i][1::2]), np.array(ffd_results['preds'][i][0::2]))"
   ]
  },
  {
   "cell_type": "code",
   "execution_count": null,
   "metadata": {},
   "outputs": [],
   "source": []
  }
 ]
}