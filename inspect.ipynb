{
 "metadata": {
  "language_info": {
   "codemirror_mode": {
    "name": "ipython",
    "version": 3
   },
   "file_extension": ".py",
   "mimetype": "text/x-python",
   "name": "python",
   "nbconvert_exporter": "python",
   "pygments_lexer": "ipython3",
   "version": "3.8.5-final"
  },
  "orig_nbformat": 2,
  "kernelspec": {
   "name": "Python 3.8.5 64-bit ('py385')",
   "display_name": "Python 3.8.5 64-bit ('py385')",
   "metadata": {
    "interpreter": {
     "hash": "03b2c8230f2ecf2192da6428f7f5e434a1ef0aefb54f65f293ba2ec59df1c4b3"
    }
   }
  }
 },
 "nbformat": 4,
 "nbformat_minor": 2,
 "cells": [
  {
   "cell_type": "code",
   "execution_count": 2,
   "metadata": {
    "tags": []
   },
   "outputs": [
    {
     "output_type": "stream",
     "name": "stdout",
     "text": [
      "The autoreload extension is already loaded. To reload it, use:\n  %reload_ext autoreload\nThe dotenv extension is already loaded. To reload it, use:\n  %reload_ext dotenv\n"
     ]
    }
   ],
   "source": [
    "%load_ext autoreload\n",
    "%autoreload 2\n",
    "%load_ext dotenv\n",
    "%dotenv"
   ]
  },
  {
   "cell_type": "code",
   "execution_count": 3,
   "metadata": {},
   "outputs": [],
   "source": [
    "import os\n",
    "\n",
    "from tqdm import tqdm\n",
    "from matplotlib import pyplot as plt\n",
    "import numpy as np\n",
    "import pandas as pd\n",
    "\n",
    "from results import invoke"
   ]
  },
  {
   "cell_type": "code",
   "execution_count": 4,
   "metadata": {},
   "outputs": [],
   "source": [
    "quantity = 50\n",
    "path_to_data = f\"{os.environ.get('url')}/templates?&state=approved&_sort=updatedAt:DESC&_limit={quantity}\"\n",
    "df = pd.DataFrame(pd.read_json(path_to_data)['uploadedImage'].values.tolist())\n",
    "urls = list(df['url'])"
   ]
  },
  {
   "cell_type": "code",
   "execution_count": 4,
   "metadata": {
    "tags": []
   },
   "outputs": [
    {
     "output_type": "stream",
     "name": "stderr",
     "text": [
      "13it [00:20,  1.57s/it]CPU times: user 710 ms, sys: 114 ms, total: 825 ms\n",
      "Wall time: 20.4 s\n",
      "\n"
     ]
    }
   ],
   "source": [
    "%%time\n",
    "efn_results = {\"imgs\": [], \"preds\": []}\n",
    "for i, url in tqdm(enumerate(urls)):\n",
    "    img, preds = invoke(\"dev-efficientnet-3\", url)\n",
    "    efn_results[\"imgs\"].append(img)\n",
    "    efn_results[\"preds\"].append(preds)"
   ]
  },
  {
   "cell_type": "code",
   "execution_count": 5,
   "metadata": {},
   "outputs": [
    {
     "output_type": "stream",
     "name": "stderr",
     "text": [
      "0it [00:00, ?it/s]CPU times: user 3 µs, sys: 1e+03 ns, total: 4 µs\n",
      "Wall time: 14.5 µs\n",
      "13it [00:16,  1.31s/it]\n"
     ]
    }
   ],
   "source": [
    "%time\n",
    "ffd_results = {\"imgs\": [], \"preds\": []}\n",
    "for i, url in tqdm(enumerate(urls)):\n",
    "    img, preds = invoke(\"dev-facial-features-detector\", url)\n",
    "    ffd_results[\"imgs\"].append(img)\n",
    "    ffd_results[\"preds\"].append(preds)"
   ]
  },
  {
   "cell_type": "code",
   "execution_count": 61,
   "metadata": {
    "tags": []
   },
   "outputs": [],
   "source": [
    "fig, axes = plt.subplots(nrows=len(urls), ncols=2, figsize=(20,300))\n",
    "plt.tight_layout()\n",
    "for ax, col in zip(axes[0], [\"dev-efficientnet-3\", \"facial-features-detector\"]):\n",
    "    ax.set_title(col)\n",
    "for i, url in tqdm(enumerate(urls)):\n",
    "    axes[i, 0].imshow(np.array(efn_results['imgs'][i]))\n",
    "    axes[i, 0].scatter(np.array(efn_results['preds'][i][0::2]), np.array(efn_results['preds'][i][1::2]))\n",
    "    axes[i, 1].imshow(np.array(ffd_results['imgs'][i]))\n",
    "    axes[i, 1].scatter(np.array(ffd_results['preds'][i][1::2]), np.array(ffd_results['preds'][i][0::2]))"
   ]
  },
  {
   "cell_type": "code",
   "execution_count": null,
   "metadata": {},
   "outputs": [],
   "source": []
  }
 ]
}