{
 "cells": [
  {
   "cell_type": "code",
   "execution_count": 1,
   "metadata": {},
   "outputs": [],
   "source": [
    "# TODO \n",
    "# deploy as a t2\n",
    "# try only returning a single item from the result tuple and return it as a list"
   ]
  },
  {
   "cell_type": "code",
   "execution_count": 2,
   "metadata": {},
   "outputs": [],
   "source": [
    "%reload_ext autoreload\n",
    "%autoreload 2"
   ]
  },
  {
   "cell_type": "code",
   "execution_count": 3,
   "metadata": {},
   "outputs": [],
   "source": [
    "from fastai.vision import *\n",
    "from fastai.callbacks import SaveModelCallback, EarlyStoppingCallback\n",
    "import numpy as np\n",
    "import pandas as pd\n",
    "\n",
    "import torch\n",
    "from  torch import nn"
   ]
  },
  {
   "cell_type": "code",
   "execution_count": 4,
   "metadata": {},
   "outputs": [],
   "source": [
    "images_path = '../data/resized_images'\n",
    "labels_path = '../data/resized_labels.csv'\n",
    "target_size = 320"
   ]
  },
  {
   "cell_type": "code",
   "execution_count": 5,
   "metadata": {},
   "outputs": [],
   "source": [
    "y = pd.read_csv(labels_path, index_col='filename')"
   ]
  },
  {
   "cell_type": "code",
   "execution_count": 6,
   "metadata": {},
   "outputs": [],
   "source": [
    "def get_y_func(x):\n",
    "    filename = str(x).split('/')[-1]\n",
    "    coord_list = []\n",
    "    coords = list(y.loc[filename])\n",
    "    for i in range(len(coords)//2):\n",
    "        coord_list.append([coords[i*2+1],coords[i*2]])\n",
    "    return tensor(coord_list)"
   ]
  },
  {
   "cell_type": "code",
   "execution_count": 7,
   "metadata": {},
   "outputs": [],
   "source": [
    "transforms = get_transforms(\n",
    "    do_flip=False,\n",
    "    max_rotate=45, \n",
    "    max_zoom=1.5, \n",
    "    max_lighting=0.5, \n",
    "    max_warp=0.4, \n",
    "    p_affine=1., \n",
    "    p_lighting=1.\n",
    ") "
   ]
  },
  {
   "cell_type": "code",
   "execution_count": 8,
   "metadata": {},
   "outputs": [],
   "source": [
    "data = (\n",
    "    PointsItemList\n",
    "        .from_folder(images_path)\n",
    "        .split_by_rand_pct(0.15)\n",
    "        .label_from_func(get_y_func)\n",
    "        .transform(\n",
    "            transforms,\n",
    "            size=320,\n",
    "            tfm_y=True, \n",
    "            remove_out=False, \n",
    "            padding_mode='reflection', \n",
    "            resize_method=ResizeMethod.PAD\n",
    "        )\n",
    "        .databunch()\n",
    "        .normalize(imagenet_stats)\n",
    ")"
   ]
  },
  {
   "cell_type": "code",
   "execution_count": 9,
   "metadata": {},
   "outputs": [],
   "source": [
    "# data.show_batch(3, figsize=(6,6))"
   ]
  },
  {
   "cell_type": "code",
   "execution_count": 10,
   "metadata": {},
   "outputs": [],
   "source": [
    "learn = cnn_learner(\n",
    "    data, \n",
    "    models.resnet34, \n",
    "    loss_func=MSELossFlat()\n",
    ")#.to_fp16()"
   ]
  },
  {
   "cell_type": "code",
   "execution_count": 11,
   "metadata": {},
   "outputs": [],
   "source": [
    "learn.path = Path('..')"
   ]
  },
  {
   "cell_type": "code",
   "execution_count": 12,
   "metadata": {},
   "outputs": [],
   "source": [
    "# learn.lr_find()\n",
    "# learn.recorder.plot()"
   ]
  },
  {
   "cell_type": "code",
   "execution_count": 13,
   "metadata": {},
   "outputs": [],
   "source": [
    "# learn.freeze_to(-1)\n",
    "# learn.fit_one_cycle(\n",
    "#     30, \n",
    "#     slice(1e-2), \n",
    "#     callbacks=[\n",
    "#         SaveModelCallback(learn, every='improvement', monitor='valid_loss', name='resnet34_frozen_to_-1'),\n",
    "#         EarlyStoppingCallback(learn, monitor='valid_loss', min_delta=0.01, patience=3)\n",
    "#     ]\n",
    "# )"
   ]
  },
  {
   "cell_type": "code",
   "execution_count": 14,
   "metadata": {},
   "outputs": [],
   "source": [
    "# learn = learn.load('fastai_model')\n",
    "# learn = learn.to_fp32()\n",
    "# learn.save('fastai_model')\n",
    "# learn.export('models/export.pkl')"
   ]
  },
  {
   "cell_type": "code",
   "execution_count": 15,
   "metadata": {},
   "outputs": [],
   "source": [
    "learn = load_learner('../models', 'export.pkl')"
   ]
  },
  {
   "cell_type": "code",
   "execution_count": 16,
   "metadata": {},
   "outputs": [],
   "source": [
    "# learn.show_results(rows=10)"
   ]
  },
  {
   "cell_type": "markdown",
   "metadata": {},
   "source": [
    "### Bentoml Route"
   ]
  },
  {
   "cell_type": "code",
   "execution_count": 17,
   "metadata": {},
   "outputs": [
    {
     "name": "stdout",
     "output_type": "stream",
     "text": [
      "Overwriting pet_regression.py\n"
     ]
    }
   ],
   "source": [
    "%%writefile pet_regression.py\n",
    "from bentoml import BentoService, api, env, artifacts \n",
    "from bentoml.artifact import FastaiModelArtifact\n",
    "from bentoml.handlers import FastaiImageHandler\n",
    "\n",
    "@env(pip_dependencies=['gevent', 'pillow==6.2.2', 'fastai'])\n",
    "@artifacts([FastaiModelArtifact('pet_regressor')])\n",
    "class PetRegression(BentoService):\n",
    "    \n",
    "    @api(FastaiImageHandler)\n",
    "    def predict(self, image):\n",
    "        result = self.artifacts.pet_regressor.predict(image)\n",
    "        return [result[0], result[1].tolist(), result[2].tolist()]"
   ]
  },
  {
   "cell_type": "code",
   "execution_count": 18,
   "metadata": {},
   "outputs": [
    {
     "name": "stdout",
     "output_type": "stream",
     "text": [
      "[2020-01-15 00:17:07,146] INFO - BentoService bundle 'PetRegression:20200115001404_6FC750' created at: /private/var/folders/yl/c5z1v7897q3g9ywlj63pm0840000gn/T/bentoml-temp-1m62fpxq\n",
      "[2020-01-15 00:17:11,419] INFO - BentoService bundle 'PetRegression:20200115001404_6FC750' created at: /Users/HenryDashwood/bentoml/repository/PetRegression/20200115001404_6FC750\n"
     ]
    }
   ],
   "source": [
    "# 1) import the custom BentoService defined above\n",
    "from pet_regression import PetRegression\n",
    "\n",
    "# 2) `pack` it with required artifacts\n",
    "service = PetRegression.pack(pet_regressor=learn)\n",
    "\n",
    "# 3) save your BentoSerivce\n",
    "saved_path = service.save()"
   ]
  },
  {
   "cell_type": "code",
   "execution_count": 31,
   "metadata": {},
   "outputs": [
    {
     "name": "stdout",
     "output_type": "stream",
     "text": [
      "[2020-01-15 00:24:05,331] WARNING - Module `pet_regression` already loaded, using existing imported module.\n"
     ]
    }
   ],
   "source": [
    "from bentoml import load\n",
    "\n",
    "service = load(saved_path)\n",
    "\n",
    "# service.predict(data.get(0))"
   ]
  },
  {
   "cell_type": "code",
   "execution_count": 20,
   "metadata": {},
   "outputs": [
    {
     "name": "stdout",
     "output_type": "stream",
     "text": [
      "Processing /Users/HenryDashwood/bentoml/repository/PetRegression/20200115001404_6FC750\n",
      "Requirement already satisfied, skipping upgrade: bentoml==0.5.8 in /Users/HenryDashwood/.pyenv/versions/miniconda3-latest/lib/python3.7/site-packages (from PetRegression===20200115001404-6FC750) (0.5.8)\n",
      "Requirement already satisfied, skipping upgrade: gevent in /Users/HenryDashwood/.pyenv/versions/miniconda3-latest/lib/python3.7/site-packages (from PetRegression===20200115001404-6FC750) (1.4.0)\n",
      "Requirement already satisfied, skipping upgrade: pillow==6.2.2 in /Users/HenryDashwood/.pyenv/versions/miniconda3-latest/lib/python3.7/site-packages (from PetRegression===20200115001404-6FC750) (6.2.2)\n",
      "Requirement already satisfied, skipping upgrade: fastai in /Users/HenryDashwood/.pyenv/versions/miniconda3-latest/lib/python3.7/site-packages (from PetRegression===20200115001404-6FC750) (1.0.60)\n",
      "Requirement already satisfied, skipping upgrade: imageio in /Users/HenryDashwood/.pyenv/versions/miniconda3-latest/lib/python3.7/site-packages (from PetRegression===20200115001404-6FC750) (2.6.1)\n",
      "Requirement already satisfied, skipping upgrade: click>=7.0 in /Users/HenryDashwood/.pyenv/versions/miniconda3-latest/lib/python3.7/site-packages (from bentoml==0.5.8->PetRegression===20200115001404-6FC750) (7.0)\n",
      "Requirement already satisfied, skipping upgrade: python-json-logger in /Users/HenryDashwood/.pyenv/versions/miniconda3-latest/lib/python3.7/site-packages (from bentoml==0.5.8->PetRegression===20200115001404-6FC750) (0.1.11)\n",
      "Requirement already satisfied, skipping upgrade: numpy in /Users/HenryDashwood/.pyenv/versions/miniconda3-latest/lib/python3.7/site-packages (from bentoml==0.5.8->PetRegression===20200115001404-6FC750) (1.18.1)\n",
      "Requirement already satisfied, skipping upgrade: prometheus-client in /Users/HenryDashwood/.pyenv/versions/miniconda3-latest/lib/python3.7/site-packages (from bentoml==0.5.8->PetRegression===20200115001404-6FC750) (0.7.1)\n",
      "Requirement already satisfied, skipping upgrade: docker in /Users/HenryDashwood/.pyenv/versions/miniconda3-latest/lib/python3.7/site-packages (from bentoml==0.5.8->PetRegression===20200115001404-6FC750) (4.0.2)\n",
      "Requirement already satisfied, skipping upgrade: requests in /Users/HenryDashwood/.pyenv/versions/miniconda3-latest/lib/python3.7/site-packages (from bentoml==0.5.8->PetRegression===20200115001404-6FC750) (2.22.0)\n",
      "Requirement already satisfied, skipping upgrade: flask in /Users/HenryDashwood/.local/lib/python3.7/site-packages (from bentoml==0.5.8->PetRegression===20200115001404-6FC750) (1.0.4)\n",
      "Requirement already satisfied, skipping upgrade: humanfriendly in /Users/HenryDashwood/.pyenv/versions/miniconda3-latest/lib/python3.7/site-packages (from bentoml==0.5.8->PetRegression===20200115001404-6FC750) (4.18)\n",
      "Requirement already satisfied, skipping upgrade: ruamel.yaml>=0.15.0 in /Users/HenryDashwood/.pyenv/versions/miniconda3-latest/lib/python3.7/site-packages (from bentoml==0.5.8->PetRegression===20200115001404-6FC750) (0.16.5)\n",
      "Requirement already satisfied, skipping upgrade: packaging in /Users/HenryDashwood/.pyenv/versions/miniconda3-latest/lib/python3.7/site-packages (from bentoml==0.5.8->PetRegression===20200115001404-6FC750) (19.2)\n",
      "Requirement already satisfied, skipping upgrade: gunicorn in /Users/HenryDashwood/.pyenv/versions/miniconda3-latest/lib/python3.7/site-packages (from bentoml==0.5.8->PetRegression===20200115001404-6FC750) (20.0.0)\n",
      "Requirement already satisfied, skipping upgrade: configparser in /Users/HenryDashwood/.pyenv/versions/miniconda3-latest/lib/python3.7/site-packages (from bentoml==0.5.8->PetRegression===20200115001404-6FC750) (4.0.2)\n",
      "Requirement already satisfied, skipping upgrade: cerberus in /Users/HenryDashwood/.pyenv/versions/miniconda3-latest/lib/python3.7/site-packages (from bentoml==0.5.8->PetRegression===20200115001404-6FC750) (1.3.2)\n",
      "Requirement already satisfied, skipping upgrade: sqlalchemy>=1.3.0 in /Users/HenryDashwood/.pyenv/versions/miniconda3-latest/lib/python3.7/site-packages (from bentoml==0.5.8->PetRegression===20200115001404-6FC750) (1.3.11)\n",
      "Requirement already satisfied, skipping upgrade: boto3 in /Users/HenryDashwood/.pyenv/versions/miniconda3-latest/lib/python3.7/site-packages (from bentoml==0.5.8->PetRegression===20200115001404-6FC750) (1.10.16)\n",
      "Requirement already satisfied, skipping upgrade: protobuf>=3.6.0 in /Users/HenryDashwood/.pyenv/versions/miniconda3-latest/lib/python3.7/site-packages (from bentoml==0.5.8->PetRegression===20200115001404-6FC750) (3.10.0)\n",
      "Requirement already satisfied, skipping upgrade: grpcio in /Users/HenryDashwood/.pyenv/versions/miniconda3-latest/lib/python3.7/site-packages (from bentoml==0.5.8->PetRegression===20200115001404-6FC750) (1.25.0)\n",
      "Requirement already satisfied, skipping upgrade: pandas in /Users/HenryDashwood/.pyenv/versions/miniconda3-latest/lib/python3.7/site-packages (from bentoml==0.5.8->PetRegression===20200115001404-6FC750) (0.25.3)\n",
      "Requirement already satisfied, skipping upgrade: tabulate in /Users/HenryDashwood/.pyenv/versions/miniconda3-latest/lib/python3.7/site-packages (from bentoml==0.5.8->PetRegression===20200115001404-6FC750) (0.8.5)\n",
      "Requirement already satisfied, skipping upgrade: python-dateutil<2.8.1,>=2.1 in /Users/HenryDashwood/.local/lib/python3.7/site-packages (from bentoml==0.5.8->PetRegression===20200115001404-6FC750) (2.8.0)\n",
      "Requirement already satisfied, skipping upgrade: alembic in /Users/HenryDashwood/.pyenv/versions/miniconda3-latest/lib/python3.7/site-packages (from bentoml==0.5.8->PetRegression===20200115001404-6FC750) (1.3.0)\n",
      "Requirement already satisfied, skipping upgrade: greenlet>=0.4.14; platform_python_implementation == \"CPython\" in /Users/HenryDashwood/.pyenv/versions/miniconda3-latest/lib/python3.7/site-packages (from gevent->PetRegression===20200115001404-6FC750) (0.4.15)\n",
      "Requirement already satisfied, skipping upgrade: torch>=1.0.0 in /Users/HenryDashwood/.pyenv/versions/miniconda3-latest/lib/python3.7/site-packages (from fastai->PetRegression===20200115001404-6FC750) (1.3.1)\n",
      "Requirement already satisfied, skipping upgrade: pynvx>=1.0.0; platform_system == \"Darwin\" in /Users/HenryDashwood/.pyenv/versions/miniconda3-latest/lib/python3.7/site-packages (from fastai->PetRegression===20200115001404-6FC750) (1.0.0)\n",
      "Requirement already satisfied, skipping upgrade: torchvision in /Users/HenryDashwood/.pyenv/versions/miniconda3-latest/lib/python3.7/site-packages (from fastai->PetRegression===20200115001404-6FC750) (0.4.2)\n",
      "Requirement already satisfied, skipping upgrade: matplotlib in /Users/HenryDashwood/.pyenv/versions/miniconda3-latest/lib/python3.7/site-packages (from fastai->PetRegression===20200115001404-6FC750) (3.1.1)\n",
      "Requirement already satisfied, skipping upgrade: bottleneck in /Users/HenryDashwood/.pyenv/versions/miniconda3-latest/lib/python3.7/site-packages (from fastai->PetRegression===20200115001404-6FC750) (1.2.1)\n",
      "Requirement already satisfied, skipping upgrade: numexpr in /Users/HenryDashwood/.pyenv/versions/miniconda3-latest/lib/python3.7/site-packages (from fastai->PetRegression===20200115001404-6FC750) (2.7.0)\n",
      "Requirement already satisfied, skipping upgrade: pyyaml in /Users/HenryDashwood/.pyenv/versions/miniconda3-latest/lib/python3.7/site-packages (from fastai->PetRegression===20200115001404-6FC750) (5.2)\n",
      "Requirement already satisfied, skipping upgrade: beautifulsoup4 in /Users/HenryDashwood/.pyenv/versions/miniconda3-latest/lib/python3.7/site-packages (from fastai->PetRegression===20200115001404-6FC750) (4.8.1)\n",
      "Requirement already satisfied, skipping upgrade: scipy in /Users/HenryDashwood/.pyenv/versions/miniconda3-latest/lib/python3.7/site-packages (from fastai->PetRegression===20200115001404-6FC750) (1.3.2)\n",
      "Requirement already satisfied, skipping upgrade: spacy>=2.0.18 in /Users/HenryDashwood/.pyenv/versions/miniconda3-latest/lib/python3.7/site-packages (from fastai->PetRegression===20200115001404-6FC750) (2.2.2)\n",
      "Requirement already satisfied, skipping upgrade: nvidia-ml-py3 in /Users/HenryDashwood/.pyenv/versions/miniconda3-latest/lib/python3.7/site-packages (from fastai->PetRegression===20200115001404-6FC750) (7.352.0)\n",
      "Requirement already satisfied, skipping upgrade: fastprogress>=0.2.1 in /Users/HenryDashwood/.pyenv/versions/miniconda3-latest/lib/python3.7/site-packages (from fastai->PetRegression===20200115001404-6FC750) (0.2.2)\n",
      "Requirement already satisfied, skipping upgrade: websocket-client>=0.32.0 in /Users/HenryDashwood/.pyenv/versions/miniconda3-latest/lib/python3.7/site-packages (from docker->bentoml==0.5.8->PetRegression===20200115001404-6FC750) (0.56.0)\n",
      "Requirement already satisfied, skipping upgrade: six>=1.4.0 in /Users/HenryDashwood/.local/lib/python3.7/site-packages (from docker->bentoml==0.5.8->PetRegression===20200115001404-6FC750) (1.11.0)\n",
      "Requirement already satisfied, skipping upgrade: urllib3!=1.25.0,!=1.25.1,<1.26,>=1.21.1 in /Users/HenryDashwood/.local/lib/python3.7/site-packages (from requests->bentoml==0.5.8->PetRegression===20200115001404-6FC750) (1.22)\n",
      "Requirement already satisfied, skipping upgrade: chardet<3.1.0,>=3.0.2 in /Users/HenryDashwood/.pyenv/versions/miniconda3-latest/lib/python3.7/site-packages (from requests->bentoml==0.5.8->PetRegression===20200115001404-6FC750) (3.0.4)\n",
      "Requirement already satisfied, skipping upgrade: idna<2.9,>=2.5 in /Users/HenryDashwood/.local/lib/python3.7/site-packages (from requests->bentoml==0.5.8->PetRegression===20200115001404-6FC750) (2.6)\n",
      "Requirement already satisfied, skipping upgrade: certifi>=2017.4.17 in /Users/HenryDashwood/.pyenv/versions/miniconda3-latest/lib/python3.7/site-packages (from requests->bentoml==0.5.8->PetRegression===20200115001404-6FC750) (2019.11.28)\n",
      "Requirement already satisfied, skipping upgrade: Werkzeug>=0.14 in /Users/HenryDashwood/.pyenv/versions/miniconda3-latest/lib/python3.7/site-packages (from flask->bentoml==0.5.8->PetRegression===20200115001404-6FC750) (0.16.0)\n",
      "Requirement already satisfied, skipping upgrade: Jinja2>=2.10 in /Users/HenryDashwood/.pyenv/versions/miniconda3-latest/lib/python3.7/site-packages (from flask->bentoml==0.5.8->PetRegression===20200115001404-6FC750) (2.10.3)\n",
      "Requirement already satisfied, skipping upgrade: itsdangerous>=0.24 in /Users/HenryDashwood/.pyenv/versions/miniconda3-latest/lib/python3.7/site-packages (from flask->bentoml==0.5.8->PetRegression===20200115001404-6FC750) (1.1.0)\n",
      "Requirement already satisfied, skipping upgrade: ruamel.yaml.clib>=0.1.2; platform_python_implementation == \"CPython\" and python_version < \"3.8\" in /Users/HenryDashwood/.pyenv/versions/miniconda3-latest/lib/python3.7/site-packages (from ruamel.yaml>=0.15.0->bentoml==0.5.8->PetRegression===20200115001404-6FC750) (0.2.0)\n",
      "Requirement already satisfied, skipping upgrade: pyparsing>=2.0.2 in /Users/HenryDashwood/.pyenv/versions/miniconda3-latest/lib/python3.7/site-packages (from packaging->bentoml==0.5.8->PetRegression===20200115001404-6FC750) (2.4.5)\n",
      "Requirement already satisfied, skipping upgrade: setuptools>=3.0 in /Users/HenryDashwood/.local/lib/python3.7/site-packages (from gunicorn->bentoml==0.5.8->PetRegression===20200115001404-6FC750) (41.4.0)\n",
      "Requirement already satisfied, skipping upgrade: jmespath<1.0.0,>=0.7.1 in /Users/HenryDashwood/.local/lib/python3.7/site-packages (from boto3->bentoml==0.5.8->PetRegression===20200115001404-6FC750) (0.9.4)\n",
      "Requirement already satisfied, skipping upgrade: botocore<1.14.0,>=1.13.16 in /Users/HenryDashwood/.pyenv/versions/miniconda3-latest/lib/python3.7/site-packages (from boto3->bentoml==0.5.8->PetRegression===20200115001404-6FC750) (1.13.50)\n",
      "Requirement already satisfied, skipping upgrade: s3transfer<0.3.0,>=0.2.0 in /Users/HenryDashwood/.pyenv/versions/miniconda3-latest/lib/python3.7/site-packages (from boto3->bentoml==0.5.8->PetRegression===20200115001404-6FC750) (0.2.1)\n",
      "Requirement already satisfied, skipping upgrade: pytz>=2017.2 in /Users/HenryDashwood/.pyenv/versions/miniconda3-latest/lib/python3.7/site-packages (from pandas->bentoml==0.5.8->PetRegression===20200115001404-6FC750) (2019.3)\n",
      "Requirement already satisfied, skipping upgrade: python-editor>=0.3 in /Users/HenryDashwood/.pyenv/versions/miniconda3-latest/lib/python3.7/site-packages (from alembic->bentoml==0.5.8->PetRegression===20200115001404-6FC750) (1.0.4)\n",
      "Requirement already satisfied, skipping upgrade: Mako in /Users/HenryDashwood/.pyenv/versions/miniconda3-latest/lib/python3.7/site-packages (from alembic->bentoml==0.5.8->PetRegression===20200115001404-6FC750) (1.1.0)\n",
      "Requirement already satisfied, skipping upgrade: kiwisolver>=1.0.1 in /Users/HenryDashwood/.pyenv/versions/miniconda3-latest/lib/python3.7/site-packages (from matplotlib->fastai->PetRegression===20200115001404-6FC750) (1.1.0)\n",
      "Requirement already satisfied, skipping upgrade: cycler>=0.10 in /Users/HenryDashwood/.pyenv/versions/miniconda3-latest/lib/python3.7/site-packages (from matplotlib->fastai->PetRegression===20200115001404-6FC750) (0.10.0)\n",
      "Requirement already satisfied, skipping upgrade: soupsieve>=1.2 in /Users/HenryDashwood/.pyenv/versions/miniconda3-latest/lib/python3.7/site-packages (from beautifulsoup4->fastai->PetRegression===20200115001404-6FC750) (1.9.5)\n",
      "Requirement already satisfied, skipping upgrade: blis<0.5.0,>=0.4.0 in /Users/HenryDashwood/.pyenv/versions/miniconda3-latest/lib/python3.7/site-packages (from spacy>=2.0.18->fastai->PetRegression===20200115001404-6FC750) (0.4.1)\n",
      "Requirement already satisfied, skipping upgrade: importlib-metadata>=0.20; python_version < \"3.8\" in /Users/HenryDashwood/.pyenv/versions/miniconda3-latest/lib/python3.7/site-packages (from spacy>=2.0.18->fastai->PetRegression===20200115001404-6FC750) (0.23)\n",
      "Requirement already satisfied, skipping upgrade: thinc<7.4.0,>=7.3.0 in /Users/HenryDashwood/.pyenv/versions/miniconda3-latest/lib/python3.7/site-packages (from spacy>=2.0.18->fastai->PetRegression===20200115001404-6FC750) (7.3.1)\n",
      "Requirement already satisfied, skipping upgrade: wasabi<1.1.0,>=0.3.0 in /Users/HenryDashwood/.pyenv/versions/miniconda3-latest/lib/python3.7/site-packages (from spacy>=2.0.18->fastai->PetRegression===20200115001404-6FC750) (0.4.0)\n",
      "Requirement already satisfied, skipping upgrade: srsly<1.1.0,>=0.1.0 in /Users/HenryDashwood/.pyenv/versions/miniconda3-latest/lib/python3.7/site-packages (from spacy>=2.0.18->fastai->PetRegression===20200115001404-6FC750) (0.2.0)\n",
      "Requirement already satisfied, skipping upgrade: preshed<3.1.0,>=3.0.2 in /Users/HenryDashwood/.pyenv/versions/miniconda3-latest/lib/python3.7/site-packages (from spacy>=2.0.18->fastai->PetRegression===20200115001404-6FC750) (3.0.2)\n",
      "Requirement already satisfied, skipping upgrade: cymem<2.1.0,>=2.0.2 in /Users/HenryDashwood/.pyenv/versions/miniconda3-latest/lib/python3.7/site-packages (from spacy>=2.0.18->fastai->PetRegression===20200115001404-6FC750) (2.0.2)\n",
      "Requirement already satisfied, skipping upgrade: murmurhash<1.1.0,>=0.28.0 in /Users/HenryDashwood/.pyenv/versions/miniconda3-latest/lib/python3.7/site-packages (from spacy>=2.0.18->fastai->PetRegression===20200115001404-6FC750) (1.0.2)\n",
      "Requirement already satisfied, skipping upgrade: plac<1.2.0,>=0.9.6 in /Users/HenryDashwood/.pyenv/versions/miniconda3-latest/lib/python3.7/site-packages (from spacy>=2.0.18->fastai->PetRegression===20200115001404-6FC750) (1.1.3)\n",
      "Requirement already satisfied, skipping upgrade: MarkupSafe>=0.23 in /Users/HenryDashwood/.pyenv/versions/miniconda3-latest/lib/python3.7/site-packages (from Jinja2>=2.10->flask->bentoml==0.5.8->PetRegression===20200115001404-6FC750) (1.1.1)\n",
      "Requirement already satisfied, skipping upgrade: docutils<0.16,>=0.10 in /Users/HenryDashwood/.pyenv/versions/miniconda3-latest/lib/python3.7/site-packages (from botocore<1.14.0,>=1.13.16->boto3->bentoml==0.5.8->PetRegression===20200115001404-6FC750) (0.15.2)\n",
      "Requirement already satisfied, skipping upgrade: zipp>=0.5 in /Users/HenryDashwood/.pyenv/versions/miniconda3-latest/lib/python3.7/site-packages (from importlib-metadata>=0.20; python_version < \"3.8\"->spacy>=2.0.18->fastai->PetRegression===20200115001404-6FC750) (0.6.0)\n",
      "Requirement already satisfied, skipping upgrade: tqdm<5.0.0,>=4.10.0 in /Users/HenryDashwood/.pyenv/versions/miniconda3-latest/lib/python3.7/site-packages (from thinc<7.4.0,>=7.3.0->spacy>=2.0.18->fastai->PetRegression===20200115001404-6FC750) (4.40.2)\n",
      "Requirement already satisfied, skipping upgrade: more-itertools in /Users/HenryDashwood/.pyenv/versions/miniconda3-latest/lib/python3.7/site-packages (from zipp>=0.5->importlib-metadata>=0.20; python_version < \"3.8\"->spacy>=2.0.18->fastai->PetRegression===20200115001404-6FC750) (7.2.0)\n",
      "Building wheels for collected packages: PetRegression\n",
      "  Building wheel for PetRegression (setup.py) ... \u001b[?25ldone\n",
      "\u001b[?25h  Created wheel for PetRegression: filename=PetRegression-20200115001404_6FC750-cp37-none-any.whl size=51630640 sha256=d36888f198a7811402a817b7db833343bf17111dbd3fd731ca864c2580334696\n",
      "  Stored in directory: /private/var/folders/yl/c5z1v7897q3g9ywlj63pm0840000gn/T/pip-ephem-wheel-cache-zdoybre5/wheels/a5/9a/38/d0bffe1c47434ff09f814afa90078daeab1f2ec66a743cb7a2\n",
      "Successfully built PetRegression\n",
      "Installing collected packages: PetRegression\n",
      "  Found existing installation: PetRegression 20200111142212-CD8126\n",
      "    Uninstalling PetRegression-20200111142212-CD8126:\n",
      "      Successfully uninstalled PetRegression-20200111142212-CD8126\n",
      "Successfully installed PetRegression-20200115001404-6FC750\n"
     ]
    }
   ],
   "source": [
    "!pip install --upgrade {saved_path}"
   ]
  },
  {
   "cell_type": "code",
   "execution_count": 30,
   "metadata": {},
   "outputs": [],
   "source": [
    "# !PetRegression predict --input=../data/resized_images/Abyssinian_1.jpg"
   ]
  },
  {
   "cell_type": "code",
   "execution_count": 22,
   "metadata": {},
   "outputs": [
    {
     "name": "stdout",
     "output_type": "stream",
     "text": [
      "PetRegression:20200115001404_6FC750\n"
     ]
    }
   ],
   "source": [
    "bento_tag = '{name}:{version}'.format(name=service.name, version=service.version)\n",
    "print(bento_tag)"
   ]
  },
  {
   "cell_type": "code",
   "execution_count": 28,
   "metadata": {},
   "outputs": [
    {
     "name": "stdout",
     "output_type": "stream",
     "text": [
      "[2020-01-15 00:22:36,955] INFO - Step 1/11 : FROM continuumio/miniconda3:4.7.12\n",
      "[2020-01-15 00:22:36,956] INFO - \n",
      "\n",
      "[2020-01-15 00:22:36,956] INFO -  ---> 406f2b43ea59\n",
      "\n",
      "[2020-01-15 00:22:36,957] INFO - Step 2/11 : EXPOSE 8080\n",
      "[2020-01-15 00:22:36,957] INFO - \n",
      "\n",
      "[2020-01-15 00:22:36,957] INFO -  ---> Using cache\n",
      "\n",
      "[2020-01-15 00:22:36,958] INFO -  ---> c23188fe3fc7\n",
      "\n",
      "[2020-01-15 00:22:36,958] INFO - Step 3/11 : RUN set -x      && apt-get update      && apt-get install --no-install-recommends --no-install-suggests -y libpq-dev build-essential     && apt-get install -y nginx      && rm -rf /var/lib/apt/lists/*\n",
      "[2020-01-15 00:22:36,958] INFO - \n",
      "\n",
      "[2020-01-15 00:22:36,959] INFO -  ---> Using cache\n",
      "\n",
      "[2020-01-15 00:22:36,959] INFO -  ---> 9b55024636fa\n",
      "\n",
      "[2020-01-15 00:22:36,959] INFO - Step 4/11 : RUN conda install pip numpy scipy       && pip install gunicorn gevent\n",
      "[2020-01-15 00:22:36,960] INFO - \n",
      "\n",
      "[2020-01-15 00:22:36,960] INFO -  ---> Using cache\n",
      "\n",
      "[2020-01-15 00:22:36,960] INFO -  ---> acbb0c3105a7\n",
      "\n",
      "[2020-01-15 00:22:36,961] INFO - Step 5/11 : COPY . /opt/program\n",
      "[2020-01-15 00:22:36,961] INFO - \n",
      "\n",
      "Traceback (most recent call last):\n",
      "  File \"/Users/HenryDashwood/.pyenv/versions/miniconda3-latest/bin/bentoml\", line 8, in <module>\n",
      "    sys.exit(cli())\n",
      "  File \"/Users/HenryDashwood/.pyenv/versions/miniconda3-latest/lib/python3.7/site-packages/click/core.py\", line 764, in __call__\n",
      "    return self.main(*args, **kwargs)\n",
      "  File \"/Users/HenryDashwood/.pyenv/versions/miniconda3-latest/lib/python3.7/site-packages/click/core.py\", line 717, in main\n",
      "    rv = self.invoke(ctx)\n",
      "  File \"/Users/HenryDashwood/.pyenv/versions/miniconda3-latest/lib/python3.7/site-packages/click/core.py\", line 1137, in invoke\n",
      "    return _process_result(sub_ctx.command.invoke(sub_ctx))\n",
      "  File \"/Users/HenryDashwood/.pyenv/versions/miniconda3-latest/lib/python3.7/site-packages/click/core.py\", line 1137, in invoke\n",
      "    return _process_result(sub_ctx.command.invoke(sub_ctx))\n",
      "  File \"/Users/HenryDashwood/.pyenv/versions/miniconda3-latest/lib/python3.7/site-packages/click/core.py\", line 956, in invoke\n",
      "    return ctx.invoke(self.callback, **ctx.params)\n",
      "  File \"/Users/HenryDashwood/.pyenv/versions/miniconda3-latest/lib/python3.7/site-packages/click/core.py\", line 555, in invoke\n",
      "    return callback(*args, **kwargs)\n",
      "  File \"/Users/HenryDashwood/.pyenv/versions/miniconda3-latest/lib/python3.7/site-packages/bentoml/cli/deployment.py\", line 330, in create\n",
      "    yatai_service,\n",
      "  File \"/Users/HenryDashwood/.pyenv/versions/miniconda3-latest/lib/python3.7/site-packages/bentoml/yatai/python_api.py\", line 289, in create_deployment\n",
      "    apply_response = apply_deployment(deployment_dict, yatai_service)\n",
      "  File \"/Users/HenryDashwood/.pyenv/versions/miniconda3-latest/lib/python3.7/site-packages/bentoml/yatai/python_api.py\", line 336, in apply_deployment\n",
      "    ApplyDeploymentRequest(deployment=deployment_pb)\n",
      "  File \"/Users/HenryDashwood/.pyenv/versions/miniconda3-latest/lib/python3.7/site-packages/bentoml/yatai/yatai_service_impl.py\", line 106, in ApplyDeployment\n",
      "    response = operator.add(request.deployment)\n",
      "  File \"/Users/HenryDashwood/.pyenv/versions/miniconda3-latest/lib/python3.7/site-packages/bentoml/deployment/sagemaker/__init__.py\", line 467, in add\n",
      "    return self._add(deployment_pb, bento_pb, bento_pb.bento.uri.uri)\n",
      "  File \"/Users/HenryDashwood/.pyenv/versions/miniconda3-latest/lib/python3.7/site-packages/bentoml/deployment/sagemaker/__init__.py\", line 499, in _add\n",
      "    sagemaker_project_dir,\n",
      "  File \"/Users/HenryDashwood/.pyenv/versions/miniconda3-latest/lib/python3.7/site-packages/bentoml/deployment/sagemaker/__init__.py\", line 181, in create_and_push_docker_image_to_ecr\n",
      "    process_docker_api_line(line)\n",
      "  File \"/Users/HenryDashwood/.pyenv/versions/miniconda3-latest/lib/python3.7/site-packages/bentoml/deployment/utils.py\", line 51, in process_docker_api_line\n",
      "    error[\"code\"], error['message']\n",
      "KeyError: 'code'\n"
     ]
    }
   ],
   "source": [
    "!bentoml deployment create facial-features-detector --bento {bento_tag} --platform aws-sagemaker --api-name predict --region us-east-1 --instance-type ml.t2.medium"
   ]
  },
  {
   "cell_type": "code",
   "execution_count": 29,
   "metadata": {},
   "outputs": [
    {
     "name": "stdout",
     "output_type": "stream",
     "text": [
      "[2020-01-15 00:23:46,387] DEBUG - Using BentoML with local Yatai server\n",
      "[2020-01-15 00:23:46,580] DEBUG - Upgrading tables to the latest revision\n",
      "[2020-01-15 00:23:48,108] ERROR - AWS ClientError - operation: DeleteEndpoint, code: ValidationException, message: Could not find endpoint \"arn:aws:sagemaker:us-east-1:235858150097:endpoint/dev-facial-features-detector\".\n",
      "\u001b[32mSuccessfully deleted deployment \"facial-features-detector\"\u001b[0m\n"
     ]
    }
   ],
   "source": [
    "!bentoml --verbose deployments delete facial-features-detector --force"
   ]
  },
  {
   "cell_type": "code",
   "execution_count": 38,
   "metadata": {},
   "outputs": [],
   "source": [
    "import json\n",
    "import boto3\n",
    "runtime = boto3.Session().client(service_name='sagemaker-runtime')\n",
    "\n",
    "img = open('../data/resized_images/Abyssinian_1.jpg', 'rb').read()\n",
    "    \n",
    "response = runtime.invoke_endpoint(\n",
    "    EndpointName='dev-facial-features-detector', \n",
    "    Body=bytearray(img),\n",
    ")\n",
    "\n",
    "result = response['Body'].read()\n",
    "result = json.loads(result)"
   ]
  },
  {
   "cell_type": "code",
   "execution_count": 39,
   "metadata": {},
   "outputs": [
    {
     "data": {
      "text/plain": [
       "'(ImagePoints (320, 320), tensor([[-0.4128,  0.1322],\\n        [-0.7365,  0.1464],\\n        [-0.6189,  0.2665],\\n        [-0.7248,  0.4663],\\n        [-0.4005,  0.3247],\\n        [-0.2695,  0.2497],\\n        [-0.3914,  0.2126],\\n        [-0.4023,  0.3228],\\n        [-0.2775,  0.2574],\\n        [-0.2962,  0.2582],\\n        [-0.2722,  0.2691]]), tensor([-0.4128,  0.1322, -0.7365,  0.1464, -0.6189,  0.2665, -0.7248,  0.4663,\\n        -0.4005,  0.3247, -0.2695,  0.2497, -0.3914,  0.2126, -0.4023,  0.3228,\\n        -0.2775,  0.2574, -0.2962,  0.2582, -0.2722,  0.2691]))'"
      ]
     },
     "execution_count": 39,
     "metadata": {},
     "output_type": "execute_result"
    }
   ],
   "source": [
    "result['result']"
   ]
  },
  {
   "cell_type": "code",
   "execution_count": 40,
   "metadata": {},
   "outputs": [
    {
     "data": {
      "text/plain": [
       "'(ImagePoints (320, 320), tensor([[-0.5133, -0.5090],\\n        [-0.7960, -0.4386],\\n        [-0.8005, -0.2425],\\n        [-0.8656, -0.0839],\\n        [-0.5567, -0.0082],\\n        [-0.2026, -0.2832],\\n        [-0.5261, -0.3297],\\n        [-0.5509, -0.1878],\\n        [-0.2745, -0.3370],\\n        [-0.3003, -0.2733],\\n        [-0.3027, -0.2223]]), tensor([-0.5133, -0.5090, -0.7960, -0.4386, -0.8005, -0.2425, -0.8656, -0.0839,\\n        -0.5567, -0.0082, -0.2026, -0.2832, -0.5261, -0.3297, -0.5509, -0.1878,\\n        -0.2745, -0.3370, -0.3003, -0.2733, -0.3027, -0.2223]))'"
      ]
     },
     "execution_count": 40,
     "metadata": {},
     "output_type": "execute_result"
    }
   ],
   "source": [
    "str(learn.predict(data.get(0)))"
   ]
  },
  {
   "cell_type": "code",
   "execution_count": null,
   "metadata": {},
   "outputs": [],
   "source": []
  }
 ],
 "metadata": {
  "kernelspec": {
   "display_name": "miniconda3-latest",
   "language": "python",
   "name": "miniconda3-latest"
  },
  "language_info": {
   "codemirror_mode": {
    "name": "ipython",
    "version": 3
   },
   "file_extension": ".py",
   "mimetype": "text/x-python",
   "name": "python",
   "nbconvert_exporter": "python",
   "pygments_lexer": "ipython3",
   "version": "3.7.4"
  }
 },
 "nbformat": 4,
 "nbformat_minor": 4
}
