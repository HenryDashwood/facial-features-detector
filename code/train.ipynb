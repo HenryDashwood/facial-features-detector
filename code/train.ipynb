{
 "cells": [
  {
   "cell_type": "code",
   "execution_count": 1,
   "metadata": {},
   "outputs": [],
   "source": [
    "%reload_ext autoreload\n",
    "%autoreload 2"
   ]
  },
  {
   "cell_type": "code",
   "execution_count": 2,
   "metadata": {},
   "outputs": [],
   "source": [
    "from fastai.vision import *\n",
    "from fastai.callbacks import SaveModelCallback, EarlyStoppingCallback\n",
    "from fastprogress import progress_bar\n",
    "import numpy as np\n",
    "import pandas as pd\n",
    "\n",
    "import torch\n",
    "from  torch import nn"
   ]
  },
  {
   "cell_type": "code",
   "execution_count": 3,
   "metadata": {},
   "outputs": [],
   "source": [
    "images_path = '../data/resized_images'\n",
    "labels_path = '../data/resized_labels.csv'\n",
    "target_size = 320"
   ]
  },
  {
   "cell_type": "code",
   "execution_count": 4,
   "metadata": {},
   "outputs": [],
   "source": [
    "y = pd.read_csv(labels_path, index_col='filename')"
   ]
  },
  {
   "cell_type": "code",
   "execution_count": 5,
   "metadata": {},
   "outputs": [],
   "source": [
    "def get_y_func(x):\n",
    "    filename = str(x).split('/')[-1]\n",
    "    coord_list = []\n",
    "    coords = list(y.loc[filename])\n",
    "    for i in range(len(coords)//2):\n",
    "        coord_list.append([coords[i*2+1],coords[i*2]])\n",
    "    return tensor(coord_list)"
   ]
  },
  {
   "cell_type": "code",
   "execution_count": 6,
   "metadata": {},
   "outputs": [],
   "source": [
    "transforms = get_transforms(\n",
    "    do_flip=False,\n",
    "    max_rotate=45, \n",
    "    max_zoom=1.5, \n",
    "    max_lighting=0.5, \n",
    "    max_warp=0.4, \n",
    "    p_affine=1., \n",
    "    p_lighting=1.\n",
    ") "
   ]
  },
  {
   "cell_type": "code",
   "execution_count": 7,
   "metadata": {},
   "outputs": [],
   "source": [
    "data = (\n",
    "    PointsItemList\n",
    "        .from_folder(images_path)\n",
    "        .split_by_rand_pct(0.15)\n",
    "        .label_from_func(get_y_func)\n",
    "        .transform(\n",
    "            transforms,\n",
    "            size=320,\n",
    "            tfm_y=True, \n",
    "            remove_out=False, \n",
    "            padding_mode='reflection', \n",
    "            resize_method=ResizeMethod.PAD\n",
    "        )\n",
    "        .databunch()\n",
    "        .normalize(imagenet_stats)\n",
    ")"
   ]
  },
  {
   "cell_type": "code",
   "execution_count": 8,
   "metadata": {},
   "outputs": [],
   "source": [
    "# data.show_batch(3, figsize=(6,6))"
   ]
  },
  {
   "cell_type": "code",
   "execution_count": 9,
   "metadata": {},
   "outputs": [],
   "source": [
    "learn = cnn_learner(\n",
    "    data, \n",
    "    models.resnet34, \n",
    "    loss_func=MSELossFlat()\n",
    ")#.to_fp16()"
   ]
  },
  {
   "cell_type": "code",
   "execution_count": 11,
   "metadata": {},
   "outputs": [],
   "source": [
    "learn.path = Path('..')"
   ]
  },
  {
   "cell_type": "code",
   "execution_count": 15,
   "metadata": {},
   "outputs": [
    {
     "data": {
      "text/html": [],
      "text/plain": [
       "<IPython.core.display.HTML object>"
      ]
     },
     "metadata": {},
     "output_type": "display_data"
    },
    {
     "name": "stdout",
     "output_type": "stream",
     "text": [
      "LR Finder is complete, type {learner_name}.recorder.plot() to see the graph.\n"
     ]
    },
    {
     "data": {
      "image/png": "[encoded data removed]",
      "text/plain": [
       "<Figure size 432x288 with 1 Axes>"
      ]
     },
     "metadata": {},
     "output_type": "display_data"
    }
   ],
   "source": [
    "learn.lr_find()\n",
    "learn.recorder.plot()"
   ]
  },
  {
   "cell_type": "code",
   "execution_count": 16,
   "metadata": {},
   "outputs": [
    {
     "data": {
      "text/html": [
       "\n",
       "    <div>\n",
       "        <style>\n",
       "            /* Turns off some styling */\n",
       "            progress {\n",
       "                /* gets rid of default border in Firefox and Opera. */\n",
       "                border: none;\n",
       "                /* Needs to be in here for Safari polyfill so background images work as expected. */\n",
       "                background-size: auto;\n",
       "            }\n",
       "            .progress-bar-interrupted, .progress-bar-interrupted::-webkit-progress-bar {\n",
       "                background: #F44336;\n",
       "            }\n",
       "        </style>\n",
       "      <progress value='12' class='' max='30', style='width:300px; height:20px; vertical-align: middle;'></progress>\n",
       "      40.00% [12/30 14:19<21:29]\n",
       "    </div>\n",
       "    \n",
       "<table border=\"1\" class=\"dataframe\">\n",
       "  <thead>\n",
       "    <tr style=\"text-align: left;\">\n",
       "      <th>epoch</th>\n",
       "      <th>train_loss</th>\n",
       "      <th>valid_loss</th>\n",
       "      <th>time</th>\n",
       "    </tr>\n",
       "  </thead>\n",
       "  <tbody>\n",
       "    <tr>\n",
       "      <td>0</td>\n",
       "      <td>1.042396</td>\n",
       "      <td>0.198158</td>\n",
       "      <td>01:11</td>\n",
       "    </tr>\n",
       "    <tr>\n",
       "      <td>1</td>\n",
       "      <td>0.604568</td>\n",
       "      <td>0.094170</td>\n",
       "      <td>01:10</td>\n",
       "    </tr>\n",
       "    <tr>\n",
       "      <td>2</td>\n",
       "      <td>0.315669</td>\n",
       "      <td>0.060653</td>\n",
       "      <td>01:11</td>\n",
       "    </tr>\n",
       "    <tr>\n",
       "      <td>3</td>\n",
       "      <td>0.202752</td>\n",
       "      <td>0.063023</td>\n",
       "      <td>01:11</td>\n",
       "    </tr>\n",
       "    <tr>\n",
       "      <td>4</td>\n",
       "      <td>0.169145</td>\n",
       "      <td>0.056395</td>\n",
       "      <td>01:11</td>\n",
       "    </tr>\n",
       "    <tr>\n",
       "      <td>5</td>\n",
       "      <td>0.142665</td>\n",
       "      <td>0.048790</td>\n",
       "      <td>01:11</td>\n",
       "    </tr>\n",
       "    <tr>\n",
       "      <td>6</td>\n",
       "      <td>0.105508</td>\n",
       "      <td>0.034817</td>\n",
       "      <td>01:11</td>\n",
       "    </tr>\n",
       "    <tr>\n",
       "      <td>7</td>\n",
       "      <td>0.084674</td>\n",
       "      <td>0.025406</td>\n",
       "      <td>01:11</td>\n",
       "    </tr>\n",
       "    <tr>\n",
       "      <td>8</td>\n",
       "      <td>0.064814</td>\n",
       "      <td>0.016685</td>\n",
       "      <td>01:11</td>\n",
       "    </tr>\n",
       "    <tr>\n",
       "      <td>9</td>\n",
       "      <td>0.073346</td>\n",
       "      <td>0.015950</td>\n",
       "      <td>01:11</td>\n",
       "    </tr>\n",
       "    <tr>\n",
       "      <td>10</td>\n",
       "      <td>0.058177</td>\n",
       "      <td>0.012695</td>\n",
       "      <td>01:10</td>\n",
       "    </tr>\n",
       "    <tr>\n",
       "      <td>11</td>\n",
       "      <td>0.048850</td>\n",
       "      <td>0.012001</td>\n",
       "      <td>01:11</td>\n",
       "    </tr>\n",
       "  </tbody>\n",
       "</table><p>\n",
       "\n",
       "    <div>\n",
       "        <style>\n",
       "            /* Turns off some styling */\n",
       "            progress {\n",
       "                /* gets rid of default border in Firefox and Opera. */\n",
       "                border: none;\n",
       "                /* Needs to be in here for Safari polyfill so background images work as expected. */\n",
       "                background-size: auto;\n",
       "            }\n",
       "            .progress-bar-interrupted, .progress-bar-interrupted::-webkit-progress-bar {\n",
       "                background: #F44336;\n",
       "            }\n",
       "        </style>\n",
       "      <progress value='15' class='' max='15', style='width:300px; height:20px; vertical-align: middle;'></progress>\n",
       "      100.00% [15/15 00:05<00:00]\n",
       "    </div>\n",
       "    "
      ],
      "text/plain": [
       "<IPython.core.display.HTML object>"
      ]
     },
     "metadata": {},
     "output_type": "display_data"
    },
    {
     "name": "stdout",
     "output_type": "stream",
     "text": [
      "Better model found at epoch 0 with valid_loss value: 0.19815798103809357.\n",
      "Better model found at epoch 1 with valid_loss value: 0.09417025744915009.\n",
      "Better model found at epoch 2 with valid_loss value: 0.060653455555438995.\n",
      "Better model found at epoch 4 with valid_loss value: 0.05639549344778061.\n",
      "Better model found at epoch 5 with valid_loss value: 0.048790331929922104.\n",
      "Better model found at epoch 6 with valid_loss value: 0.03481731191277504.\n",
      "Better model found at epoch 7 with valid_loss value: 0.025406161323189735.\n",
      "Better model found at epoch 8 with valid_loss value: 0.016685357317328453.\n",
      "Better model found at epoch 9 with valid_loss value: 0.015950292348861694.\n",
      "Better model found at epoch 10 with valid_loss value: 0.012695029377937317.\n",
      "Better model found at epoch 11 with valid_loss value: 0.012000830844044685.\n",
      "Epoch 12: early stopping\n"
     ]
    }
   ],
   "source": [
    "learn.freeze_to(-1)\n",
    "learn.fit_one_cycle(\n",
    "    30, \n",
    "    slice(1e-2), \n",
    "    callbacks=[\n",
    "        SaveModelCallback(learn, every='improvement', monitor='valid_loss', name='resnet34_frozen_to_-1'),\n",
    "        EarlyStoppingCallback(learn, monitor='valid_loss', min_delta=0.01, patience=3)\n",
    "    ]\n",
    ")"
   ]
  },
  {
   "cell_type": "code",
   "execution_count": 12,
   "metadata": {},
   "outputs": [],
   "source": [
    "learn = learn.load('fastai_model')\n",
    "# learn = learn.to_fp32()\n",
    "# learn.save('fastai_model')"
   ]
  },
  {
   "cell_type": "code",
   "execution_count": 13,
   "metadata": {},
   "outputs": [],
   "source": [
    "# learn.show_results(rows=10)"
   ]
  },
  {
   "cell_type": "code",
   "execution_count": 14,
   "metadata": {},
   "outputs": [
    {
     "name": "stdout",
     "output_type": "stream",
     "text": [
      "Overwriting pet_regression.py\n"
     ]
    }
   ],
   "source": [
    "%%writefile pet_regression.py\n",
    "from bentoml import BentoService, api, env, artifacts \n",
    "from bentoml.artifact import FastaiModelArtifact\n",
    "from bentoml.handlers import FastaiImageHandler\n",
    "\n",
    "@env(pip_dependencies=['fastai'])\n",
    "@artifacts([FastaiModelArtifact('pet_regressor')])\n",
    "class PetRegression(BentoService):\n",
    "    \n",
    "    @api(FastaiImageHandler)\n",
    "    def predict(self, image):\n",
    "        result = self.artifacts.pet_regressor.predict(image)\n",
    "        return str(result)"
   ]
  },
  {
   "cell_type": "code",
   "execution_count": 15,
   "metadata": {},
   "outputs": [
    {
     "name": "stdout",
     "output_type": "stream",
     "text": [
      "[2019-11-17 16:11:11,323] INFO - Successfully saved Bento 'PetRegression:20191117161038_E7781A' to path: /Users/HenryDashwood/bentoml/repository/PetRegression/20191117161038_E7781A\n"
     ]
    }
   ],
   "source": [
    "# 1) import the custom BentoService defined above\n",
    "from pet_regression import PetRegression\n",
    "\n",
    "# 2) `pack` it with required artifacts\n",
    "service = PetRegression.pack(pet_regressor=learn)\n",
    "\n",
    "# 3) save your BentoSerivce\n",
    "saved_path = service.save()"
   ]
  },
  {
   "cell_type": "code",
   "execution_count": 16,
   "metadata": {},
   "outputs": [
    {
     "name": "stdout",
     "output_type": "stream",
     "text": [
      "[2019-11-17 16:11:16,184] WARNING - Module `pet_regression` already loaded, using existing imported module.\n",
      "(ImagePoints (320, 320), tensor([[-0.2351, -0.2560],\n",
      "        [-0.4411, -0.2174],\n",
      "        [-0.4887,  0.1409],\n",
      "        [-0.3563,  0.3775],\n",
      "        [-0.0818,  0.4484],\n",
      "        [ 0.1933, -0.0060],\n",
      "        [-0.2732, -0.0603],\n",
      "        [-0.2323,  0.2372],\n",
      "        [ 0.1059, -0.0733],\n",
      "        [ 0.0767,  0.0006],\n",
      "        [ 0.1394,  0.0717]]), tensor([-0.2351, -0.2560, -0.4411, -0.2174, -0.4887,  0.1409, -0.3563,  0.3775,\n",
      "        -0.0818,  0.4484,  0.1933, -0.0060, -0.2732, -0.0603, -0.2323,  0.2372,\n",
      "         0.1059, -0.0733,  0.0767,  0.0006,  0.1394,  0.0717]))\n"
     ]
    }
   ],
   "source": [
    "from bentoml import load\n",
    "\n",
    "service = load(saved_path)\n",
    "\n",
    "print(service.predict(data.get(0)))"
   ]
  },
  {
   "cell_type": "code",
   "execution_count": 17,
   "metadata": {},
   "outputs": [
    {
     "name": "stdout",
     "output_type": "stream",
     "text": [
      "Processing /Users/HenryDashwood/bentoml/repository/PetRegression/20191117161038_E7781A\n",
      "Building wheels for collected packages: PetRegression\n",
      "  Building wheel for PetRegression (setup.py) ... \u001b[?25ldone\n",
      "\u001b[?25h  Created wheel for PetRegression: filename=PetRegression-20191117161038_E7781A-cp37-none-any.whl size=51630663 sha256=025a4615c0fa53435e0ec08f506e77820ddc2dbc06c652bc58f26fc33745d4d2\n",
      "  Stored in directory: /private/var/folders/yl/c5z1v7897q3g9ywlj63pm0840000gn/T/pip-ephem-wheel-cache-p_nd_nj4/wheels/29/04/35/fa655cae688b674d950e883f85a3b2da416879c2188432fb00\n",
      "Successfully built PetRegression\n",
      "Installing collected packages: PetRegression\n",
      "  Found existing installation: PetRegression 20191117153046.post82366\n",
      "    Uninstalling PetRegression-20191117153046.post82366:\n",
      "      Successfully uninstalled PetRegression-20191117153046.post82366\n",
      "Successfully installed PetRegression-20191117161038-E7781A\n"
     ]
    }
   ],
   "source": [
    "!pip install --upgrade {saved_path}"
   ]
  },
  {
   "cell_type": "code",
   "execution_count": 18,
   "metadata": {},
   "outputs": [
    {
     "name": "stdout",
     "output_type": "stream",
     "text": [
      "(ImagePoints (320, 320), tensor([[-0.4128,  0.1322],\n",
      "        [-0.7365,  0.1464],\n",
      "        [-0.6189,  0.2665],\n",
      "        [-0.7248,  0.4663],\n",
      "        [-0.4005,  0.3247],\n",
      "        [-0.2695,  0.2497],\n",
      "        [-0.3914,  0.2126],\n",
      "        [-0.4023,  0.3228],\n",
      "        [-0.2775,  0.2574],\n",
      "        [-0.2962,  0.2582],\n",
      "        [-0.2722,  0.2691]]), tensor([-0.4128,  0.1322, -0.7365,  0.1464, -0.6189,  0.2665, -0.7248,  0.4663,\n",
      "        -0.4005,  0.3247, -0.2695,  0.2497, -0.3914,  0.2126, -0.4023,  0.3228,\n",
      "        -0.2775,  0.2574, -0.2962,  0.2582, -0.2722,  0.2691]))\n"
     ]
    }
   ],
   "source": [
    "!PetRegression predict --input=../data/resized_images/Abyssinian_1.jpg"
   ]
  },
  {
   "cell_type": "code",
   "execution_count": 19,
   "metadata": {},
   "outputs": [],
   "source": [
    "# !bentoml serve {saved_path}"
   ]
  },
  {
   "cell_type": "code",
   "execution_count": 20,
   "metadata": {},
   "outputs": [
    {
     "name": "stdout",
     "output_type": "stream",
     "text": [
      "PetRegression:20191117161038_E7781A\n"
     ]
    }
   ],
   "source": [
    "bento_tag = '{name}:{version}'.format(name=service.name, version=service.version)\n",
    "print(bento_tag)"
   ]
  },
  {
   "cell_type": "code",
   "execution_count": 24,
   "metadata": {},
   "outputs": [
    {
     "name": "stdout",
     "output_type": "stream",
     "text": [
      "[2019-11-17 16:20:54,615] DEBUG - Using BentoML with local Yatai server\n",
      "[2019-11-17 16:20:54,766] DEBUG - Upgrading tables to the latest revision\n",
      "\u001b[31mFailed to delete deployment facial-features-detector. code: NOT_FOUND, message: Deployment \"facial-features-detector\" in namespace \"default\" not found\u001b[0m\n"
     ]
    }
   ],
   "source": [
    "!bentoml --verbose deployments delete facial-features-detector --force"
   ]
  },
  {
   "cell_type": "code",
   "execution_count": 22,
   "metadata": {},
   "outputs": [
    {
     "name": "stdout",
     "output_type": "stream",
     "text": [
      "[2019-11-17 16:15:24,675] DEBUG - Using BentoML with local Yatai server\n",
      "[2019-11-17 16:15:24,829] DEBUG - Upgrading tables to the latest revision\n",
      "[2019-11-17 16:15:25,409] DEBUG - Created temporary directory: /private/var/folders/yl/c5z1v7897q3g9ywlj63pm0840000gn/T/bentoml-temp-z3sbbeal\n",
      "[2019-11-17 16:16:11,329] DEBUG - sls cmd output: Serverless: Generating boilerplate...\n",
      " _______                             __\n",
      "|   _   .-----.----.--.--.-----.----|  .-----.-----.-----.\n",
      "|   |___|  -__|   _|  |  |  -__|   _|  |  -__|__ --|__ --|\n",
      "|____   |_____|__|  \\___/|_____|__| |__|_____|_____|_____|\n",
      "|   |   |             The Serverless Application Framework\n",
      "|       |                           serverless.com, v1.53.0\n",
      " -------'\n",
      "\n",
      "Serverless: Successfully generated boilerplate for template: \"aws-python3\"\n",
      "\n",
      "[2019-11-17 16:16:13,177] INFO - Installing additional packages: serverless-python-requirements\n",
      "[2019-11-17 16:16:31,142] DEBUG - sls cmd output: Serverless: Creating an empty package.json file in your service directory\n",
      "Serverless: Installing plugin \"serverless-python-requirements@latest\" (this might take a few seconds...)\n",
      "Serverless: Successfully installed \"serverless-python-requirements@latest\"\n",
      "\n",
      "[2019-11-17 16:16:31,143] INFO - Deploying to AWS Lambda\n",
      "[2019-11-17 16:19:19,854] DEBUG - sls cmd output: Serverless: Adding Python requirements helper...\n",
      "Serverless: Generated requirements from /private/var/folders/yl/c5z1v7897q3g9ywlj63pm0840000gn/T/bentoml-temp-z3sbbeal/requirements.txt in /private/var/folders/yl/c5z1v7897q3g9ywlj63pm0840000gn/T/bentoml-temp-z3sbbeal/.serverless/requirements.txt...\n",
      "Serverless: Installing requirements from /Users/HenryDashwood/Library/Caches/serverless-python-requirements/11428bb8bfd6df8112a1c218f57733392ee4b42365362b8effccca53129c7da2_slspyc/requirements.txt ...\n",
      "Serverless: Docker Image: lambci/lambda:build-python3.7\n",
      "Serverless: Using download cache directory /Users/HenryDashwood/Library/Caches/serverless-python-requirements/downloadCacheslspyc\n",
      "Serverless: Running docker run --rm -v /Users/HenryDashwood/Library/Caches/serverless-python-requirements/11428bb8bfd6df8112a1c218f57733392ee4b42365362b8effccca53129c7da2_slspyc\\:/var/task\\:z -v /Users/HenryDashwood/Library/Caches/serverless-python-requirements/downloadCacheslspyc\\:/var/useDownloadCache\\:z -u 0 -v /private/var/folders/yl/c5z1v7897q3g9ywlj63pm0840000gn/T/bentoml-temp-z3sbbeal/bundled_pip_dependencies\\:/var/task/bundled_pip_dependencies\\:z lambci/lambda\\:build-python3.7 /bin/sh -c 'python3.7 -m pip install -t /var/task/ -r /var/task/requirements.txt --cache-dir /var/useDownloadCache && find /var/task -name \\\\*.so -exec strip \\\\{\\\\} \\\\;'...\n",
      " \n",
      "  Error --------------------------------------------------\n",
      " \n",
      "  Error: STDOUT: Collecting bentoml==0.4.9\n",
      "    Using cached https://files.pythonhosted.org/packages/f1/ff/a38b769091072e72d47c6316e482226bde305b7730b7a6665b3783f47b15/BentoML-0.4.9-py3-none-any.whl\n",
      "  Processing /var/useDownloadCache/wheels/45/3e/33/2286dfb90e4d3e197356552c0743678bb158d47f6e05540029/fastai-1.0.59-cp37-none-any.whl\n",
      "  Collecting imageio\n",
      "    Using cached https://files.pythonhosted.org/packages/1a/de/f7f985018f462ceeffada7f6e609919fbcc934acd9301929cba14bc2c24a/imageio-2.6.1-py3-none-any.whl\n",
      "  Processing /var/useDownloadCache/wheels/e1/41/5e/e201f95d90fc84f93aa629b6638adacda680fe63aac47174ab/tabulate-0.8.5-cp37-none-any.whl\n",
      "  Processing /var/useDownloadCache/wheels/1c/54/34/fd47cd9b308826cc4292b54449c1899a30251ef3b506bc91ea/prometheus_client-0.7.1-cp37-none-any.whl\n",
      "  Collecting packaging\n",
      "    Using cached https://files.pythonhosted.org/packages/cf/94/9672c2d4b126e74c4496c6b3c58a8b51d6419267be9e70660ba23374c875/packaging-19.2-py2.py3-none-any.whl\n",
      "  Processing /var/useDownloadCache/wheels/e9/38/1f/f2cc84182676f3ae7134b9b2d744f9c235b24d2ddc8f7fe465/Cerberus-1.3.2-cp37-none-any.whl\n",
      "  Collecting alembic\n",
      "    Downloading https://files.pythonhosted.org/packages/84/64/493c45119dce700a4b9eeecc436ef9e8835ab67bae6414f040cdc7b58f4b/alembic-1.3.1.tar.gz (1.1MB)\n",
      "  Collecting six\n",
      "    Using cached https://files.pythonhosted.org/packages/65/26/32b8464df2a97e6dd1b656ed26b2c194606c16fe163c695a992b36c11cdf/six-1.13.0-py2.py3-none-any.whl\n",
      "  Collecting flask\n",
      "    Using cached https://files.pythonhosted.org/packages/9b/93/628509b8d5dc749656a9641f4caf13540e2cdec85276964ff8f43bbb1d3b/Flask-1.1.1-py2.py3-none-any.whl\n",
      "  Collecting protobuf>=3.6.0\n",
      "    Using cached https://files.pythonhosted.org/packages/d7/34/02a2083afc14adff644a1e29783f276f12f1f914ca4cab157d73bb3d2fed/protobuf-3.10.0-cp37-cp37m-manylinux1_x86_64.whl\n",
      "  Processing /var/useDownloadCache/wheels/a3/67/7d/6c41104a1a08ff1a25e260d3edec3ac19203141d1aaa2f0975/SQLAlchemy-1.3.11-cp37-cp37m-linux_x86_64.whl\n",
      "  Collecting docker\n",
      "    Using cached https://files.pythonhosted.org/packages/cc/ca/699d4754a932787ef353a157ada74efd1ceb6d1fc0bfb7989ae1e7b33111/docker-4.1.0-py2.py3-none-any.whl\n",
      "  Collecting grpcio\n",
      "    Using cached https://files.pythonhosted.org/packages/b5/68/070ee7609b452e950bd5af35f7161f0ceb0abd61cf16ff3b23c852d4594b/grpcio-1.25.0-cp37-cp37m-manylinux2010_x86_64.whl\n",
      "  Processing /var/useDownloadCache/wheels/97/f7/a1/752e22bb30c1cfe38194ea0070a5c66e76ef4d06ad0c7dc401/python_json_logger-0.1.11-py2.py3-none-any.whl\n",
      "  Collecting configparser\n",
      "    Using cached https://files.pythonhosted.org/packages/7a/2a/95ed0501cf5d8709490b1d3a3f9b5cf340da6c433f896bbe9ce08dbe6785/configparser-4.0.2-py2.py3-none-any.whl\n",
      "  Collecting pandas\n",
      "    Using cached https://files.pythonhosted.org/packages/63/e0/a1b39cdcb2c391f087a1538bc8a6d62a82d0439693192aef541d7b123769/pandas-0.25.3-cp37-cp37m-manylinux1_x86_64.whl\n",
      "  Collecting ruamel.yaml>=0.15.0\n",
      "    Using cached https://files.pythonhosted.org/packages/fa/90/ecff85a2e9c497e2fa7142496e10233556b5137db5bd46f3f3b006935ca8/ruamel.yaml-0.16.5-py2.py3-none-any.whl\n",
      "  Collecting boto3\n",
      "    Downloading https://files.pythonhosted.org/packages/8e/a9/1ceaeda8aa5d3effc9098ae301820e27bf54c4000ec6f8ec79f9b265c50e/boto3-1.10.19-py2.py3-none-any.whl (128kB)\n",
      "  Collecting requests\n",
      "    Using cached https://files.pythonhosted.org/packages/51/bd/23c926cd341ea6b7dd0b2a00aba99ae0f828be89d72b2190f27c11d4b7fb/requests-2.22.0-py2.py3-none-any.whl\n",
      "  Collecting numpy\n",
      "    Using cached https://files.pythonhosted.org/packages/9b/af/4fc72f9d38e43b092e91e5b8cb9956d25b2e3ff8c75aed95df5569e4734e/numpy-1.17.4-cp37-cp37m-manylinux1_x86_64.whl\n",
      "  Collecting pathlib2\n",
      "    Using cached https://files.pythonhosted.org/packages/e9/45/9c82d3666af4ef9f221cbb954e1d77ddbb513faf552aea6df5f37f1a4859/pathlib2-2.3.5-py2.py3-none-any.whl\n",
      "  Collecting click>=7.0\n",
      "    Using cached https://files.pythonhosted.org/packages/fa/37/45185cb5abbc30d7257104c434fe0b07e5a195a6847506c074527aa599ec/Click-7.0-py2.py3-none-any.whl\n",
      "  Processing /var/useDownloadCache/wheels/59/b1/91/f02e76c732915c4015ab4010f3015469866c1eb9b14058d8e7/dill-0.3.1.1-cp37-none-any.whl\n",
      "  Collecting humanfriendly\n",
      "    Using cached https://files.pythonhosted.org/packages/90/df/88bff450f333114680698dc4aac7506ff7cab164b794461906de31998665/humanfriendly-4.18-py2.py3-none-any.whl\n",
      "  Collecting gunicorn\n",
      "    Using cached https://files.pythonhosted.org/packages/60/0d/3dbda0324f5bf007f3274e5ea09f0f3bcbf0ca01a75b80ff4f1ff9f8ecfd/gunicorn-20.0.0-py2.py3-none-any.whl\n",
      "  Collecting numexpr\n",
      "    Using cached https://files.pythonhosted.org/packages/2c/69/274c2b81b9bdf7783150461c8982f23248dc917402ed4c6f8aa4b90bb98e/numexpr-2.7.0-cp37-cp37m-manylinux1_x86_64.whl\n",
      "  Processing /var/useDownloadCache/wheels/e4/1d/06/640c93f5270d67d0247f30be91f232700d19023f9e66d735c7/nvidia_ml_py3-7.352.0-cp37-none-any.whl\n",
      "  Collecting fastprogress>=0.1.19\n",
      "    Using cached https://files.pythonhosted.org/packages/83/db/794db47024a26c75635c35f0ee5431aa8b528e895ad1ed958041290f83f7/fastprogress-0.1.21-py3-none-any.whl\n",
      "  Collecting beautifulsoup4\n",
      "    Using cached https://files.pythonhosted.org/packages/3b/c8/a55eb6ea11cd7e5ac4bacdf92bac4693b90d3ba79268be16527555e186f0/beautifulsoup4-4.8.1-py3-none-any.whl\n",
      "  Processing /var/useDownloadCache/wheels/d9/45/dd/65f0b38450c47cf7e5312883deb97d065e030c5cca0a365030/PyYAML-5.1.2-cp37-cp37m-linux_x86_64.whl\n",
      "  Collecting scipy\n",
      "    Using cached https://files.pythonhosted.org/packages/13/69/d3819eae2af1811895e64b6277669906e861053b93000534a5809940f321/scipy-1.3.2-cp37-cp37m-manylinux1_x86_64.whl\n",
      "  Collecting matplotlib\n",
      "    Using cached https://files.pythonhosted.org/packages/19/7a/60bd79c5d79559150f8bba866dd7d434f0a170312e4d15e8aefa5faba294/matplotlib-3.1.1-cp37-cp37m-manylinux1_x86_64.whl\n",
      "  Collecting spacy>=2.0.18\n",
      "    Using cached https://files.pythonhosted.org/packages/b9/01/fcb8ae3e836fea5c11fdb4c074d27b52bdf74b47bd9bb28a811b7ab37d49/spacy-2.2.2-cp37-cp37m-manylinux1_x86_64.whl\n",
      "  Collecting torchvision\n",
      "    Using cached https://files.pythonhosted.org/packages/74/ee/d872c12ea508f9cca4cf0d7b91fc5a5e476cec77628a66795ec5a585a67f/torchvision-0.4.2-cp37-cp37m-manylinux1_x86_64.whl\n",
      "  Collecting torch>=1.0.0\n",
      "  \n",
      "  \n",
      "  STDERR: /bin/sh: line 1:     6 Killed                  python3.7 -m pip install -t /var/task/ -r /var/task/requirements.txt --cache-dir /var/useDownloadCache\n",
      "  \n",
      "      at filterCommands.forEach (/private/var/folders/yl/c5z1v7897q3g9ywlj63pm0840000gn/T/bentoml-temp-z3sbbeal/node_modules/serverless-python-requirements/lib/pip.js:320:13)\n",
      "      at Array.forEach (<anonymous>)\n",
      "      at installRequirements (/private/var/folders/yl/c5z1v7897q3g9ywlj63pm0840000gn/T/bentoml-temp-z3sbbeal/node_modules/serverless-python-requirements/lib/pip.js:307:28)\n",
      "      at installRequirementsIfNeeded (/private/var/folders/yl/c5z1v7897q3g9ywlj63pm0840000gn/T/bentoml-temp-z3sbbeal/node_modules/serverless-python-requirements/lib/pip.js:551:3)\n",
      "      at ServerlessPythonRequirements.installAllRequirements (/private/var/folders/yl/c5z1v7897q3g9ywlj63pm0840000gn/T/bentoml-temp-z3sbbeal/node_modules/serverless-python-requirements/lib/pip.js:630:29)\n",
      "      at ServerlessPythonRequirements.tryCatcher (/private/var/folders/yl/c5z1v7897q3g9ywlj63pm0840000gn/T/bentoml-temp-z3sbbeal/node_modules/bluebird/js/release/util.js:16:23)\n",
      "      at Promise._settlePromiseFromHandler (/private/var/folders/yl/c5z1v7897q3g9ywlj63pm0840000gn/T/bentoml-temp-z3sbbeal/node_modules/bluebird/js/release/promise.js:547:31)\n",
      "      at Promise._settlePromise (/private/var/folders/yl/c5z1v7897q3g9ywlj63pm0840000gn/T/bentoml-temp-z3sbbeal/node_modules/bluebird/js/release/promise.js:604:18)\n",
      "      at Promise._settlePromise0 (/private/var/folders/yl/c5z1v7897q3g9ywlj63pm0840000gn/T/bentoml-temp-z3sbbeal/node_modules/bluebird/js/release/promise.js:649:10)\n",
      "      at Promise._settlePromises (/private/var/folders/yl/c5z1v7897q3g9ywlj63pm0840000gn/T/bentoml-temp-z3sbbeal/node_modules/bluebird/js/release/promise.js:729:18)\n",
      "      at Promise._fulfill (/private/var/folders/yl/c5z1v7897q3g9ywlj63pm0840000gn/T/bentoml-temp-z3sbbeal/node_modules/bluebird/js/release/promise.js:673:18)\n",
      "      at /private/var/folders/yl/c5z1v7897q3g9ywlj63pm0840000gn/T/bentoml-temp-z3sbbeal/node_modules/bluebird/js/release/nodeback.js:42:21\n",
      "      at fs.chmod.err (/private/var/folders/yl/c5z1v7897q3g9ywlj63pm0840000gn/T/bentoml-temp-z3sbbeal/node_modules/fs-extra/lib/copy/copy.js:120:12)\n",
      "      at /private/var/folders/yl/c5z1v7897q3g9ywlj63pm0840000gn/T/bentoml-temp-z3sbbeal/node_modules/graceful-fs/polyfills.js:243:20\n",
      "      at /Users/HenryDashwood/bentoml/node_modules/graceful-fs/polyfills.js:243:20\n",
      "      at FSReqWrap.args [as oncomplete] (fs.js:140:20)\n",
      " \n",
      "     For debugging logs, run again after setting the \"SLS_DEBUG=*\" environment variable.\n",
      " \n",
      "  Get Support --------------------------------------------\n",
      "     Docs:          docs.serverless.com\n",
      "     Bugs:          github.com/serverless/serverless/issues\n",
      "     Issues:        forum.serverless.com\n",
      " \n",
      "  Your Environment Information ---------------------------\n",
      "     Operating System:          darwin\n",
      "     Node Version:              10.16.3\n",
      "     Framework Version:         1.53.0\n",
      "     Plugin Version:            3.2.3\n",
      "     SDK Version:               2.2.1\n",
      "     Components Core Version:   1.1.2\n",
      "     Components CLI Version:    1.4.0\n",
      " \n",
      "\n",
      "\u001b[31mFailed to create deployment facial-features-detector. INTERNAL:   Error: STDOUT: Collecting bentoml==0.4.9\u001b[0m\n"
     ]
    }
   ],
   "source": [
    "!bentoml --verbose deployment create facial-features-detector --bento {bento_tag} --platform aws-lambda --region us-east-1"
   ]
  },
  {
   "cell_type": "code",
   "execution_count": null,
   "metadata": {},
   "outputs": [],
   "source": [
    "# !bentoml deployment list"
   ]
  }
 ],
 "metadata": {
  "kernelspec": {
   "display_name": "miniconda3-latest",
   "language": "python",
   "name": "miniconda3-latest"
  },
  "language_info": {
   "codemirror_mode": {
    "name": "ipython",
    "version": 3
   },
   "file_extension": ".py",
   "mimetype": "text/x-python",
   "name": "python",
   "nbconvert_exporter": "python",
   "pygments_lexer": "ipython3",
   "version": "3.7.4"
  }
 },
 "nbformat": 4,
 "nbformat_minor": 4
}
