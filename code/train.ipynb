{
 "cells": [
  {
   "cell_type": "code",
   "execution_count": 25,
   "metadata": {},
   "outputs": [],
   "source": [
    "%reload_ext autoreload\n",
    "%autoreload 2"
   ]
  },
  {
   "cell_type": "code",
   "execution_count": 26,
   "metadata": {},
   "outputs": [],
   "source": [
    "from fastai.vision import *\n",
    "from fastai.callbacks import SaveModelCallback, EarlyStoppingCallback\n",
    "import numpy as np\n",
    "import pandas as pd\n",
    "\n",
    "import torch\n",
    "from  torch import nn"
   ]
  },
  {
   "cell_type": "code",
   "execution_count": 27,
   "metadata": {},
   "outputs": [],
   "source": [
    "images_path = '../data/resized_images'\n",
    "labels_path = '../data/resized_labels.csv'\n",
    "target_size = 320"
   ]
  },
  {
   "cell_type": "code",
   "execution_count": 28,
   "metadata": {},
   "outputs": [],
   "source": [
    "y = pd.read_csv(labels_path, index_col='filename')"
   ]
  },
  {
   "cell_type": "code",
   "execution_count": 29,
   "metadata": {},
   "outputs": [],
   "source": [
    "def get_y_func(x):\n",
    "    filename = str(x).split('/')[-1]\n",
    "    coord_list = []\n",
    "    coords = list(y.loc[filename])\n",
    "    for i in range(len(coords)//2):\n",
    "        coord_list.append([coords[i*2+1],coords[i*2]])\n",
    "    return tensor(coord_list)"
   ]
  },
  {
   "cell_type": "code",
   "execution_count": 30,
   "metadata": {},
   "outputs": [],
   "source": [
    "transforms = get_transforms(\n",
    "    do_flip=False,\n",
    "    max_rotate=45, \n",
    "    max_zoom=1.5, \n",
    "    max_lighting=0.5, \n",
    "    max_warp=0.4, \n",
    "    p_affine=1., \n",
    "    p_lighting=1.\n",
    ") "
   ]
  },
  {
   "cell_type": "code",
   "execution_count": 31,
   "metadata": {},
   "outputs": [],
   "source": [
    "data = (\n",
    "    PointsItemList\n",
    "        .from_folder(images_path)\n",
    "        .split_by_rand_pct(0.15)\n",
    "        .label_from_func(get_y_func)\n",
    "        .transform(\n",
    "            transforms,\n",
    "            size=320,\n",
    "            tfm_y=True, \n",
    "            remove_out=False, \n",
    "            padding_mode='reflection', \n",
    "            resize_method=ResizeMethod.PAD\n",
    "        )\n",
    "        .databunch()\n",
    "        .normalize(imagenet_stats)\n",
    ")"
   ]
  },
  {
   "cell_type": "code",
   "execution_count": 32,
   "metadata": {},
   "outputs": [],
   "source": [
    "# data.show_batch(3, figsize=(6,6))"
   ]
  },
  {
   "cell_type": "code",
   "execution_count": 34,
   "metadata": {},
   "outputs": [],
   "source": [
    "learn = cnn_learner(\n",
    "    data, \n",
    "    models.resnet34, \n",
    "    loss_func=MSELossFlat()\n",
    ")#.to_fp16()"
   ]
  },
  {
   "cell_type": "code",
   "execution_count": 10,
   "metadata": {},
   "outputs": [],
   "source": [
    "learn.path = Path('..')"
   ]
  },
  {
   "cell_type": "code",
   "execution_count": 11,
   "metadata": {},
   "outputs": [],
   "source": [
    "# learn.lr_find()\n",
    "# learn.recorder.plot()"
   ]
  },
  {
   "cell_type": "code",
   "execution_count": 12,
   "metadata": {},
   "outputs": [],
   "source": [
    "# learn.freeze_to(-1)\n",
    "# learn.fit_one_cycle(\n",
    "#     30, \n",
    "#     slice(1e-2), \n",
    "#     callbacks=[\n",
    "#         SaveModelCallback(learn, every='improvement', monitor='valid_loss', name='resnet34_frozen_to_-1'),\n",
    "#         EarlyStoppingCallback(learn, monitor='valid_loss', min_delta=0.01, patience=3)\n",
    "#     ]\n",
    "# )"
   ]
  },
  {
   "cell_type": "code",
   "execution_count": 13,
   "metadata": {},
   "outputs": [],
   "source": [
    "# learn = learn.load('fastai_model')\n",
    "# learn = learn.to_fp32()\n",
    "# learn.save('fastai_model')\n",
    "# learn.export('models/export.pkl')"
   ]
  },
  {
   "cell_type": "code",
   "execution_count": 14,
   "metadata": {},
   "outputs": [],
   "source": [
    "learn = load_learner('../models', 'export.pkl')"
   ]
  },
  {
   "cell_type": "code",
   "execution_count": 15,
   "metadata": {},
   "outputs": [],
   "source": [
    "# learn.show_results(rows=10)"
   ]
  },
  {
   "cell_type": "markdown",
   "metadata": {},
   "source": [
    "### Bentoml Route"
   ]
  },
  {
   "cell_type": "code",
   "execution_count": 16,
   "metadata": {},
   "outputs": [
    {
     "name": "stdout",
     "output_type": "stream",
     "text": [
      "Overwriting pet_regression.py\n"
     ]
    }
   ],
   "source": [
    "%%writefile pet_regression.py\n",
    "from bentoml import BentoService, api, env, artifacts \n",
    "from bentoml.artifact import FastaiModelArtifact\n",
    "from bentoml.handlers import FastaiImageHandler\n",
    "\n",
    "# from fastai.vision import *\n",
    "\n",
    "@env(pip_dependencies=['pillow==6.2.2', 'fastai'])\n",
    "@artifacts([FastaiModelArtifact('pet_regressor')])\n",
    "class PetRegression(BentoService):\n",
    "    \n",
    "    @api(FastaiImageHandler)\n",
    "    def predict(self, image):\n",
    "        result = self.artifacts.pet_regressor.predict(image)\n",
    "        return str(result)"
   ]
  },
  {
   "cell_type": "code",
   "execution_count": 17,
   "metadata": {},
   "outputs": [
    {
     "name": "stdout",
     "output_type": "stream",
     "text": [
      "[2020-01-11 14:22:42,984] INFO - BentoService bundle 'PetRegression:20200111142212_CD8126' created at: /private/var/folders/yl/c5z1v7897q3g9ywlj63pm0840000gn/T/bentoml-temp-6mhha3ys\n",
      "[2020-01-11 14:22:45,905] INFO - BentoService bundle 'PetRegression:20200111142212_CD8126' created at: /Users/HenryDashwood/bentoml/repository/PetRegression/20200111142212_CD8126\n"
     ]
    }
   ],
   "source": [
    "# 1) import the custom BentoService defined above\n",
    "from pet_regression import PetRegression\n",
    "\n",
    "# 2) `pack` it with required artifacts\n",
    "service = PetRegression.pack(pet_regressor=learn)\n",
    "\n",
    "# 3) save your BentoSerivce\n",
    "saved_path = service.save()"
   ]
  },
  {
   "cell_type": "code",
   "execution_count": 18,
   "metadata": {},
   "outputs": [
    {
     "name": "stdout",
     "output_type": "stream",
     "text": [
      "[2020-01-11 14:22:46,789] WARNING - Module `pet_regression` already loaded, using existing imported module.\n"
     ]
    }
   ],
   "source": [
    "from bentoml import load\n",
    "\n",
    "service = load(saved_path)\n",
    "\n",
    "# print(service.predict(data.get(0)))"
   ]
  },
  {
   "cell_type": "code",
   "execution_count": 19,
   "metadata": {},
   "outputs": [
    {
     "name": "stdout",
     "output_type": "stream",
     "text": [
      "Processing /Users/HenryDashwood/bentoml/repository/PetRegression/20200111142212_CD8126\n",
      "Requirement already satisfied, skipping upgrade: bentoml==0.5.8 in /Users/HenryDashwood/.pyenv/versions/miniconda3-latest/lib/python3.7/site-packages (from PetRegression===20200111142212-CD8126) (0.5.8)\n",
      "Requirement already satisfied, skipping upgrade: pillow==6.2.2 in /Users/HenryDashwood/.pyenv/versions/miniconda3-latest/lib/python3.7/site-packages (from PetRegression===20200111142212-CD8126) (6.2.2)\n",
      "Requirement already satisfied, skipping upgrade: fastai in /Users/HenryDashwood/.pyenv/versions/miniconda3-latest/lib/python3.7/site-packages (from PetRegression===20200111142212-CD8126) (1.0.60)\n",
      "Requirement already satisfied, skipping upgrade: imageio in /Users/HenryDashwood/.pyenv/versions/miniconda3-latest/lib/python3.7/site-packages (from PetRegression===20200111142212-CD8126) (2.6.1)\n",
      "Requirement already satisfied, skipping upgrade: tabulate in /Users/HenryDashwood/.pyenv/versions/miniconda3-latest/lib/python3.7/site-packages (from bentoml==0.5.8->PetRegression===20200111142212-CD8126) (0.8.5)\n",
      "Requirement already satisfied, skipping upgrade: packaging in /Users/HenryDashwood/.pyenv/versions/miniconda3-latest/lib/python3.7/site-packages (from bentoml==0.5.8->PetRegression===20200111142212-CD8126) (19.2)\n",
      "Requirement already satisfied, skipping upgrade: cerberus in /Users/HenryDashwood/.pyenv/versions/miniconda3-latest/lib/python3.7/site-packages (from bentoml==0.5.8->PetRegression===20200111142212-CD8126) (1.3.2)\n",
      "Requirement already satisfied, skipping upgrade: alembic in /Users/HenryDashwood/.pyenv/versions/miniconda3-latest/lib/python3.7/site-packages (from bentoml==0.5.8->PetRegression===20200111142212-CD8126) (1.3.0)\n",
      "Requirement already satisfied, skipping upgrade: prometheus-client in /Users/HenryDashwood/.pyenv/versions/miniconda3-latest/lib/python3.7/site-packages (from bentoml==0.5.8->PetRegression===20200111142212-CD8126) (0.7.1)\n",
      "Requirement already satisfied, skipping upgrade: python-json-logger in /Users/HenryDashwood/.pyenv/versions/miniconda3-latest/lib/python3.7/site-packages (from bentoml==0.5.8->PetRegression===20200111142212-CD8126) (0.1.11)\n",
      "Requirement already satisfied, skipping upgrade: configparser in /Users/HenryDashwood/.pyenv/versions/miniconda3-latest/lib/python3.7/site-packages (from bentoml==0.5.8->PetRegression===20200111142212-CD8126) (4.0.2)\n",
      "Requirement already satisfied, skipping upgrade: gunicorn in /Users/HenryDashwood/.pyenv/versions/miniconda3-latest/lib/python3.7/site-packages (from bentoml==0.5.8->PetRegression===20200111142212-CD8126) (20.0.0)\n",
      "Requirement already satisfied, skipping upgrade: click>=7.0 in /Users/HenryDashwood/.pyenv/versions/miniconda3-latest/lib/python3.7/site-packages (from bentoml==0.5.8->PetRegression===20200111142212-CD8126) (7.0)\n",
      "Requirement already satisfied, skipping upgrade: sqlalchemy>=1.3.0 in /Users/HenryDashwood/.pyenv/versions/miniconda3-latest/lib/python3.7/site-packages (from bentoml==0.5.8->PetRegression===20200111142212-CD8126) (1.3.11)\n",
      "Requirement already satisfied, skipping upgrade: numpy in /Users/HenryDashwood/.pyenv/versions/miniconda3-latest/lib/python3.7/site-packages (from bentoml==0.5.8->PetRegression===20200111142212-CD8126) (1.18.1)\n",
      "Requirement already satisfied, skipping upgrade: humanfriendly in /Users/HenryDashwood/.pyenv/versions/miniconda3-latest/lib/python3.7/site-packages (from bentoml==0.5.8->PetRegression===20200111142212-CD8126) (4.18)\n",
      "Requirement already satisfied, skipping upgrade: grpcio in /Users/HenryDashwood/.pyenv/versions/miniconda3-latest/lib/python3.7/site-packages (from bentoml==0.5.8->PetRegression===20200111142212-CD8126) (1.25.0)\n",
      "Requirement already satisfied, skipping upgrade: pandas in /Users/HenryDashwood/.pyenv/versions/miniconda3-latest/lib/python3.7/site-packages (from bentoml==0.5.8->PetRegression===20200111142212-CD8126) (0.25.3)\n",
      "Requirement already satisfied, skipping upgrade: python-dateutil<2.8.1,>=2.1 in /Users/HenryDashwood/.local/lib/python3.7/site-packages (from bentoml==0.5.8->PetRegression===20200111142212-CD8126) (2.8.0)\n",
      "Requirement already satisfied, skipping upgrade: protobuf>=3.6.0 in /Users/HenryDashwood/.pyenv/versions/miniconda3-latest/lib/python3.7/site-packages (from bentoml==0.5.8->PetRegression===20200111142212-CD8126) (3.10.0)\n",
      "Requirement already satisfied, skipping upgrade: boto3 in /Users/HenryDashwood/.pyenv/versions/miniconda3-latest/lib/python3.7/site-packages (from bentoml==0.5.8->PetRegression===20200111142212-CD8126) (1.10.16)\n",
      "Requirement already satisfied, skipping upgrade: flask in /Users/HenryDashwood/.local/lib/python3.7/site-packages (from bentoml==0.5.8->PetRegression===20200111142212-CD8126) (1.0.4)\n",
      "Requirement already satisfied, skipping upgrade: requests in /Users/HenryDashwood/.pyenv/versions/miniconda3-latest/lib/python3.7/site-packages (from bentoml==0.5.8->PetRegression===20200111142212-CD8126) (2.22.0)\n",
      "Requirement already satisfied, skipping upgrade: ruamel.yaml>=0.15.0 in /Users/HenryDashwood/.pyenv/versions/miniconda3-latest/lib/python3.7/site-packages (from bentoml==0.5.8->PetRegression===20200111142212-CD8126) (0.16.5)\n",
      "Requirement already satisfied, skipping upgrade: docker in /Users/HenryDashwood/.pyenv/versions/miniconda3-latest/lib/python3.7/site-packages (from bentoml==0.5.8->PetRegression===20200111142212-CD8126) (4.0.2)\n",
      "Requirement already satisfied, skipping upgrade: matplotlib in /Users/HenryDashwood/.pyenv/versions/miniconda3-latest/lib/python3.7/site-packages (from fastai->PetRegression===20200111142212-CD8126) (3.1.1)\n",
      "Requirement already satisfied, skipping upgrade: scipy in /Users/HenryDashwood/.pyenv/versions/miniconda3-latest/lib/python3.7/site-packages (from fastai->PetRegression===20200111142212-CD8126) (1.3.2)\n",
      "Requirement already satisfied, skipping upgrade: bottleneck in /Users/HenryDashwood/.pyenv/versions/miniconda3-latest/lib/python3.7/site-packages (from fastai->PetRegression===20200111142212-CD8126) (1.2.1)\n",
      "Requirement already satisfied, skipping upgrade: beautifulsoup4 in /Users/HenryDashwood/.pyenv/versions/miniconda3-latest/lib/python3.7/site-packages (from fastai->PetRegression===20200111142212-CD8126) (4.8.1)\n",
      "Requirement already satisfied, skipping upgrade: torch>=1.0.0 in /Users/HenryDashwood/.pyenv/versions/miniconda3-latest/lib/python3.7/site-packages (from fastai->PetRegression===20200111142212-CD8126) (1.3.1)\n",
      "Requirement already satisfied, skipping upgrade: pynvx>=1.0.0; platform_system == \"Darwin\" in /Users/HenryDashwood/.pyenv/versions/miniconda3-latest/lib/python3.7/site-packages (from fastai->PetRegression===20200111142212-CD8126) (1.0.0)\n",
      "Requirement already satisfied, skipping upgrade: nvidia-ml-py3 in /Users/HenryDashwood/.pyenv/versions/miniconda3-latest/lib/python3.7/site-packages (from fastai->PetRegression===20200111142212-CD8126) (7.352.0)\n",
      "Requirement already satisfied, skipping upgrade: fastprogress>=0.2.1 in /Users/HenryDashwood/.pyenv/versions/miniconda3-latest/lib/python3.7/site-packages (from fastai->PetRegression===20200111142212-CD8126) (0.2.2)\n",
      "Requirement already satisfied, skipping upgrade: numexpr in /Users/HenryDashwood/.pyenv/versions/miniconda3-latest/lib/python3.7/site-packages (from fastai->PetRegression===20200111142212-CD8126) (2.7.0)\n",
      "Requirement already satisfied, skipping upgrade: pyyaml in /Users/HenryDashwood/.pyenv/versions/miniconda3-latest/lib/python3.7/site-packages (from fastai->PetRegression===20200111142212-CD8126) (5.2)\n",
      "Requirement already satisfied, skipping upgrade: torchvision in /Users/HenryDashwood/.pyenv/versions/miniconda3-latest/lib/python3.7/site-packages (from fastai->PetRegression===20200111142212-CD8126) (0.4.2)\n",
      "Requirement already satisfied, skipping upgrade: spacy>=2.0.18 in /Users/HenryDashwood/.pyenv/versions/miniconda3-latest/lib/python3.7/site-packages (from fastai->PetRegression===20200111142212-CD8126) (2.2.2)\n",
      "Requirement already satisfied, skipping upgrade: six in /Users/HenryDashwood/.local/lib/python3.7/site-packages (from packaging->bentoml==0.5.8->PetRegression===20200111142212-CD8126) (1.11.0)\n",
      "Requirement already satisfied, skipping upgrade: pyparsing>=2.0.2 in /Users/HenryDashwood/.pyenv/versions/miniconda3-latest/lib/python3.7/site-packages (from packaging->bentoml==0.5.8->PetRegression===20200111142212-CD8126) (2.4.5)\n",
      "Requirement already satisfied, skipping upgrade: setuptools in /Users/HenryDashwood/.local/lib/python3.7/site-packages (from cerberus->bentoml==0.5.8->PetRegression===20200111142212-CD8126) (41.4.0)\n",
      "Requirement already satisfied, skipping upgrade: Mako in /Users/HenryDashwood/.pyenv/versions/miniconda3-latest/lib/python3.7/site-packages (from alembic->bentoml==0.5.8->PetRegression===20200111142212-CD8126) (1.1.0)\n",
      "Requirement already satisfied, skipping upgrade: python-editor>=0.3 in /Users/HenryDashwood/.pyenv/versions/miniconda3-latest/lib/python3.7/site-packages (from alembic->bentoml==0.5.8->PetRegression===20200111142212-CD8126) (1.0.4)\n",
      "Requirement already satisfied, skipping upgrade: pytz>=2017.2 in /Users/HenryDashwood/.pyenv/versions/miniconda3-latest/lib/python3.7/site-packages (from pandas->bentoml==0.5.8->PetRegression===20200111142212-CD8126) (2019.3)\n",
      "Requirement already satisfied, skipping upgrade: s3transfer<0.3.0,>=0.2.0 in /Users/HenryDashwood/.pyenv/versions/miniconda3-latest/lib/python3.7/site-packages (from boto3->bentoml==0.5.8->PetRegression===20200111142212-CD8126) (0.2.1)\n",
      "Requirement already satisfied, skipping upgrade: botocore<1.14.0,>=1.13.16 in /Users/HenryDashwood/.pyenv/versions/miniconda3-latest/lib/python3.7/site-packages (from boto3->bentoml==0.5.8->PetRegression===20200111142212-CD8126) (1.13.50)\n",
      "Requirement already satisfied, skipping upgrade: jmespath<1.0.0,>=0.7.1 in /Users/HenryDashwood/.local/lib/python3.7/site-packages (from boto3->bentoml==0.5.8->PetRegression===20200111142212-CD8126) (0.9.4)\n",
      "Requirement already satisfied, skipping upgrade: Jinja2>=2.10 in /Users/HenryDashwood/.pyenv/versions/miniconda3-latest/lib/python3.7/site-packages (from flask->bentoml==0.5.8->PetRegression===20200111142212-CD8126) (2.10.3)\n",
      "Requirement already satisfied, skipping upgrade: Werkzeug>=0.14 in /Users/HenryDashwood/.pyenv/versions/miniconda3-latest/lib/python3.7/site-packages (from flask->bentoml==0.5.8->PetRegression===20200111142212-CD8126) (0.16.0)\n",
      "Requirement already satisfied, skipping upgrade: itsdangerous>=0.24 in /Users/HenryDashwood/.pyenv/versions/miniconda3-latest/lib/python3.7/site-packages (from flask->bentoml==0.5.8->PetRegression===20200111142212-CD8126) (1.1.0)\n",
      "Requirement already satisfied, skipping upgrade: urllib3!=1.25.0,!=1.25.1,<1.26,>=1.21.1 in /Users/HenryDashwood/.local/lib/python3.7/site-packages (from requests->bentoml==0.5.8->PetRegression===20200111142212-CD8126) (1.22)\n",
      "Requirement already satisfied, skipping upgrade: certifi>=2017.4.17 in /Users/HenryDashwood/.pyenv/versions/miniconda3-latest/lib/python3.7/site-packages (from requests->bentoml==0.5.8->PetRegression===20200111142212-CD8126) (2019.11.28)\n",
      "Requirement already satisfied, skipping upgrade: chardet<3.1.0,>=3.0.2 in /Users/HenryDashwood/.pyenv/versions/miniconda3-latest/lib/python3.7/site-packages (from requests->bentoml==0.5.8->PetRegression===20200111142212-CD8126) (3.0.4)\n",
      "Requirement already satisfied, skipping upgrade: idna<2.9,>=2.5 in /Users/HenryDashwood/.local/lib/python3.7/site-packages (from requests->bentoml==0.5.8->PetRegression===20200111142212-CD8126) (2.6)\n",
      "Requirement already satisfied, skipping upgrade: ruamel.yaml.clib>=0.1.2; platform_python_implementation == \"CPython\" and python_version < \"3.8\" in /Users/HenryDashwood/.pyenv/versions/miniconda3-latest/lib/python3.7/site-packages (from ruamel.yaml>=0.15.0->bentoml==0.5.8->PetRegression===20200111142212-CD8126) (0.2.0)\n",
      "Requirement already satisfied, skipping upgrade: websocket-client>=0.32.0 in /Users/HenryDashwood/.pyenv/versions/miniconda3-latest/lib/python3.7/site-packages (from docker->bentoml==0.5.8->PetRegression===20200111142212-CD8126) (0.56.0)\n",
      "Requirement already satisfied, skipping upgrade: cycler>=0.10 in /Users/HenryDashwood/.pyenv/versions/miniconda3-latest/lib/python3.7/site-packages (from matplotlib->fastai->PetRegression===20200111142212-CD8126) (0.10.0)\n",
      "Requirement already satisfied, skipping upgrade: kiwisolver>=1.0.1 in /Users/HenryDashwood/.pyenv/versions/miniconda3-latest/lib/python3.7/site-packages (from matplotlib->fastai->PetRegression===20200111142212-CD8126) (1.1.0)\n",
      "Requirement already satisfied, skipping upgrade: soupsieve>=1.2 in /Users/HenryDashwood/.pyenv/versions/miniconda3-latest/lib/python3.7/site-packages (from beautifulsoup4->fastai->PetRegression===20200111142212-CD8126) (1.9.5)\n",
      "Requirement already satisfied, skipping upgrade: plac<1.2.0,>=0.9.6 in /Users/HenryDashwood/.pyenv/versions/miniconda3-latest/lib/python3.7/site-packages (from spacy>=2.0.18->fastai->PetRegression===20200111142212-CD8126) (1.1.3)\n",
      "Requirement already satisfied, skipping upgrade: importlib-metadata>=0.20; python_version < \"3.8\" in /Users/HenryDashwood/.pyenv/versions/miniconda3-latest/lib/python3.7/site-packages (from spacy>=2.0.18->fastai->PetRegression===20200111142212-CD8126) (0.23)\n",
      "Requirement already satisfied, skipping upgrade: blis<0.5.0,>=0.4.0 in /Users/HenryDashwood/.pyenv/versions/miniconda3-latest/lib/python3.7/site-packages (from spacy>=2.0.18->fastai->PetRegression===20200111142212-CD8126) (0.4.1)\n",
      "Requirement already satisfied, skipping upgrade: srsly<1.1.0,>=0.1.0 in /Users/HenryDashwood/.pyenv/versions/miniconda3-latest/lib/python3.7/site-packages (from spacy>=2.0.18->fastai->PetRegression===20200111142212-CD8126) (0.2.0)\n",
      "Requirement already satisfied, skipping upgrade: wasabi<1.1.0,>=0.3.0 in /Users/HenryDashwood/.pyenv/versions/miniconda3-latest/lib/python3.7/site-packages (from spacy>=2.0.18->fastai->PetRegression===20200111142212-CD8126) (0.4.0)\n",
      "Requirement already satisfied, skipping upgrade: thinc<7.4.0,>=7.3.0 in /Users/HenryDashwood/.pyenv/versions/miniconda3-latest/lib/python3.7/site-packages (from spacy>=2.0.18->fastai->PetRegression===20200111142212-CD8126) (7.3.1)\n",
      "Requirement already satisfied, skipping upgrade: cymem<2.1.0,>=2.0.2 in /Users/HenryDashwood/.pyenv/versions/miniconda3-latest/lib/python3.7/site-packages (from spacy>=2.0.18->fastai->PetRegression===20200111142212-CD8126) (2.0.2)\n",
      "Requirement already satisfied, skipping upgrade: preshed<3.1.0,>=3.0.2 in /Users/HenryDashwood/.pyenv/versions/miniconda3-latest/lib/python3.7/site-packages (from spacy>=2.0.18->fastai->PetRegression===20200111142212-CD8126) (3.0.2)\n",
      "Requirement already satisfied, skipping upgrade: murmurhash<1.1.0,>=0.28.0 in /Users/HenryDashwood/.pyenv/versions/miniconda3-latest/lib/python3.7/site-packages (from spacy>=2.0.18->fastai->PetRegression===20200111142212-CD8126) (1.0.2)\n",
      "Requirement already satisfied, skipping upgrade: MarkupSafe>=0.9.2 in /Users/HenryDashwood/.pyenv/versions/miniconda3-latest/lib/python3.7/site-packages (from Mako->alembic->bentoml==0.5.8->PetRegression===20200111142212-CD8126) (1.1.1)\n",
      "Requirement already satisfied, skipping upgrade: docutils<0.16,>=0.10 in /Users/HenryDashwood/.pyenv/versions/miniconda3-latest/lib/python3.7/site-packages (from botocore<1.14.0,>=1.13.16->boto3->bentoml==0.5.8->PetRegression===20200111142212-CD8126) (0.15.2)\n",
      "Requirement already satisfied, skipping upgrade: zipp>=0.5 in /Users/HenryDashwood/.pyenv/versions/miniconda3-latest/lib/python3.7/site-packages (from importlib-metadata>=0.20; python_version < \"3.8\"->spacy>=2.0.18->fastai->PetRegression===20200111142212-CD8126) (0.6.0)\n",
      "Requirement already satisfied, skipping upgrade: tqdm<5.0.0,>=4.10.0 in /Users/HenryDashwood/.pyenv/versions/miniconda3-latest/lib/python3.7/site-packages (from thinc<7.4.0,>=7.3.0->spacy>=2.0.18->fastai->PetRegression===20200111142212-CD8126) (4.40.2)\n",
      "Requirement already satisfied, skipping upgrade: more-itertools in /Users/HenryDashwood/.pyenv/versions/miniconda3-latest/lib/python3.7/site-packages (from zipp>=0.5->importlib-metadata>=0.20; python_version < \"3.8\"->spacy>=2.0.18->fastai->PetRegression===20200111142212-CD8126) (7.2.0)\n",
      "Building wheels for collected packages: PetRegression\n",
      "  Building wheel for PetRegression (setup.py) ... \u001b[?25ldone\n",
      "\u001b[?25h  Created wheel for PetRegression: filename=PetRegression-20200111142212_CD8126-cp37-none-any.whl size=51631797 sha256=763d7e185ede54da54ffabe625004591167099e5c1e9b602975ccd2e474af712\n",
      "  Stored in directory: /private/var/folders/yl/c5z1v7897q3g9ywlj63pm0840000gn/T/pip-ephem-wheel-cache-2uyyeyye/wheels/44/f8/86/c7ee4b431384e641bd6417bea61522d8d5f75175c96cb56c55\n",
      "Successfully built PetRegression\n",
      "Installing collected packages: PetRegression\n",
      "  Found existing installation: PetRegression 20200110202716-F81108\n",
      "    Uninstalling PetRegression-20200110202716-F81108:\n",
      "      Successfully uninstalled PetRegression-20200110202716-F81108\n",
      "Successfully installed PetRegression-20200111142212-CD8126\n"
     ]
    }
   ],
   "source": [
    "!pip install --upgrade {saved_path}"
   ]
  },
  {
   "cell_type": "code",
   "execution_count": 20,
   "metadata": {},
   "outputs": [],
   "source": [
    "# !PetRegression predict --input=../data/resized_images/Abyssinian_1.jpg"
   ]
  },
  {
   "cell_type": "code",
   "execution_count": 21,
   "metadata": {},
   "outputs": [
    {
     "name": "stdout",
     "output_type": "stream",
     "text": [
      "PetRegression:20200111142212_CD8126\n"
     ]
    }
   ],
   "source": [
    "bento_tag = '{name}:{version}'.format(name=service.name, version=service.version)\n",
    "print(bento_tag)"
   ]
  },
  {
   "cell_type": "code",
   "execution_count": 24,
   "metadata": {},
   "outputs": [
    {
     "name": "stdout",
     "output_type": "stream",
     "text": [
      "[2020-01-11 14:24:21,612] INFO - Step 1/11 : FROM continuumio/miniconda3:4.7.12\n",
      "[2020-01-11 14:24:21,613] INFO - \n",
      "\n",
      "[2020-01-11 14:24:21,613] INFO -  ---> 406f2b43ea59\n",
      "\n",
      "[2020-01-11 14:24:21,613] INFO - Step 2/11 : EXPOSE 8080\n",
      "[2020-01-11 14:24:21,613] INFO - \n",
      "\n",
      "[2020-01-11 14:24:21,614] INFO -  ---> Using cache\n",
      "\n",
      "[2020-01-11 14:24:21,614] INFO -  ---> c23188fe3fc7\n",
      "\n",
      "[2020-01-11 14:24:21,614] INFO - Step 3/11 : RUN set -x      && apt-get update      && apt-get install --no-install-recommends --no-install-suggests -y libpq-dev build-essential     && apt-get install -y nginx      && rm -rf /var/lib/apt/lists/*\n",
      "[2020-01-11 14:24:21,614] INFO - \n",
      "\n",
      "[2020-01-11 14:24:21,614] INFO -  ---> Using cache\n",
      "\n",
      "[2020-01-11 14:24:21,614] INFO -  ---> 9b55024636fa\n",
      "\n",
      "[2020-01-11 14:24:21,615] INFO - Step 4/11 : RUN conda install pip numpy scipy       && pip install gunicorn gevent\n",
      "[2020-01-11 14:24:21,615] INFO - \n",
      "\n",
      "[2020-01-11 14:24:21,615] INFO -  ---> Using cache\n",
      "\n",
      "[2020-01-11 14:24:21,615] INFO -  ---> acbb0c3105a7\n",
      "\n",
      "[2020-01-11 14:24:21,615] INFO - Step 5/11 : COPY . /opt/program\n",
      "[2020-01-11 14:24:21,616] INFO - \n",
      "\n",
      "Traceback (most recent call last):\n",
      "  File \"/Users/HenryDashwood/.pyenv/versions/miniconda3-latest/bin/bentoml\", line 8, in <module>\n",
      "    sys.exit(cli())\n",
      "  File \"/Users/HenryDashwood/.pyenv/versions/miniconda3-latest/lib/python3.7/site-packages/click/core.py\", line 764, in __call__\n",
      "    return self.main(*args, **kwargs)\n",
      "  File \"/Users/HenryDashwood/.pyenv/versions/miniconda3-latest/lib/python3.7/site-packages/click/core.py\", line 717, in main\n",
      "    rv = self.invoke(ctx)\n",
      "  File \"/Users/HenryDashwood/.pyenv/versions/miniconda3-latest/lib/python3.7/site-packages/click/core.py\", line 1137, in invoke\n",
      "    return _process_result(sub_ctx.command.invoke(sub_ctx))\n",
      "  File \"/Users/HenryDashwood/.pyenv/versions/miniconda3-latest/lib/python3.7/site-packages/click/core.py\", line 1137, in invoke\n",
      "    return _process_result(sub_ctx.command.invoke(sub_ctx))\n",
      "  File \"/Users/HenryDashwood/.pyenv/versions/miniconda3-latest/lib/python3.7/site-packages/click/core.py\", line 956, in invoke\n",
      "    return ctx.invoke(self.callback, **ctx.params)\n",
      "  File \"/Users/HenryDashwood/.pyenv/versions/miniconda3-latest/lib/python3.7/site-packages/click/core.py\", line 555, in invoke\n",
      "    return callback(*args, **kwargs)\n",
      "  File \"/Users/HenryDashwood/.pyenv/versions/miniconda3-latest/lib/python3.7/site-packages/bentoml/cli/deployment.py\", line 330, in create\n",
      "    yatai_service,\n",
      "  File \"/Users/HenryDashwood/.pyenv/versions/miniconda3-latest/lib/python3.7/site-packages/bentoml/yatai/python_api.py\", line 289, in create_deployment\n",
      "    apply_response = apply_deployment(deployment_dict, yatai_service)\n",
      "  File \"/Users/HenryDashwood/.pyenv/versions/miniconda3-latest/lib/python3.7/site-packages/bentoml/yatai/python_api.py\", line 336, in apply_deployment\n",
      "    ApplyDeploymentRequest(deployment=deployment_pb)\n",
      "  File \"/Users/HenryDashwood/.pyenv/versions/miniconda3-latest/lib/python3.7/site-packages/bentoml/yatai/yatai_service_impl.py\", line 106, in ApplyDeployment\n",
      "    response = operator.add(request.deployment)\n",
      "  File \"/Users/HenryDashwood/.pyenv/versions/miniconda3-latest/lib/python3.7/site-packages/bentoml/deployment/sagemaker/__init__.py\", line 467, in add\n",
      "    return self._add(deployment_pb, bento_pb, bento_pb.bento.uri.uri)\n",
      "  File \"/Users/HenryDashwood/.pyenv/versions/miniconda3-latest/lib/python3.7/site-packages/bentoml/deployment/sagemaker/__init__.py\", line 499, in _add\n",
      "    sagemaker_project_dir,\n",
      "  File \"/Users/HenryDashwood/.pyenv/versions/miniconda3-latest/lib/python3.7/site-packages/bentoml/deployment/sagemaker/__init__.py\", line 181, in create_and_push_docker_image_to_ecr\n",
      "    process_docker_api_line(line)\n",
      "  File \"/Users/HenryDashwood/.pyenv/versions/miniconda3-latest/lib/python3.7/site-packages/bentoml/deployment/utils.py\", line 51, in process_docker_api_line\n",
      "    error[\"code\"], error['message']\n",
      "KeyError: 'code'\n"
     ]
    }
   ],
   "source": [
    "!bentoml deployment create facial-features-detector --bento {bento_tag} --platform aws-sagemaker --api-name predict --region us-east-1"
   ]
  },
  {
   "cell_type": "code",
   "execution_count": 23,
   "metadata": {},
   "outputs": [
    {
     "name": "stdout",
     "output_type": "stream",
     "text": [
      "[2020-01-11 14:24:03,506] DEBUG - Using BentoML with local Yatai server\n",
      "[2020-01-11 14:24:03,696] DEBUG - Upgrading tables to the latest revision\n",
      "[2020-01-11 14:24:05,718] ERROR - AWS ClientError - operation: DeleteEndpoint, code: ValidationException, message: Could not find endpoint \"arn:aws:sagemaker:us-east-1:235858150097:endpoint/dev-facial-features-detector\".\n",
      "\u001b[32mSuccessfully deleted deployment \"facial-features-detector\"\u001b[0m\n"
     ]
    }
   ],
   "source": [
    "!bentoml --verbose deployments delete facial-features-detector --force"
   ]
  },
  {
   "cell_type": "code",
   "execution_count": null,
   "metadata": {},
   "outputs": [],
   "source": []
  }
 ],
 "metadata": {
  "kernelspec": {
   "display_name": "miniconda3-latest",
   "language": "python",
   "name": "miniconda3-latest"
  },
  "language_info": {
   "codemirror_mode": {
    "name": "ipython",
    "version": 3
   },
   "file_extension": ".py",
   "mimetype": "text/x-python",
   "name": "python",
   "nbconvert_exporter": "python",
   "pygments_lexer": "ipython3",
   "version": "3.7.4"
  }
 },
 "nbformat": 4,
 "nbformat_minor": 4
}
