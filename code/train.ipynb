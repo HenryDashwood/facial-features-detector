{
 "cells": [
  {
   "cell_type": "code",
   "execution_count": 2,
   "metadata": {},
   "outputs": [],
   "source": [
    "%reload_ext autoreload\n",
    "%autoreload 2"
   ]
  },
  {
   "cell_type": "code",
   "execution_count": 3,
   "metadata": {},
   "outputs": [],
   "source": [
    "from fastai.vision import *\n",
    "from fastai.callbacks import SaveModelCallback, EarlyStoppingCallback\n",
    "import numpy as np\n",
    "import pandas as pd\n",
    "\n",
    "import torch\n",
    "from  torch import nn"
   ]
  },
  {
   "cell_type": "code",
   "execution_count": 4,
   "metadata": {},
   "outputs": [],
   "source": [
    "images_path = '../data/resized_images'\n",
    "labels_path = '../data/resized_labels.csv'\n",
    "target_size = 320"
   ]
  },
  {
   "cell_type": "code",
   "execution_count": 5,
   "metadata": {},
   "outputs": [],
   "source": [
    "y = pd.read_csv(labels_path, index_col='filename')"
   ]
  },
  {
   "cell_type": "code",
   "execution_count": 6,
   "metadata": {},
   "outputs": [],
   "source": [
    "def get_y_func(x):\n",
    "    filename = str(x).split('/')[-1]\n",
    "    coord_list = []\n",
    "    coords = list(y.loc[filename])\n",
    "    for i in range(len(coords)//2):\n",
    "        coord_list.append([coords[i*2+1],coords[i*2]])\n",
    "    return tensor(coord_list)"
   ]
  },
  {
   "cell_type": "code",
   "execution_count": 7,
   "metadata": {},
   "outputs": [],
   "source": [
    "transforms = get_transforms(\n",
    "    do_flip=False,\n",
    "    max_rotate=45, \n",
    "    max_zoom=1.5, \n",
    "    max_lighting=0.5, \n",
    "    max_warp=0.4, \n",
    "    p_affine=1., \n",
    "    p_lighting=1.\n",
    ") "
   ]
  },
  {
   "cell_type": "code",
   "execution_count": 8,
   "metadata": {},
   "outputs": [],
   "source": [
    "data = (\n",
    "    PointsItemList\n",
    "        .from_folder(images_path)\n",
    "        .split_by_rand_pct(0.15)\n",
    "        .label_from_func(get_y_func)\n",
    "        .transform(\n",
    "            transforms,\n",
    "            size=320,\n",
    "            tfm_y=True, \n",
    "            remove_out=False, \n",
    "            padding_mode='reflection', \n",
    "            resize_method=ResizeMethod.PAD\n",
    "        )\n",
    "        .databunch()\n",
    "        .normalize(imagenet_stats)\n",
    ")"
   ]
  },
  {
   "cell_type": "code",
   "execution_count": 9,
   "metadata": {},
   "outputs": [],
   "source": [
    "# data.show_batch(3, figsize=(6,6))"
   ]
  },
  {
   "cell_type": "code",
   "execution_count": 10,
   "metadata": {},
   "outputs": [],
   "source": [
    "learn = cnn_learner(\n",
    "    data, \n",
    "    models.resnet34, \n",
    "    loss_func=MSELossFlat()\n",
    ")#.to_fp16()"
   ]
  },
  {
   "cell_type": "code",
   "execution_count": 11,
   "metadata": {},
   "outputs": [],
   "source": [
    "learn.path = Path('..')"
   ]
  },
  {
   "cell_type": "code",
   "execution_count": 1,
   "metadata": {},
   "outputs": [],
   "source": [
    "learn.lr_find()\n",
    "learn.recorder.plot()"
   ]
  },
  {
   "cell_type": "code",
   "execution_count": 16,
   "metadata": {},
   "outputs": [
    {
     "data": {
      "text/html": [
       "\n",
       "    <div>\n",
       "        <style>\n",
       "            /* Turns off some styling */\n",
       "            progress {\n",
       "                /* gets rid of default border in Firefox and Opera. */\n",
       "                border: none;\n",
       "                /* Needs to be in here for Safari polyfill so background images work as expected. */\n",
       "                background-size: auto;\n",
       "            }\n",
       "            .progress-bar-interrupted, .progress-bar-interrupted::-webkit-progress-bar {\n",
       "                background: #F44336;\n",
       "            }\n",
       "        </style>\n",
       "      <progress value='12' class='' max='30', style='width:300px; height:20px; vertical-align: middle;'></progress>\n",
       "      40.00% [12/30 14:19<21:29]\n",
       "    </div>\n",
       "    \n",
       "<table border=\"1\" class=\"dataframe\">\n",
       "  <thead>\n",
       "    <tr style=\"text-align: left;\">\n",
       "      <th>epoch</th>\n",
       "      <th>train_loss</th>\n",
       "      <th>valid_loss</th>\n",
       "      <th>time</th>\n",
       "    </tr>\n",
       "  </thead>\n",
       "  <tbody>\n",
       "    <tr>\n",
       "      <td>0</td>\n",
       "      <td>1.042396</td>\n",
       "      <td>0.198158</td>\n",
       "      <td>01:11</td>\n",
       "    </tr>\n",
       "    <tr>\n",
       "      <td>1</td>\n",
       "      <td>0.604568</td>\n",
       "      <td>0.094170</td>\n",
       "      <td>01:10</td>\n",
       "    </tr>\n",
       "    <tr>\n",
       "      <td>2</td>\n",
       "      <td>0.315669</td>\n",
       "      <td>0.060653</td>\n",
       "      <td>01:11</td>\n",
       "    </tr>\n",
       "    <tr>\n",
       "      <td>3</td>\n",
       "      <td>0.202752</td>\n",
       "      <td>0.063023</td>\n",
       "      <td>01:11</td>\n",
       "    </tr>\n",
       "    <tr>\n",
       "      <td>4</td>\n",
       "      <td>0.169145</td>\n",
       "      <td>0.056395</td>\n",
       "      <td>01:11</td>\n",
       "    </tr>\n",
       "    <tr>\n",
       "      <td>5</td>\n",
       "      <td>0.142665</td>\n",
       "      <td>0.048790</td>\n",
       "      <td>01:11</td>\n",
       "    </tr>\n",
       "    <tr>\n",
       "      <td>6</td>\n",
       "      <td>0.105508</td>\n",
       "      <td>0.034817</td>\n",
       "      <td>01:11</td>\n",
       "    </tr>\n",
       "    <tr>\n",
       "      <td>7</td>\n",
       "      <td>0.084674</td>\n",
       "      <td>0.025406</td>\n",
       "      <td>01:11</td>\n",
       "    </tr>\n",
       "    <tr>\n",
       "      <td>8</td>\n",
       "      <td>0.064814</td>\n",
       "      <td>0.016685</td>\n",
       "      <td>01:11</td>\n",
       "    </tr>\n",
       "    <tr>\n",
       "      <td>9</td>\n",
       "      <td>0.073346</td>\n",
       "      <td>0.015950</td>\n",
       "      <td>01:11</td>\n",
       "    </tr>\n",
       "    <tr>\n",
       "      <td>10</td>\n",
       "      <td>0.058177</td>\n",
       "      <td>0.012695</td>\n",
       "      <td>01:10</td>\n",
       "    </tr>\n",
       "    <tr>\n",
       "      <td>11</td>\n",
       "      <td>0.048850</td>\n",
       "      <td>0.012001</td>\n",
       "      <td>01:11</td>\n",
       "    </tr>\n",
       "  </tbody>\n",
       "</table><p>\n",
       "\n",
       "    <div>\n",
       "        <style>\n",
       "            /* Turns off some styling */\n",
       "            progress {\n",
       "                /* gets rid of default border in Firefox and Opera. */\n",
       "                border: none;\n",
       "                /* Needs to be in here for Safari polyfill so background images work as expected. */\n",
       "                background-size: auto;\n",
       "            }\n",
       "            .progress-bar-interrupted, .progress-bar-interrupted::-webkit-progress-bar {\n",
       "                background: #F44336;\n",
       "            }\n",
       "        </style>\n",
       "      <progress value='15' class='' max='15', style='width:300px; height:20px; vertical-align: middle;'></progress>\n",
       "      100.00% [15/15 00:05<00:00]\n",
       "    </div>\n",
       "    "
      ],
      "text/plain": [
       "<IPython.core.display.HTML object>"
      ]
     },
     "metadata": {},
     "output_type": "display_data"
    },
    {
     "name": "stdout",
     "output_type": "stream",
     "text": [
      "Better model found at epoch 0 with valid_loss value: 0.19815798103809357.\n",
      "Better model found at epoch 1 with valid_loss value: 0.09417025744915009.\n",
      "Better model found at epoch 2 with valid_loss value: 0.060653455555438995.\n",
      "Better model found at epoch 4 with valid_loss value: 0.05639549344778061.\n",
      "Better model found at epoch 5 with valid_loss value: 0.048790331929922104.\n",
      "Better model found at epoch 6 with valid_loss value: 0.03481731191277504.\n",
      "Better model found at epoch 7 with valid_loss value: 0.025406161323189735.\n",
      "Better model found at epoch 8 with valid_loss value: 0.016685357317328453.\n",
      "Better model found at epoch 9 with valid_loss value: 0.015950292348861694.\n",
      "Better model found at epoch 10 with valid_loss value: 0.012695029377937317.\n",
      "Better model found at epoch 11 with valid_loss value: 0.012000830844044685.\n",
      "Epoch 12: early stopping\n"
     ]
    }
   ],
   "source": [
    "learn.freeze_to(-1)\n",
    "learn.fit_one_cycle(\n",
    "    30, \n",
    "    slice(1e-2), \n",
    "    callbacks=[\n",
    "        SaveModelCallback(learn, every='improvement', monitor='valid_loss', name='resnet34_frozen_to_-1'),\n",
    "        EarlyStoppingCallback(learn, monitor='valid_loss', min_delta=0.01, patience=3)\n",
    "    ]\n",
    ")"
   ]
  },
  {
   "cell_type": "code",
   "execution_count": 12,
   "metadata": {},
   "outputs": [],
   "source": [
    "learn = learn.load('fastai_model')\n",
    "learn = learn.to_fp32()\n",
    "learn.save('fastai_model')"
   ]
  },
  {
   "cell_type": "code",
   "execution_count": 13,
   "metadata": {},
   "outputs": [],
   "source": [
    "learn.export('models/export.pkl')\n",
    "learn = load_learner('../models', 'export.pkl')"
   ]
  },
  {
   "cell_type": "code",
   "execution_count": 14,
   "metadata": {},
   "outputs": [],
   "source": [
    "# learn.show_results(rows=10)"
   ]
  },
  {
   "cell_type": "markdown",
   "metadata": {},
   "source": [
    "### Sagemaker route"
   ]
  },
  {
   "cell_type": "code",
   "execution_count": 24,
   "metadata": {},
   "outputs": [],
   "source": [
    "import tarfile\n",
    "import sagemaker\n",
    "from sagemaker.utils import name_from_base\n",
    "from sagemaker.predictor import RealTimePredictor, json_deserializer\n",
    "from sagemaker.pytorch.model import PyTorchModel\n",
    "\n",
    "with tarfile.open('../models/model.tar.gz', 'w:gz') as f:\n",
    "    t = tarfile.TarInfo('models')\n",
    "    t.type = tarfile.DIRTYPE\n",
    "    f.addfile(t)\n",
    "    f.add('../models/export.pkl', arcname='model.pkl')"
   ]
  },
  {
   "cell_type": "code",
   "execution_count": 25,
   "metadata": {},
   "outputs": [],
   "source": [
    "sagemaker_session = sagemaker.Session()\n",
    "bucket = sagemaker_session.default_bucket()\n",
    "prefix = f'sagemaker/{name_from_base(\"facial-features-model\")}'\n",
    "model_artefact = sagemaker_session.upload_data(\n",
    "    path=str('../models/model.tar.gz'), \n",
    "    bucket=bucket, \n",
    "    key_prefix=prefix\n",
    ")"
   ]
  },
  {
   "cell_type": "code",
   "execution_count": 26,
   "metadata": {},
   "outputs": [],
   "source": [
    "class ImagePredictor(RealTimePredictor):\n",
    "    def __init__(self, endpoint_name, sagemaker_session):\n",
    "        super().__init__(\n",
    "            endpoint_name, \n",
    "            sagemaker_session=sagemaker_session, \n",
    "            serializer=None, \n",
    "            deserializer=json_deserializer, \n",
    "            content_type='image/jpeg'\n",
    "        )"
   ]
  },
  {
   "cell_type": "code",
   "execution_count": 35,
   "metadata": {},
   "outputs": [],
   "source": [
    "role = ###\n",
    "# sagemaker.get_execution_role()\n",
    "\n",
    "model = PyTorchModel(\n",
    "    model_data=model_artefact, \n",
    "    name=name_from_base(\"facial-features-model\"),\n",
    "    role=role,\n",
    "    framework_version='1.2.0', \n",
    "    entry_point='serve.py', \n",
    "    predictor_cls=ImagePredictor\n",
    ")"
   ]
  },
  {
   "cell_type": "code",
   "execution_count": 36,
   "metadata": {},
   "outputs": [
    {
     "name": "stdout",
     "output_type": "stream",
     "text": [
      "-------------------------------------------------------------------------------------------------------------------------------------!"
     ]
    }
   ],
   "source": [
    "predictor = model.deploy(initial_instance_count=1, instance_type='ml.t2.medium')"
   ]
  },
  {
   "cell_type": "code",
   "execution_count": 11,
   "metadata": {},
   "outputs": [],
   "source": [
    "url = \"https://mtpcontent-dev.s3.amazonaws.com/ce99060e047d44279e0887270af5afe6.png\"\n",
    "img_bytes = requests.get(url).content\n",
    "predictor.predict(img_bytes); response"
   ]
  },
  {
   "cell_type": "markdown",
   "metadata": {},
   "source": [
    "### Bentoml Route"
   ]
  },
  {
   "cell_type": "code",
   "execution_count": 15,
   "metadata": {},
   "outputs": [
    {
     "name": "stdout",
     "output_type": "stream",
     "text": [
      "Overwriting pet_regression.py\n"
     ]
    }
   ],
   "source": [
    "%%writefile pet_regression.py\n",
    "from bentoml import BentoService, api, env, artifacts \n",
    "from bentoml.artifact import FastaiModelArtifact\n",
    "from bentoml.handlers import FastaiImageHandler\n",
    "\n",
    "@env(pip_dependencies=['fastai'])\n",
    "@artifacts([FastaiModelArtifact('pet_regressor')])\n",
    "class PetRegression(BentoService):\n",
    "    \n",
    "    @api(FastaiImageHandler)\n",
    "    def predict(self, image):\n",
    "        result = self.artifacts.pet_regressor.predict(image)\n",
    "        return str(result)"
   ]
  },
  {
   "cell_type": "code",
   "execution_count": 16,
   "metadata": {},
   "outputs": [
    {
     "name": "stdout",
     "output_type": "stream",
     "text": [
      "[2019-11-26 21:59:12,002] INFO - BentoService bundle 'PetRegression:20191126215827_17F2CC' created at: /private/var/folders/yl/c5z1v7897q3g9ywlj63pm0840000gn/T/bentoml-temp-fp1v2u4o\n",
      "[2019-11-26 21:59:15,696] INFO - BentoService bundle 'PetRegression:20191126215827_17F2CC' created at: /Users/HenryDashwood/bentoml/repository/PetRegression/20191126215827_17F2CC\n"
     ]
    }
   ],
   "source": [
    "# 1) import the custom BentoService defined above\n",
    "from pet_regression import PetRegression\n",
    "\n",
    "# 2) `pack` it with required artifacts\n",
    "service = PetRegression.pack(pet_regressor=learn)\n",
    "\n",
    "# 3) save your BentoSerivce\n",
    "saved_path = service.save()"
   ]
  },
  {
   "cell_type": "code",
   "execution_count": 17,
   "metadata": {},
   "outputs": [
    {
     "name": "stdout",
     "output_type": "stream",
     "text": [
      "[2019-11-26 21:59:16,505] WARNING - Module `pet_regression` already loaded, using existing imported module.\n",
      "(ImagePoints (320, 320), tensor([[-0.5126, -0.4899],\n",
      "        [-0.9037, -0.4330],\n",
      "        [-0.8865, -0.1041],\n",
      "        [-0.8752,  0.1870],\n",
      "        [-0.4920,  0.2354],\n",
      "        [-0.1619, -0.0787],\n",
      "        [-0.5796, -0.2464],\n",
      "        [-0.5747,  0.0606],\n",
      "        [-0.2528, -0.1820],\n",
      "        [-0.3257, -0.0745],\n",
      "        [-0.2651,  0.0167]]), tensor([-0.5126, -0.4899, -0.9037, -0.4330, -0.8865, -0.1041, -0.8752,  0.1870,\n",
      "        -0.4920,  0.2354, -0.1619, -0.0787, -0.5796, -0.2464, -0.5747,  0.0606,\n",
      "        -0.2528, -0.1820, -0.3257, -0.0745, -0.2651,  0.0167]))\n"
     ]
    }
   ],
   "source": [
    "from bentoml import load\n",
    "\n",
    "service = load(saved_path)\n",
    "\n",
    "print(service.predict(data.get(0)))"
   ]
  },
  {
   "cell_type": "code",
   "execution_count": 18,
   "metadata": {},
   "outputs": [
    {
     "name": "stdout",
     "output_type": "stream",
     "text": [
      "Processing /Users/HenryDashwood/bentoml/repository/PetRegression/20191126215827_17F2CC\n",
      "Requirement already satisfied, skipping upgrade: bentoml==0.5.2 in /Users/HenryDashwood/.pyenv/versions/miniconda3-latest/lib/python3.7/site-packages (from PetRegression===20191126215827-17F2CC) (0.5.2)\n",
      "Requirement already satisfied, skipping upgrade: fastai in /Users/HenryDashwood/.pyenv/versions/miniconda3-latest/lib/python3.7/site-packages (from PetRegression===20191126215827-17F2CC) (1.0.59)\n",
      "Requirement already satisfied, skipping upgrade: imageio in /Users/HenryDashwood/.pyenv/versions/miniconda3-latest/lib/python3.7/site-packages (from PetRegression===20191126215827-17F2CC) (2.6.1)\n",
      "Requirement already satisfied, skipping upgrade: python-json-logger in /Users/HenryDashwood/.pyenv/versions/miniconda3-latest/lib/python3.7/site-packages (from bentoml==0.5.2->PetRegression===20191126215827-17F2CC) (0.1.11)\n",
      "Requirement already satisfied, skipping upgrade: protobuf>=3.6.0 in /Users/HenryDashwood/.pyenv/versions/miniconda3-latest/lib/python3.7/site-packages (from bentoml==0.5.2->PetRegression===20191126215827-17F2CC) (3.10.0)\n",
      "Requirement already satisfied, skipping upgrade: click>=7.0 in /Users/HenryDashwood/.pyenv/versions/miniconda3-latest/lib/python3.7/site-packages (from bentoml==0.5.2->PetRegression===20191126215827-17F2CC) (7.0)\n",
      "Requirement already satisfied, skipping upgrade: sqlalchemy>=1.3.0 in /Users/HenryDashwood/.pyenv/versions/miniconda3-latest/lib/python3.7/site-packages (from bentoml==0.5.2->PetRegression===20191126215827-17F2CC) (1.3.11)\n",
      "Requirement already satisfied, skipping upgrade: gunicorn in /Users/HenryDashwood/.pyenv/versions/miniconda3-latest/lib/python3.7/site-packages (from bentoml==0.5.2->PetRegression===20191126215827-17F2CC) (20.0.0)\n",
      "Requirement already satisfied, skipping upgrade: prometheus-client in /Users/HenryDashwood/.pyenv/versions/miniconda3-latest/lib/python3.7/site-packages (from bentoml==0.5.2->PetRegression===20191126215827-17F2CC) (0.7.1)\n",
      "Requirement already satisfied, skipping upgrade: docker in /Users/HenryDashwood/.pyenv/versions/miniconda3-latest/lib/python3.7/site-packages (from bentoml==0.5.2->PetRegression===20191126215827-17F2CC) (4.1.0)\n",
      "Requirement already satisfied, skipping upgrade: flask in /Users/HenryDashwood/.local/lib/python3.7/site-packages (from bentoml==0.5.2->PetRegression===20191126215827-17F2CC) (1.0.4)\n",
      "Requirement already satisfied, skipping upgrade: grpcio in /Users/HenryDashwood/.pyenv/versions/miniconda3-latest/lib/python3.7/site-packages (from bentoml==0.5.2->PetRegression===20191126215827-17F2CC) (1.25.0)\n",
      "Requirement already satisfied, skipping upgrade: pathlib2 in /Users/HenryDashwood/.pyenv/versions/miniconda3-latest/lib/python3.7/site-packages (from bentoml==0.5.2->PetRegression===20191126215827-17F2CC) (2.3.5)\n",
      "Requirement already satisfied, skipping upgrade: configparser in /Users/HenryDashwood/.pyenv/versions/miniconda3-latest/lib/python3.7/site-packages (from bentoml==0.5.2->PetRegression===20191126215827-17F2CC) (4.0.2)\n",
      "Requirement already satisfied, skipping upgrade: tabulate in /Users/HenryDashwood/.pyenv/versions/miniconda3-latest/lib/python3.7/site-packages (from bentoml==0.5.2->PetRegression===20191126215827-17F2CC) (0.8.5)\n",
      "Requirement already satisfied, skipping upgrade: numpy in /Users/HenryDashwood/.pyenv/versions/miniconda3-latest/lib/python3.7/site-packages (from bentoml==0.5.2->PetRegression===20191126215827-17F2CC) (1.17.4)\n",
      "Requirement already satisfied, skipping upgrade: pandas in /Users/HenryDashwood/.pyenv/versions/miniconda3-latest/lib/python3.7/site-packages (from bentoml==0.5.2->PetRegression===20191126215827-17F2CC) (0.25.3)\n",
      "Requirement already satisfied, skipping upgrade: packaging in /Users/HenryDashwood/.pyenv/versions/miniconda3-latest/lib/python3.7/site-packages (from bentoml==0.5.2->PetRegression===20191126215827-17F2CC) (19.2)\n",
      "Requirement already satisfied, skipping upgrade: requests in /Users/HenryDashwood/.local/lib/python3.7/site-packages (from bentoml==0.5.2->PetRegression===20191126215827-17F2CC) (2.22.0)\n",
      "Requirement already satisfied, skipping upgrade: humanfriendly in /Users/HenryDashwood/.pyenv/versions/miniconda3-latest/lib/python3.7/site-packages (from bentoml==0.5.2->PetRegression===20191126215827-17F2CC) (4.18)\n",
      "Requirement already satisfied, skipping upgrade: six in /Users/HenryDashwood/.pyenv/versions/miniconda3-latest/lib/python3.7/site-packages (from bentoml==0.5.2->PetRegression===20191126215827-17F2CC) (1.12.0)\n",
      "Requirement already satisfied, skipping upgrade: alembic in /Users/HenryDashwood/.pyenv/versions/miniconda3-latest/lib/python3.7/site-packages (from bentoml==0.5.2->PetRegression===20191126215827-17F2CC) (1.3.0)\n",
      "Requirement already satisfied, skipping upgrade: boto3 in /Users/HenryDashwood/.pyenv/versions/miniconda3-latest/lib/python3.7/site-packages (from bentoml==0.5.2->PetRegression===20191126215827-17F2CC) (1.10.16)\n",
      "Requirement already satisfied, skipping upgrade: ruamel.yaml>=0.15.0 in /Users/HenryDashwood/.pyenv/versions/miniconda3-latest/lib/python3.7/site-packages (from bentoml==0.5.2->PetRegression===20191126215827-17F2CC) (0.16.5)\n",
      "Requirement already satisfied, skipping upgrade: cerberus in /Users/HenryDashwood/.pyenv/versions/miniconda3-latest/lib/python3.7/site-packages (from bentoml==0.5.2->PetRegression===20191126215827-17F2CC) (1.3.2)\n",
      "Requirement already satisfied, skipping upgrade: scipy in /Users/HenryDashwood/.pyenv/versions/miniconda3-latest/lib/python3.7/site-packages (from fastai->PetRegression===20191126215827-17F2CC) (1.3.2)\n",
      "Requirement already satisfied, skipping upgrade: spacy>=2.0.18 in /Users/HenryDashwood/.pyenv/versions/miniconda3-latest/lib/python3.7/site-packages (from fastai->PetRegression===20191126215827-17F2CC) (2.2.2)\n",
      "Requirement already satisfied, skipping upgrade: pynvx>=1.0.0; platform_system == \"Darwin\" in /Users/HenryDashwood/.pyenv/versions/miniconda3-latest/lib/python3.7/site-packages (from fastai->PetRegression===20191126215827-17F2CC) (1.0.0)\n",
      "Requirement already satisfied, skipping upgrade: Pillow in /Users/HenryDashwood/.pyenv/versions/miniconda3-latest/lib/python3.7/site-packages (from fastai->PetRegression===20191126215827-17F2CC) (6.2.1)\n",
      "Requirement already satisfied, skipping upgrade: beautifulsoup4 in /Users/HenryDashwood/.pyenv/versions/miniconda3-latest/lib/python3.7/site-packages (from fastai->PetRegression===20191126215827-17F2CC) (4.8.1)\n",
      "Requirement already satisfied, skipping upgrade: fastprogress>=0.1.19 in /Users/HenryDashwood/.pyenv/versions/miniconda3-latest/lib/python3.7/site-packages (from fastai->PetRegression===20191126215827-17F2CC) (0.1.21)\n",
      "Requirement already satisfied, skipping upgrade: pyyaml in /Users/HenryDashwood/.local/lib/python3.7/site-packages (from fastai->PetRegression===20191126215827-17F2CC) (5.1.2)\n",
      "Requirement already satisfied, skipping upgrade: torch>=1.0.0 in /Users/HenryDashwood/.pyenv/versions/miniconda3-latest/lib/python3.7/site-packages (from fastai->PetRegression===20191126215827-17F2CC) (1.3.1)\n",
      "Requirement already satisfied, skipping upgrade: torchvision in /Users/HenryDashwood/.pyenv/versions/miniconda3-latest/lib/python3.7/site-packages (from fastai->PetRegression===20191126215827-17F2CC) (0.4.2)\n",
      "Requirement already satisfied, skipping upgrade: nvidia-ml-py3 in /Users/HenryDashwood/.pyenv/versions/miniconda3-latest/lib/python3.7/site-packages (from fastai->PetRegression===20191126215827-17F2CC) (7.352.0)\n",
      "Requirement already satisfied, skipping upgrade: matplotlib in /Users/HenryDashwood/.pyenv/versions/miniconda3-latest/lib/python3.7/site-packages (from fastai->PetRegression===20191126215827-17F2CC) (3.1.1)\n",
      "Requirement already satisfied, skipping upgrade: bottleneck in /Users/HenryDashwood/.pyenv/versions/miniconda3-latest/lib/python3.7/site-packages (from fastai->PetRegression===20191126215827-17F2CC) (1.2.1)\n",
      "Requirement already satisfied, skipping upgrade: numexpr in /Users/HenryDashwood/.pyenv/versions/miniconda3-latest/lib/python3.7/site-packages (from fastai->PetRegression===20191126215827-17F2CC) (2.7.0)\n",
      "Requirement already satisfied, skipping upgrade: setuptools in /Users/HenryDashwood/.local/lib/python3.7/site-packages (from protobuf>=3.6.0->bentoml==0.5.2->PetRegression===20191126215827-17F2CC) (41.4.0)\n",
      "Requirement already satisfied, skipping upgrade: websocket-client>=0.32.0 in /Users/HenryDashwood/.pyenv/versions/miniconda3-latest/lib/python3.7/site-packages (from docker->bentoml==0.5.2->PetRegression===20191126215827-17F2CC) (0.56.0)\n",
      "Requirement already satisfied, skipping upgrade: Werkzeug>=0.14 in /Users/HenryDashwood/.pyenv/versions/miniconda3-latest/lib/python3.7/site-packages (from flask->bentoml==0.5.2->PetRegression===20191126215827-17F2CC) (0.16.0)\n",
      "Requirement already satisfied, skipping upgrade: itsdangerous>=0.24 in /Users/HenryDashwood/.pyenv/versions/miniconda3-latest/lib/python3.7/site-packages (from flask->bentoml==0.5.2->PetRegression===20191126215827-17F2CC) (1.1.0)\n",
      "Requirement already satisfied, skipping upgrade: Jinja2>=2.10 in /Users/HenryDashwood/.pyenv/versions/miniconda3-latest/lib/python3.7/site-packages (from flask->bentoml==0.5.2->PetRegression===20191126215827-17F2CC) (2.10.3)\n",
      "Requirement already satisfied, skipping upgrade: pytz>=2017.2 in /Users/HenryDashwood/.pyenv/versions/miniconda3-latest/lib/python3.7/site-packages (from pandas->bentoml==0.5.2->PetRegression===20191126215827-17F2CC) (2019.3)\n",
      "Requirement already satisfied, skipping upgrade: python-dateutil>=2.6.1 in /Users/HenryDashwood/.pyenv/versions/miniconda3-latest/lib/python3.7/site-packages (from pandas->bentoml==0.5.2->PetRegression===20191126215827-17F2CC) (2.8.1)\n",
      "Requirement already satisfied, skipping upgrade: pyparsing>=2.0.2 in /Users/HenryDashwood/.pyenv/versions/miniconda3-latest/lib/python3.7/site-packages (from packaging->bentoml==0.5.2->PetRegression===20191126215827-17F2CC) (2.4.5)\n",
      "Requirement already satisfied, skipping upgrade: chardet<3.1.0,>=3.0.2 in /Users/HenryDashwood/.pyenv/versions/miniconda3-latest/lib/python3.7/site-packages (from requests->bentoml==0.5.2->PetRegression===20191126215827-17F2CC) (3.0.4)\n",
      "Requirement already satisfied, skipping upgrade: idna<2.9,>=2.5 in /Users/HenryDashwood/.local/lib/python3.7/site-packages (from requests->bentoml==0.5.2->PetRegression===20191126215827-17F2CC) (2.6)\n",
      "Requirement already satisfied, skipping upgrade: certifi>=2017.4.17 in /Users/HenryDashwood/.pyenv/versions/miniconda3-latest/lib/python3.7/site-packages (from requests->bentoml==0.5.2->PetRegression===20191126215827-17F2CC) (2019.9.11)\n",
      "Requirement already satisfied, skipping upgrade: urllib3!=1.25.0,!=1.25.1,<1.26,>=1.21.1 in /Users/HenryDashwood/.local/lib/python3.7/site-packages (from requests->bentoml==0.5.2->PetRegression===20191126215827-17F2CC) (1.22)\n",
      "Requirement already satisfied, skipping upgrade: Mako in /Users/HenryDashwood/.pyenv/versions/miniconda3-latest/lib/python3.7/site-packages (from alembic->bentoml==0.5.2->PetRegression===20191126215827-17F2CC) (1.1.0)\n",
      "Requirement already satisfied, skipping upgrade: python-editor>=0.3 in /Users/HenryDashwood/.pyenv/versions/miniconda3-latest/lib/python3.7/site-packages (from alembic->bentoml==0.5.2->PetRegression===20191126215827-17F2CC) (1.0.4)\n",
      "Requirement already satisfied, skipping upgrade: botocore<1.14.0,>=1.13.16 in /Users/HenryDashwood/.pyenv/versions/miniconda3-latest/lib/python3.7/site-packages (from boto3->bentoml==0.5.2->PetRegression===20191126215827-17F2CC) (1.13.16)\n",
      "Requirement already satisfied, skipping upgrade: s3transfer<0.3.0,>=0.2.0 in /Users/HenryDashwood/.pyenv/versions/miniconda3-latest/lib/python3.7/site-packages (from boto3->bentoml==0.5.2->PetRegression===20191126215827-17F2CC) (0.2.1)\n",
      "Requirement already satisfied, skipping upgrade: jmespath<1.0.0,>=0.7.1 in /Users/HenryDashwood/.local/lib/python3.7/site-packages (from boto3->bentoml==0.5.2->PetRegression===20191126215827-17F2CC) (0.9.4)\n",
      "Requirement already satisfied, skipping upgrade: ruamel.yaml.clib>=0.1.2; platform_python_implementation == \"CPython\" and python_version < \"3.8\" in /Users/HenryDashwood/.pyenv/versions/miniconda3-latest/lib/python3.7/site-packages (from ruamel.yaml>=0.15.0->bentoml==0.5.2->PetRegression===20191126215827-17F2CC) (0.2.0)\n",
      "Requirement already satisfied, skipping upgrade: murmurhash<1.1.0,>=0.28.0 in /Users/HenryDashwood/.pyenv/versions/miniconda3-latest/lib/python3.7/site-packages (from spacy>=2.0.18->fastai->PetRegression===20191126215827-17F2CC) (1.0.2)\n",
      "Requirement already satisfied, skipping upgrade: plac<1.2.0,>=0.9.6 in /Users/HenryDashwood/.pyenv/versions/miniconda3-latest/lib/python3.7/site-packages (from spacy>=2.0.18->fastai->PetRegression===20191126215827-17F2CC) (1.1.3)\n",
      "Requirement already satisfied, skipping upgrade: cymem<2.1.0,>=2.0.2 in /Users/HenryDashwood/.pyenv/versions/miniconda3-latest/lib/python3.7/site-packages (from spacy>=2.0.18->fastai->PetRegression===20191126215827-17F2CC) (2.0.2)\n",
      "Requirement already satisfied, skipping upgrade: thinc<7.4.0,>=7.3.0 in /Users/HenryDashwood/.pyenv/versions/miniconda3-latest/lib/python3.7/site-packages (from spacy>=2.0.18->fastai->PetRegression===20191126215827-17F2CC) (7.3.1)\n",
      "Requirement already satisfied, skipping upgrade: blis<0.5.0,>=0.4.0 in /Users/HenryDashwood/.pyenv/versions/miniconda3-latest/lib/python3.7/site-packages (from spacy>=2.0.18->fastai->PetRegression===20191126215827-17F2CC) (0.4.1)\n",
      "Requirement already satisfied, skipping upgrade: importlib-metadata>=0.20; python_version < \"3.8\" in /Users/HenryDashwood/.pyenv/versions/miniconda3-latest/lib/python3.7/site-packages (from spacy>=2.0.18->fastai->PetRegression===20191126215827-17F2CC) (0.23)\n",
      "Requirement already satisfied, skipping upgrade: srsly<1.1.0,>=0.1.0 in /Users/HenryDashwood/.pyenv/versions/miniconda3-latest/lib/python3.7/site-packages (from spacy>=2.0.18->fastai->PetRegression===20191126215827-17F2CC) (0.2.0)\n",
      "Requirement already satisfied, skipping upgrade: preshed<3.1.0,>=3.0.2 in /Users/HenryDashwood/.pyenv/versions/miniconda3-latest/lib/python3.7/site-packages (from spacy>=2.0.18->fastai->PetRegression===20191126215827-17F2CC) (3.0.2)\n",
      "Requirement already satisfied, skipping upgrade: wasabi<1.1.0,>=0.3.0 in /Users/HenryDashwood/.pyenv/versions/miniconda3-latest/lib/python3.7/site-packages (from spacy>=2.0.18->fastai->PetRegression===20191126215827-17F2CC) (0.4.0)\n",
      "Requirement already satisfied, skipping upgrade: soupsieve>=1.2 in /Users/HenryDashwood/.pyenv/versions/miniconda3-latest/lib/python3.7/site-packages (from beautifulsoup4->fastai->PetRegression===20191126215827-17F2CC) (1.9.5)\n",
      "Requirement already satisfied, skipping upgrade: cycler>=0.10 in /Users/HenryDashwood/.pyenv/versions/miniconda3-latest/lib/python3.7/site-packages (from matplotlib->fastai->PetRegression===20191126215827-17F2CC) (0.10.0)\n",
      "Requirement already satisfied, skipping upgrade: kiwisolver>=1.0.1 in /Users/HenryDashwood/.pyenv/versions/miniconda3-latest/lib/python3.7/site-packages (from matplotlib->fastai->PetRegression===20191126215827-17F2CC) (1.1.0)\n",
      "Requirement already satisfied, skipping upgrade: MarkupSafe>=0.23 in /Users/HenryDashwood/.pyenv/versions/miniconda3-latest/lib/python3.7/site-packages (from Jinja2>=2.10->flask->bentoml==0.5.2->PetRegression===20191126215827-17F2CC) (1.1.1)\n",
      "Requirement already satisfied, skipping upgrade: docutils<0.16,>=0.10 in /Users/HenryDashwood/.pyenv/versions/miniconda3-latest/lib/python3.7/site-packages (from botocore<1.14.0,>=1.13.16->boto3->bentoml==0.5.2->PetRegression===20191126215827-17F2CC) (0.15.2)\n",
      "Requirement already satisfied, skipping upgrade: tqdm<5.0.0,>=4.10.0 in /Users/HenryDashwood/.pyenv/versions/miniconda3-latest/lib/python3.7/site-packages (from thinc<7.4.0,>=7.3.0->spacy>=2.0.18->fastai->PetRegression===20191126215827-17F2CC) (4.36.1)\n",
      "Requirement already satisfied, skipping upgrade: zipp>=0.5 in /Users/HenryDashwood/.pyenv/versions/miniconda3-latest/lib/python3.7/site-packages (from importlib-metadata>=0.20; python_version < \"3.8\"->spacy>=2.0.18->fastai->PetRegression===20191126215827-17F2CC) (0.6.0)\n",
      "Requirement already satisfied, skipping upgrade: more-itertools in /Users/HenryDashwood/.pyenv/versions/miniconda3-latest/lib/python3.7/site-packages (from zipp>=0.5->importlib-metadata>=0.20; python_version < \"3.8\"->spacy>=2.0.18->fastai->PetRegression===20191126215827-17F2CC) (7.2.0)\n",
      "Building wheels for collected packages: PetRegression\n",
      "  Building wheel for PetRegression (setup.py) ... \u001b[?25ldone\n",
      "\u001b[?25h  Created wheel for PetRegression: filename=PetRegression-20191126215827_17F2CC-cp37-none-any.whl size=51630819 sha256=3139677248108f89516283dc51b3aff179706ba154d5c51147dc5ecfd87c76d8\n",
      "  Stored in directory: /private/var/folders/yl/c5z1v7897q3g9ywlj63pm0840000gn/T/pip-ephem-wheel-cache-2kxa3lmf/wheels/7f/02/01/07a8e45f4a6041b5db78235fea2432e0cf8902538156972b38\n",
      "Successfully built PetRegression\n",
      "Installing collected packages: PetRegression\n",
      "  Found existing installation: PetRegression 20191126203804-1AAFCF\n",
      "    Uninstalling PetRegression-20191126203804-1AAFCF:\n",
      "      Successfully uninstalled PetRegression-20191126203804-1AAFCF\n",
      "Successfully installed PetRegression-20191126215827-17F2CC\n"
     ]
    }
   ],
   "source": [
    "!pip install --upgrade {saved_path}"
   ]
  },
  {
   "cell_type": "code",
   "execution_count": 19,
   "metadata": {},
   "outputs": [
    {
     "name": "stdout",
     "output_type": "stream",
     "text": [
      "(ImagePoints (320, 320), tensor([[-0.4128,  0.1322],\n",
      "        [-0.7365,  0.1464],\n",
      "        [-0.6189,  0.2665],\n",
      "        [-0.7248,  0.4663],\n",
      "        [-0.4005,  0.3247],\n",
      "        [-0.2695,  0.2497],\n",
      "        [-0.3914,  0.2126],\n",
      "        [-0.4023,  0.3228],\n",
      "        [-0.2775,  0.2574],\n",
      "        [-0.2962,  0.2582],\n",
      "        [-0.2722,  0.2691]]), tensor([-0.4128,  0.1322, -0.7365,  0.1464, -0.6189,  0.2665, -0.7248,  0.4663,\n",
      "        -0.4005,  0.3247, -0.2695,  0.2497, -0.3914,  0.2126, -0.4023,  0.3228,\n",
      "        -0.2775,  0.2574, -0.2962,  0.2582, -0.2722,  0.2691]))\n"
     ]
    }
   ],
   "source": [
    "!PetRegression predict --input=../data/resized_images/Abyssinian_1.jpg"
   ]
  },
  {
   "cell_type": "code",
   "execution_count": 20,
   "metadata": {},
   "outputs": [
    {
     "name": "stdout",
     "output_type": "stream",
     "text": [
      "PetRegression:20191126215827_17F2CC\n"
     ]
    }
   ],
   "source": [
    "bento_tag = '{name}:{version}'.format(name=service.name, version=service.version)\n",
    "print(bento_tag)"
   ]
  },
  {
   "cell_type": "code",
   "execution_count": 26,
   "metadata": {},
   "outputs": [
    {
     "name": "stdout",
     "output_type": "stream",
     "text": [
      "[2019-11-26 22:27:33,515] DEBUG - Using BentoML with local Yatai server\n",
      "[2019-11-26 22:27:34,467] DEBUG - Upgrading tables to the latest revision\n",
      "[2019-11-26 22:27:35,263] DEBUG - Deleting AWS Lambda deployment\n",
      "\u001b[32mSuccessfully deleted deployment \"facial-features-detector\"\u001b[0m\n"
     ]
    }
   ],
   "source": [
    "!bentoml --verbose deployments delete facial-features-detector --force"
   ]
  },
  {
   "cell_type": "code",
   "execution_count": null,
   "metadata": {},
   "outputs": [
    {
     "name": "stdout",
     "output_type": "stream",
     "text": [
      "[2019-11-26 22:27:41,441] DEBUG - Using BentoML with local Yatai server\n",
      "[2019-11-26 22:27:41,606] DEBUG - Upgrading tables to the latest revision\n",
      "[2019-11-26 22:27:52,776] DEBUG - Creating s3 bucket: btml-default-facial-features-detector-beadac\n",
      "[2019-11-26 22:27:53,615] DEBUG - Uploading artifacts to S3 bucket\n",
      "[2019-11-26 22:27:53,616] DEBUG - This lambda deployment requires uploading artifacts to s3\n",
      "[2019-11-26 22:27:53,674] DEBUG - Uploading __init__.py to s3 btml-default-facial-features-detector-beadac/default/facial-features-detector/artifacts/PetRegression/20191126215827_17F2CC/__init__.py\n",
      "[2019-11-26 22:27:54,357] DEBUG - Uploading pet_regressor.pkl to s3 btml-default-facial-features-detector-beadac/default/facial-features-detector/artifacts/PetRegression/20191126215827_17F2CC/pet_regressor.pkl\n",
      "[2019-11-26 22:28:45,361] DEBUG - Created temporary directory: /private/var/folders/yl/c5z1v7897q3g9ywlj63pm0840000gn/T/bentoml-temp-ken392h_\n",
      "[2019-11-26 22:28:45,361] DEBUG - Generating cloudformation template.yaml for lambda project at /private/var/folders/yl/c5z1v7897q3g9ywlj63pm0840000gn/T/bentoml-temp-ken392h_\n",
      "[2019-11-26 22:28:49,139] DEBUG - Lambda project directory: /private/var/folders/yl/c5z1v7897q3g9ywlj63pm0840000gn/T/bentoml-temp-ken392h_\n",
      "[2019-11-26 22:28:49,140] DEBUG - initializing lambda project\n",
      "[2019-11-26 22:28:49,140] DEBUG - Coping requirements.txt\n",
      "[2019-11-26 22:28:49,266] DEBUG - Coping bundled_dependencies\n",
      "[2019-11-26 22:28:49,267] DEBUG - Coping model directory\n",
      "[2019-11-26 22:28:51,973] DEBUG - Removing artifacts directory\n",
      "[2019-11-26 22:28:51,980] DEBUG - Creating python files for lambda function\n",
      "[2019-11-26 22:28:52,011] INFO - Building lambda project\n",
      "[2019-11-26 22:47:56,276] DEBUG - SAM cmd ['sam', 'build', '--use-container'] output: \n",
      "Build Succeeded\n",
      "\n",
      "Built Artifacts  : .aws-sam/build\n",
      "Built Template   : .aws-sam/build/template.yaml\n",
      "\n",
      "Commands you can use next\n",
      "=========================\n",
      "[*] Invoke Function: sam local invoke\n",
      "[*] Deploy: sam deploy --guided\n",
      "    \n",
      "\n",
      "[2019-11-26 22:47:56,334] DEBUG - Removing unnecessary files to free up space\n",
      "[2019-11-26 22:47:56,334] DEBUG - Cleaning up unused files in SAM built directory /private/var/folders/yl/c5z1v7897q3g9ywlj63pm0840000gn/T/bentoml-temp-ken392h_/.aws-sam/build/predict\n",
      "[2019-11-26 22:47:56,335] DEBUG - removing dir blis-0.4.1.dist-info\n",
      "[2019-11-26 22:47:56,377] DEBUG - removing dir alembic-1.3.1.dist-info\n",
      "[2019-11-26 22:47:56,379] DEBUG - removing dir humanfriendly-4.18.dist-info\n",
      "[2019-11-26 22:47:56,381] DEBUG - removing dir chardet-3.0.4.dist-info\n",
      "[2019-11-26 22:47:56,383] DEBUG - removing dir importlib_metadata-0.23.dist-info\n",
      "[2019-11-26 22:47:56,396] DEBUG - removing dir numpy-1.17.4.dist-info\n",
      "[2019-11-26 22:47:56,397] DEBUG - removing dir urllib3-1.25.7.dist-info\n",
      "[2019-11-26 22:47:56,398] DEBUG - removing dir itsdangerous-1.1.0.dist-info\n",
      "[2019-11-26 22:47:56,399] DEBUG - removing dir tqdm-4.39.0.dist-info\n",
      "[2019-11-26 22:47:56,400] DEBUG - removing dir imageio-2.6.1.dist-info\n",
      "[2019-11-26 22:47:56,402] DEBUG - removing dir Pillow-6.2.1.dist-info\n",
      "[2019-11-26 22:47:56,403] DEBUG - removing dir SQLAlchemy-1.3.11.dist-info\n",
      "[2019-11-26 22:47:56,415] DEBUG - removing dir plac-1.1.3.dist-info\n",
      "[2019-11-26 22:47:56,417] DEBUG - removing dir cycler-0.10.0.dist-info\n",
      "[2019-11-26 22:47:56,418] DEBUG - removing dir configparser-4.0.2.dist-info\n",
      "[2019-11-26 22:47:56,419] DEBUG - removing dir more_itertools-7.2.0.dist-info\n",
      "[2019-11-26 22:47:56,421] DEBUG - removing dir ruamel.yaml-0.16.5.dist-info\n",
      "[2019-11-26 22:47:56,423] DEBUG - removing dir grpcio-1.25.0.dist-info\n",
      "[2019-11-26 22:47:56,430] DEBUG - removing dir Click-7.0.dist-info\n",
      "[2019-11-26 22:47:56,431] DEBUG - removing dir setuptools-42.0.1.dist-info\n",
      "[2019-11-26 22:47:56,440] DEBUG - removing dir Mako-1.1.0.dist-info\n",
      "[2019-11-26 22:47:56,441] DEBUG - removing dir Flask-1.1.1.dist-info\n",
      "[2019-11-26 22:47:56,442] DEBUG - removing dir MarkupSafe-1.1.1.dist-info\n",
      "[2019-11-26 22:47:56,443] DEBUG - removing dir zipp-0.6.0.dist-info\n",
      "[2019-11-26 22:47:56,444] DEBUG - removing dir PyYAML-5.1.2.dist-info\n",
      "[2019-11-26 22:47:56,445] DEBUG - removing dir Werkzeug-0.16.0.dist-info\n",
      "[2019-11-26 22:47:56,447] DEBUG - removing dir gunicorn-20.0.3.dist-info\n",
      "[2019-11-26 22:47:56,448] DEBUG - removing dir tabulate-0.8.6.dist-info\n",
      "[2019-11-26 22:47:56,474] DEBUG - removing dir prometheus_client-0.7.1.dist-info\n",
      "[2019-11-26 22:47:56,475] DEBUG - removing dir six-1.13.0.dist-info\n",
      "[2019-11-26 22:47:56,476] DEBUG - removing dir cymem-2.0.3.dist-info\n",
      "[2019-11-26 22:47:56,477] DEBUG - removing dir boto3-1.10.28.dist-info\n",
      "[2019-11-26 22:47:56,492] DEBUG - removing dir torchvision-0.4.2.dist-info\n",
      "[2019-11-26 22:47:56,493] DEBUG - removing dir pytz-2019.3.dist-info\n",
      "[2019-11-26 22:47:56,503] DEBUG - removing dir certifi-2019.9.11.dist-info\n",
      "[2019-11-26 22:47:56,505] DEBUG - removing dir thinc-7.3.1.dist-info\n",
      "[2019-11-26 22:47:56,506] DEBUG - removing dir catalogue-0.0.8.dist-info\n",
      "[2019-11-26 22:47:56,507] DEBUG - removing dir numexpr-2.7.0.dist-info\n",
      "[2019-11-26 22:47:56,527] DEBUG - removing dir docutils-0.15.2.dist-info\n",
      "[2019-11-26 22:47:56,536] DEBUG - removing dir beautifulsoup4-4.8.1.dist-info\n",
      "[2019-11-26 22:47:56,538] DEBUG - removing dir idna-2.8.dist-info\n",
      "[2019-11-26 22:47:56,549] DEBUG - removing dir websocket_client-0.56.0.dist-info\n",
      "[2019-11-26 22:47:56,550] DEBUG - removing dir Bottleneck-1.3.1.dist-info\n",
      "[2019-11-26 22:47:56,551] DEBUG - removing dir jmespath-0.9.4.dist-info\n",
      "[2019-11-26 22:47:56,552] DEBUG - removing dir pandas-0.25.3.dist-info\n",
      "[2019-11-26 22:47:56,567] DEBUG - removing dir matplotlib-3.1.2.dist-info\n",
      "[2019-11-26 22:47:56,568] DEBUG - removing dir preshed-3.0.2.dist-info\n",
      "[2019-11-26 22:47:56,585] DEBUG - removing dir BentoML-0.5.2.dist-info\n",
      "[2019-11-26 22:47:56,587] DEBUG - removing dir python_editor-1.0.4.dist-info\n",
      "[2019-11-26 22:47:56,589] DEBUG - removing dir wasabi-0.4.0.dist-info\n",
      "[2019-11-26 22:47:56,591] DEBUG - removing dir murmurhash-1.0.2.dist-info\n",
      "[2019-11-26 22:47:56,592] DEBUG - removing dir pyparsing-2.4.5.dist-info\n",
      "[2019-11-26 22:47:56,594] DEBUG - removing dir python_json_logger-0.1.11.dist-info\n",
      "[2019-11-26 22:47:56,595] DEBUG - removing dir srsly-0.2.0.dist-info\n",
      "[2019-11-26 22:47:56,597] DEBUG - removing dir packaging-19.2.dist-info\n",
      "[2019-11-26 22:47:56,606] DEBUG - removing dir spacy-2.2.3.dist-info\n",
      "[2019-11-26 22:47:56,620] DEBUG - removing dir pathlib2-2.3.5.dist-info\n",
      "[2019-11-26 22:47:56,624] DEBUG - removing dir ruamel.yaml.clib-0.2.0.dist-info\n",
      "[2019-11-26 22:47:56,625] DEBUG - removing dir botocore-1.13.28.dist-info\n",
      "[2019-11-26 22:47:56,627] DEBUG - removing dir soupsieve-1.9.5.dist-info\n",
      "[2019-11-26 22:47:56,636] DEBUG - removing dir nvidia_ml_py3-7.352.0.dist-info\n",
      "[2019-11-26 22:47:56,640] DEBUG - removing dir kiwisolver-1.1.0.dist-info\n",
      "[2019-11-26 22:47:56,642] DEBUG - removing dir Jinja2-2.10.3.dist-info\n",
      "[2019-11-26 22:47:56,644] DEBUG - removing dir scipy-1.3.3.dist-info\n",
      "[2019-11-26 22:47:56,650] DEBUG - removing dir requests-2.22.0.dist-info\n",
      "[2019-11-26 22:47:56,652] DEBUG - removing dir fastai-1.0.59.dist-info\n",
      "[2019-11-26 22:47:56,657] DEBUG - removing dir torch-1.3.1.dist-info\n",
      "[2019-11-26 22:47:56,660] DEBUG - removing dir protobuf-3.11.0.dist-info\n",
      "[2019-11-26 22:47:56,661] DEBUG - removing dir fastprogress-0.1.22.dist-info\n",
      "[2019-11-26 22:47:56,665] DEBUG - removing dir s3transfer-0.2.1.dist-info\n",
      "[2019-11-26 22:47:56,676] DEBUG - removing dir python_dateutil-2.8.1.dist-info\n",
      "[2019-11-26 22:47:56,678] DEBUG - removing dir Cerberus-1.3.2.dist-info\n",
      "[2019-11-26 22:47:56,680] DEBUG - removing dir docker-4.1.0.dist-info\n",
      "[2019-11-26 22:47:56,683] DEBUG - removing dir: /private/var/folders/yl/c5z1v7897q3g9ywlj63pm0840000gn/T/bentoml-temp-ken392h_/.aws-sam/build/predict/thinc/tests\n",
      "[2019-11-26 22:47:56,705] DEBUG - removing dir: /private/var/folders/yl/c5z1v7897q3g9ywlj63pm0840000gn/T/bentoml-temp-ken392h_/.aws-sam/build/predict/websocket/tests\n",
      "[2019-11-26 22:47:56,720] DEBUG - removing dir: /private/var/folders/yl/c5z1v7897q3g9ywlj63pm0840000gn/T/bentoml-temp-ken392h_/.aws-sam/build/predict/murmurhash/tests\n",
      "[2019-11-26 22:47:56,738] DEBUG - removing dir: /private/var/folders/yl/c5z1v7897q3g9ywlj63pm0840000gn/T/bentoml-temp-ken392h_/.aws-sam/build/predict/preshed/tests\n",
      "[2019-11-26 22:47:56,740] DEBUG - removing dir: /private/var/folders/yl/c5z1v7897q3g9ywlj63pm0840000gn/T/bentoml-temp-ken392h_/.aws-sam/build/predict/cymem/tests\n",
      "[2019-11-26 22:47:56,743] DEBUG - removing dir: /private/var/folders/yl/c5z1v7897q3g9ywlj63pm0840000gn/T/bentoml-temp-ken392h_/.aws-sam/build/predict/caffe2/python/test\n",
      "[2019-11-26 22:47:56,758] DEBUG - removing dir: /private/var/folders/yl/c5z1v7897q3g9ywlj63pm0840000gn/T/bentoml-temp-ken392h_/.aws-sam/build/predict/caffe2/python/examples\n",
      "[2019-11-26 22:47:56,783] DEBUG - removing dir: /private/var/folders/yl/c5z1v7897q3g9ywlj63pm0840000gn/T/bentoml-temp-ken392h_/.aws-sam/build/predict/caffe2/python/onnx/tests\n",
      "[2019-11-26 22:47:56,794] DEBUG - removing dir: /private/var/folders/yl/c5z1v7897q3g9ywlj63pm0840000gn/T/bentoml-temp-ken392h_/.aws-sam/build/predict/caffe2/contrib/script/examples\n",
      "[2019-11-26 22:47:56,800] DEBUG - removing dir: /private/var/folders/yl/c5z1v7897q3g9ywlj63pm0840000gn/T/bentoml-temp-ken392h_/.aws-sam/build/predict/wasabi/tests\n",
      "[2019-11-26 22:47:56,801] DEBUG - removing dir: /private/var/folders/yl/c5z1v7897q3g9ywlj63pm0840000gn/T/bentoml-temp-ken392h_/.aws-sam/build/predict/importlib_metadata/tests\n",
      "[2019-11-26 22:47:56,806] DEBUG - removing dir: /private/var/folders/yl/c5z1v7897q3g9ywlj63pm0840000gn/T/bentoml-temp-ken392h_/.aws-sam/build/predict/bs4/tests\n",
      "[2019-11-26 22:47:56,867] DEBUG - removing dir: /private/var/folders/yl/c5z1v7897q3g9ywlj63pm0840000gn/T/bentoml-temp-ken392h_/.aws-sam/build/predict/mpl_toolkits/tests\n",
      "[2019-11-26 22:47:56,958] DEBUG - removing dir: /private/var/folders/yl/c5z1v7897q3g9ywlj63pm0840000gn/T/bentoml-temp-ken392h_/.aws-sam/build/predict/numpy/tests\n",
      "[2019-11-26 22:47:56,975] DEBUG - removing dir: /private/var/folders/yl/c5z1v7897q3g9ywlj63pm0840000gn/T/bentoml-temp-ken392h_/.aws-sam/build/predict/numpy/distutils/tests\n",
      "[2019-11-26 22:47:56,994] DEBUG - removing dir: /private/var/folders/yl/c5z1v7897q3g9ywlj63pm0840000gn/T/bentoml-temp-ken392h_/.aws-sam/build/predict/numpy/compat/tests\n",
      "[2019-11-26 22:47:57,033] DEBUG - removing dir: /private/var/folders/yl/c5z1v7897q3g9ywlj63pm0840000gn/T/bentoml-temp-ken392h_/.aws-sam/build/predict/numpy/core/tests\n",
      "[2019-11-26 22:47:57,057] DEBUG - removing dir: /private/var/folders/yl/c5z1v7897q3g9ywlj63pm0840000gn/T/bentoml-temp-ken392h_/.aws-sam/build/predict/numpy/linalg/tests\n",
      "[2019-11-26 22:47:57,059] DEBUG - removing dir: /private/var/folders/yl/c5z1v7897q3g9ywlj63pm0840000gn/T/bentoml-temp-ken392h_/.aws-sam/build/predict/numpy/ma/tests\n",
      "[2019-11-26 22:47:57,061] DEBUG - removing dir: /private/var/folders/yl/c5z1v7897q3g9ywlj63pm0840000gn/T/bentoml-temp-ken392h_/.aws-sam/build/predict/numpy/f2py/tests\n",
      "[2019-11-26 22:47:57,073] DEBUG - removing dir: /private/var/folders/yl/c5z1v7897q3g9ywlj63pm0840000gn/T/bentoml-temp-ken392h_/.aws-sam/build/predict/numpy/testing/tests\n",
      "[2019-11-26 22:47:57,075] DEBUG - removing dir: /private/var/folders/yl/c5z1v7897q3g9ywlj63pm0840000gn/T/bentoml-temp-ken392h_/.aws-sam/build/predict/numpy/lib/tests\n",
      "[2019-11-26 22:47:57,082] DEBUG - removing dir: /private/var/folders/yl/c5z1v7897q3g9ywlj63pm0840000gn/T/bentoml-temp-ken392h_/.aws-sam/build/predict/numpy/fft/tests\n",
      "[2019-11-26 22:47:57,085] DEBUG - removing dir: /private/var/folders/yl/c5z1v7897q3g9ywlj63pm0840000gn/T/bentoml-temp-ken392h_/.aws-sam/build/predict/numpy/random/tests\n",
      "[2019-11-26 22:47:57,198] DEBUG - removing dir: /private/var/folders/yl/c5z1v7897q3g9ywlj63pm0840000gn/T/bentoml-temp-ken392h_/.aws-sam/build/predict/numpy/matrixlib/tests\n",
      "[2019-11-26 22:47:57,199] DEBUG - removing dir: /private/var/folders/yl/c5z1v7897q3g9ywlj63pm0840000gn/T/bentoml-temp-ken392h_/.aws-sam/build/predict/numpy/polynomial/tests\n",
      "[2019-11-26 22:47:57,201] DEBUG - removing dir: /private/var/folders/yl/c5z1v7897q3g9ywlj63pm0840000gn/T/bentoml-temp-ken392h_/.aws-sam/build/predict/more_itertools/tests\n",
      "[2019-11-26 22:47:57,270] DEBUG - removing dir: /private/var/folders/yl/c5z1v7897q3g9ywlj63pm0840000gn/T/bentoml-temp-ken392h_/.aws-sam/build/predict/bottleneck/tests\n",
      "[2019-11-26 22:47:57,287] DEBUG - removing dir: /private/var/folders/yl/c5z1v7897q3g9ywlj63pm0840000gn/T/bentoml-temp-ken392h_/.aws-sam/build/predict/srsly/tests\n",
      "[2019-11-26 22:47:57,294] DEBUG - removing dir: /private/var/folders/yl/c5z1v7897q3g9ywlj63pm0840000gn/T/bentoml-temp-ken392h_/.aws-sam/build/predict/cerberus/tests\n",
      "[2019-11-26 22:47:57,296] DEBUG - removing dir: /private/var/folders/yl/c5z1v7897q3g9ywlj63pm0840000gn/T/bentoml-temp-ken392h_/.aws-sam/build/predict/matplotlib/tests\n",
      "[2019-11-26 22:47:57,316] DEBUG - removing dir: /private/var/folders/yl/c5z1v7897q3g9ywlj63pm0840000gn/T/bentoml-temp-ken392h_/.aws-sam/build/predict/matplotlib/sphinxext/tests\n",
      "[2019-11-26 22:47:57,346] DEBUG - removing dir: /private/var/folders/yl/c5z1v7897q3g9ywlj63pm0840000gn/T/bentoml-temp-ken392h_/.aws-sam/build/predict/spacy/tests\n",
      "[2019-11-26 22:47:57,414] DEBUG - removing dir: /private/var/folders/yl/c5z1v7897q3g9ywlj63pm0840000gn/T/bentoml-temp-ken392h_/.aws-sam/build/predict/numexpr/tests\n",
      "[2019-11-26 22:47:57,429] DEBUG - removing dir: /private/var/folders/yl/c5z1v7897q3g9ywlj63pm0840000gn/T/bentoml-temp-ken392h_/.aws-sam/build/predict/scipy/odr/tests\n",
      "[2019-11-26 22:47:57,430] DEBUG - removing dir: /private/var/folders/yl/c5z1v7897q3g9ywlj63pm0840000gn/T/bentoml-temp-ken392h_/.aws-sam/build/predict/scipy/misc/tests\n",
      "[2019-11-26 22:47:57,432] DEBUG - removing dir: /private/var/folders/yl/c5z1v7897q3g9ywlj63pm0840000gn/T/bentoml-temp-ken392h_/.aws-sam/build/predict/scipy/cluster/tests\n",
      "[2019-11-26 22:47:57,433] DEBUG - removing dir: /private/var/folders/yl/c5z1v7897q3g9ywlj63pm0840000gn/T/bentoml-temp-ken392h_/.aws-sam/build/predict/scipy/ndimage/tests\n",
      "[2019-11-26 22:47:57,440] DEBUG - removing dir: /private/var/folders/yl/c5z1v7897q3g9ywlj63pm0840000gn/T/bentoml-temp-ken392h_/.aws-sam/build/predict/scipy/linalg/tests\n",
      "[2019-11-26 22:47:57,452] DEBUG - removing dir: /private/var/folders/yl/c5z1v7897q3g9ywlj63pm0840000gn/T/bentoml-temp-ken392h_/.aws-sam/build/predict/scipy/optimize/tests\n",
      "[2019-11-26 22:47:57,468] DEBUG - removing dir: /private/var/folders/yl/c5z1v7897q3g9ywlj63pm0840000gn/T/bentoml-temp-ken392h_/.aws-sam/build/predict/scipy/optimize/_trustregion_constr/tests\n",
      "[2019-11-26 22:47:57,475] DEBUG - removing dir: /private/var/folders/yl/c5z1v7897q3g9ywlj63pm0840000gn/T/bentoml-temp-ken392h_/.aws-sam/build/predict/scipy/integrate/tests\n",
      "[2019-11-26 22:47:57,491] DEBUG - removing dir: /private/var/folders/yl/c5z1v7897q3g9ywlj63pm0840000gn/T/bentoml-temp-ken392h_/.aws-sam/build/predict/scipy/constants/tests\n",
      "[2019-11-26 22:47:57,503] DEBUG - removing dir: /private/var/folders/yl/c5z1v7897q3g9ywlj63pm0840000gn/T/bentoml-temp-ken392h_/.aws-sam/build/predict/scipy/io/tests\n",
      "[2019-11-26 22:47:57,538] DEBUG - removing dir: /private/var/folders/yl/c5z1v7897q3g9ywlj63pm0840000gn/T/bentoml-temp-ken392h_/.aws-sam/build/predict/scipy/io/arff/tests\n",
      "[2019-11-26 22:47:57,545] DEBUG - removing dir: /private/var/folders/yl/c5z1v7897q3g9ywlj63pm0840000gn/T/bentoml-temp-ken392h_/.aws-sam/build/predict/scipy/io/harwell_boeing/tests\n",
      "[2019-11-26 22:47:57,546] DEBUG - removing dir: /private/var/folders/yl/c5z1v7897q3g9ywlj63pm0840000gn/T/bentoml-temp-ken392h_/.aws-sam/build/predict/scipy/io/matlab/tests\n",
      "[2019-11-26 22:47:57,580] DEBUG - removing dir: /private/var/folders/yl/c5z1v7897q3g9ywlj63pm0840000gn/T/bentoml-temp-ken392h_/.aws-sam/build/predict/scipy/_lib/tests\n",
      "[2019-11-26 22:47:57,586] DEBUG - removing dir: /private/var/folders/yl/c5z1v7897q3g9ywlj63pm0840000gn/T/bentoml-temp-ken392h_/.aws-sam/build/predict/scipy/special/tests\n",
      "[2019-11-26 22:47:57,600] DEBUG - removing dir: /private/var/folders/yl/c5z1v7897q3g9ywlj63pm0840000gn/T/bentoml-temp-ken392h_/.aws-sam/build/predict/scipy/fftpack/tests\n",
      "[2019-11-26 22:47:57,606] DEBUG - removing dir: /private/var/folders/yl/c5z1v7897q3g9ywlj63pm0840000gn/T/bentoml-temp-ken392h_/.aws-sam/build/predict/scipy/interpolate/tests\n",
      "[2019-11-26 22:47:57,610] DEBUG - removing dir: /private/var/folders/yl/c5z1v7897q3g9ywlj63pm0840000gn/T/bentoml-temp-ken392h_/.aws-sam/build/predict/scipy/sparse/tests\n",
      "[2019-11-26 22:47:57,614] DEBUG - removing dir: /private/var/folders/yl/c5z1v7897q3g9ywlj63pm0840000gn/T/bentoml-temp-ken392h_/.aws-sam/build/predict/scipy/sparse/linalg/tests\n",
      "[2019-11-26 22:47:57,616] DEBUG - removing dir: /private/var/folders/yl/c5z1v7897q3g9ywlj63pm0840000gn/T/bentoml-temp-ken392h_/.aws-sam/build/predict/scipy/sparse/linalg/isolve/tests\n",
      "[2019-11-26 22:47:57,622] DEBUG - removing dir: /private/var/folders/yl/c5z1v7897q3g9ywlj63pm0840000gn/T/bentoml-temp-ken392h_/.aws-sam/build/predict/scipy/sparse/linalg/eigen/arpack/tests\n",
      "[2019-11-26 22:47:57,624] DEBUG - removing dir: /private/var/folders/yl/c5z1v7897q3g9ywlj63pm0840000gn/T/bentoml-temp-ken392h_/.aws-sam/build/predict/scipy/sparse/linalg/eigen/lobpcg/tests\n",
      "[2019-11-26 22:47:57,625] DEBUG - removing dir: /private/var/folders/yl/c5z1v7897q3g9ywlj63pm0840000gn/T/bentoml-temp-ken392h_/.aws-sam/build/predict/scipy/sparse/linalg/dsolve/tests\n",
      "[2019-11-26 22:47:57,648] DEBUG - removing dir: /private/var/folders/yl/c5z1v7897q3g9ywlj63pm0840000gn/T/bentoml-temp-ken392h_/.aws-sam/build/predict/scipy/sparse/csgraph/tests\n",
      "[2019-11-26 22:47:57,660] DEBUG - removing dir: /private/var/folders/yl/c5z1v7897q3g9ywlj63pm0840000gn/T/bentoml-temp-ken392h_/.aws-sam/build/predict/scipy/spatial/tests\n",
      "[2019-11-26 22:47:57,707] DEBUG - removing dir: /private/var/folders/yl/c5z1v7897q3g9ywlj63pm0840000gn/T/bentoml-temp-ken392h_/.aws-sam/build/predict/scipy/spatial/transform/tests\n",
      "[2019-11-26 22:47:57,710] DEBUG - removing dir: /private/var/folders/yl/c5z1v7897q3g9ywlj63pm0840000gn/T/bentoml-temp-ken392h_/.aws-sam/build/predict/scipy/signal/tests\n",
      "[2019-11-26 22:47:57,714] DEBUG - removing dir: /private/var/folders/yl/c5z1v7897q3g9ywlj63pm0840000gn/T/bentoml-temp-ken392h_/.aws-sam/build/predict/scipy/stats/tests\n",
      "[2019-11-26 22:47:57,721] DEBUG - removing dir: /private/var/folders/yl/c5z1v7897q3g9ywlj63pm0840000gn/T/bentoml-temp-ken392h_/.aws-sam/build/predict/blis/tests\n",
      "[2019-11-26 22:47:57,723] DEBUG - removing dir: /private/var/folders/yl/c5z1v7897q3g9ywlj63pm0840000gn/T/bentoml-temp-ken392h_/.aws-sam/build/predict/pandas/tests\n",
      "[2019-11-26 22:47:57,943] DEBUG - removing dir: /private/var/folders/yl/c5z1v7897q3g9ywlj63pm0840000gn/T/bentoml-temp-ken392h_/.aws-sam/build/predict/boto3/examples\n",
      "[2019-11-26 22:47:57,946] INFO - Packaging lambda project\n"
     ]
    }
   ],
   "source": [
    "!bentoml --verbose deployment create facial-features-detector --bento {bento_tag} --platform aws-lambda "
   ]
  },
  {
   "cell_type": "code",
   "execution_count": null,
   "metadata": {},
   "outputs": [],
   "source": []
  }
 ],
 "metadata": {
  "kernelspec": {
   "display_name": "bentoml_env",
   "language": "python",
   "name": "bentoml_env"
  },
  "language_info": {
   "codemirror_mode": {
    "name": "ipython",
    "version": 3
   },
   "file_extension": ".py",
   "mimetype": "text/x-python",
   "name": "python",
   "nbconvert_exporter": "python",
   "pygments_lexer": "ipython3",
   "version": "3.7.5"
  }
 },
 "nbformat": 4,
 "nbformat_minor": 4
}
