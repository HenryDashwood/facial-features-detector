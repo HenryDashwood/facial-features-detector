{
 "cells": [
  {
   "cell_type": "code",
   "execution_count": 1,
   "metadata": {},
   "outputs": [],
   "source": [
    "%reload_ext autoreload\n",
    "%autoreload 2"
   ]
  },
  {
   "cell_type": "code",
   "execution_count": 12,
   "metadata": {},
   "outputs": [],
   "source": [
    "from fastai.vision import *\n",
    "from fastai.callbacks import SaveModelCallback, EarlyStoppingCallback\n",
    "import numpy as np\n",
    "import pandas as pd\n",
    "\n",
    "import torch\n",
    "from  torch import nn"
   ]
  },
  {
   "cell_type": "code",
   "execution_count": 13,
   "metadata": {},
   "outputs": [],
   "source": [
    "images_path = '../data/resized_images'\n",
    "labels_path = '../data/resized_labels.csv'\n",
    "target_size = 320"
   ]
  },
  {
   "cell_type": "code",
   "execution_count": 14,
   "metadata": {},
   "outputs": [],
   "source": [
    "y = pd.read_csv(labels_path, index_col='filename')"
   ]
  },
  {
   "cell_type": "code",
   "execution_count": 15,
   "metadata": {},
   "outputs": [],
   "source": [
    "def get_y_func(x):\n",
    "    filename = str(x).split('/')[-1]\n",
    "    coord_list = []\n",
    "    coords = list(y.loc[filename])\n",
    "    for i in range(len(coords)//2):\n",
    "        coord_list.append([coords[i*2+1],coords[i*2]])\n",
    "    return tensor(coord_list)"
   ]
  },
  {
   "cell_type": "code",
   "execution_count": 16,
   "metadata": {},
   "outputs": [],
   "source": [
    "transforms = get_transforms(\n",
    "    do_flip=False,\n",
    "    max_rotate=45, \n",
    "    max_zoom=1.5, \n",
    "    max_lighting=0.5, \n",
    "    max_warp=0.4, \n",
    "    p_affine=1., \n",
    "    p_lighting=1.\n",
    ") "
   ]
  },
  {
   "cell_type": "code",
   "execution_count": 17,
   "metadata": {},
   "outputs": [],
   "source": [
    "data = (\n",
    "    PointsItemList\n",
    "        .from_folder(images_path)\n",
    "        .split_by_rand_pct(0.15)\n",
    "        .label_from_func(get_y_func)\n",
    "        .transform(\n",
    "            transforms,\n",
    "            size=320,\n",
    "            tfm_y=True, \n",
    "            remove_out=False, \n",
    "            padding_mode='reflection', \n",
    "            resize_method=ResizeMethod.PAD\n",
    "        )\n",
    "        .databunch()\n",
    "        .normalize(imagenet_stats)\n",
    ")"
   ]
  },
  {
   "cell_type": "code",
   "execution_count": 18,
   "metadata": {},
   "outputs": [],
   "source": [
    "# data.show_batch(3, figsize=(6,6))"
   ]
  },
  {
   "cell_type": "code",
   "execution_count": 19,
   "metadata": {},
   "outputs": [],
   "source": [
    "learn = cnn_learner(\n",
    "    data, \n",
    "    models.resnet34, \n",
    "    loss_func=MSELossFlat()\n",
    ")#.to_fp16()"
   ]
  },
  {
   "cell_type": "code",
   "execution_count": 20,
   "metadata": {},
   "outputs": [],
   "source": [
    "learn.path = Path('..')"
   ]
  },
  {
   "cell_type": "code",
   "execution_count": 1,
   "metadata": {},
   "outputs": [],
   "source": [
    "learn.lr_find()\n",
    "learn.recorder.plot()"
   ]
  },
  {
   "cell_type": "code",
   "execution_count": 16,
   "metadata": {},
   "outputs": [
    {
     "data": {
      "text/html": [
       "\n",
       "    <div>\n",
       "        <style>\n",
       "            /* Turns off some styling */\n",
       "            progress {\n",
       "                /* gets rid of default border in Firefox and Opera. */\n",
       "                border: none;\n",
       "                /* Needs to be in here for Safari polyfill so background images work as expected. */\n",
       "                background-size: auto;\n",
       "            }\n",
       "            .progress-bar-interrupted, .progress-bar-interrupted::-webkit-progress-bar {\n",
       "                background: #F44336;\n",
       "            }\n",
       "        </style>\n",
       "      <progress value='12' class='' max='30', style='width:300px; height:20px; vertical-align: middle;'></progress>\n",
       "      40.00% [12/30 14:19<21:29]\n",
       "    </div>\n",
       "    \n",
       "<table border=\"1\" class=\"dataframe\">\n",
       "  <thead>\n",
       "    <tr style=\"text-align: left;\">\n",
       "      <th>epoch</th>\n",
       "      <th>train_loss</th>\n",
       "      <th>valid_loss</th>\n",
       "      <th>time</th>\n",
       "    </tr>\n",
       "  </thead>\n",
       "  <tbody>\n",
       "    <tr>\n",
       "      <td>0</td>\n",
       "      <td>1.042396</td>\n",
       "      <td>0.198158</td>\n",
       "      <td>01:11</td>\n",
       "    </tr>\n",
       "    <tr>\n",
       "      <td>1</td>\n",
       "      <td>0.604568</td>\n",
       "      <td>0.094170</td>\n",
       "      <td>01:10</td>\n",
       "    </tr>\n",
       "    <tr>\n",
       "      <td>2</td>\n",
       "      <td>0.315669</td>\n",
       "      <td>0.060653</td>\n",
       "      <td>01:11</td>\n",
       "    </tr>\n",
       "    <tr>\n",
       "      <td>3</td>\n",
       "      <td>0.202752</td>\n",
       "      <td>0.063023</td>\n",
       "      <td>01:11</td>\n",
       "    </tr>\n",
       "    <tr>\n",
       "      <td>4</td>\n",
       "      <td>0.169145</td>\n",
       "      <td>0.056395</td>\n",
       "      <td>01:11</td>\n",
       "    </tr>\n",
       "    <tr>\n",
       "      <td>5</td>\n",
       "      <td>0.142665</td>\n",
       "      <td>0.048790</td>\n",
       "      <td>01:11</td>\n",
       "    </tr>\n",
       "    <tr>\n",
       "      <td>6</td>\n",
       "      <td>0.105508</td>\n",
       "      <td>0.034817</td>\n",
       "      <td>01:11</td>\n",
       "    </tr>\n",
       "    <tr>\n",
       "      <td>7</td>\n",
       "      <td>0.084674</td>\n",
       "      <td>0.025406</td>\n",
       "      <td>01:11</td>\n",
       "    </tr>\n",
       "    <tr>\n",
       "      <td>8</td>\n",
       "      <td>0.064814</td>\n",
       "      <td>0.016685</td>\n",
       "      <td>01:11</td>\n",
       "    </tr>\n",
       "    <tr>\n",
       "      <td>9</td>\n",
       "      <td>0.073346</td>\n",
       "      <td>0.015950</td>\n",
       "      <td>01:11</td>\n",
       "    </tr>\n",
       "    <tr>\n",
       "      <td>10</td>\n",
       "      <td>0.058177</td>\n",
       "      <td>0.012695</td>\n",
       "      <td>01:10</td>\n",
       "    </tr>\n",
       "    <tr>\n",
       "      <td>11</td>\n",
       "      <td>0.048850</td>\n",
       "      <td>0.012001</td>\n",
       "      <td>01:11</td>\n",
       "    </tr>\n",
       "  </tbody>\n",
       "</table><p>\n",
       "\n",
       "    <div>\n",
       "        <style>\n",
       "            /* Turns off some styling */\n",
       "            progress {\n",
       "                /* gets rid of default border in Firefox and Opera. */\n",
       "                border: none;\n",
       "                /* Needs to be in here for Safari polyfill so background images work as expected. */\n",
       "                background-size: auto;\n",
       "            }\n",
       "            .progress-bar-interrupted, .progress-bar-interrupted::-webkit-progress-bar {\n",
       "                background: #F44336;\n",
       "            }\n",
       "        </style>\n",
       "      <progress value='15' class='' max='15', style='width:300px; height:20px; vertical-align: middle;'></progress>\n",
       "      100.00% [15/15 00:05<00:00]\n",
       "    </div>\n",
       "    "
      ],
      "text/plain": [
       "<IPython.core.display.HTML object>"
      ]
     },
     "metadata": {},
     "output_type": "display_data"
    },
    {
     "name": "stdout",
     "output_type": "stream",
     "text": [
      "Better model found at epoch 0 with valid_loss value: 0.19815798103809357.\n",
      "Better model found at epoch 1 with valid_loss value: 0.09417025744915009.\n",
      "Better model found at epoch 2 with valid_loss value: 0.060653455555438995.\n",
      "Better model found at epoch 4 with valid_loss value: 0.05639549344778061.\n",
      "Better model found at epoch 5 with valid_loss value: 0.048790331929922104.\n",
      "Better model found at epoch 6 with valid_loss value: 0.03481731191277504.\n",
      "Better model found at epoch 7 with valid_loss value: 0.025406161323189735.\n",
      "Better model found at epoch 8 with valid_loss value: 0.016685357317328453.\n",
      "Better model found at epoch 9 with valid_loss value: 0.015950292348861694.\n",
      "Better model found at epoch 10 with valid_loss value: 0.012695029377937317.\n",
      "Better model found at epoch 11 with valid_loss value: 0.012000830844044685.\n",
      "Epoch 12: early stopping\n"
     ]
    }
   ],
   "source": [
    "learn.freeze_to(-1)\n",
    "learn.fit_one_cycle(\n",
    "    30, \n",
    "    slice(1e-2), \n",
    "    callbacks=[\n",
    "        SaveModelCallback(learn, every='improvement', monitor='valid_loss', name='resnet34_frozen_to_-1'),\n",
    "        EarlyStoppingCallback(learn, monitor='valid_loss', min_delta=0.01, patience=3)\n",
    "    ]\n",
    ")"
   ]
  },
  {
   "cell_type": "code",
   "execution_count": 21,
   "metadata": {},
   "outputs": [],
   "source": [
    "learn = learn.load('fastai_model')\n",
    "learn = learn.to_fp32()\n",
    "learn.save('fastai_model')"
   ]
  },
  {
   "cell_type": "code",
   "execution_count": 22,
   "metadata": {},
   "outputs": [],
   "source": [
    "learn.export('models/export.pkl')\n",
    "learn = load_learner('../models', 'export.pkl')"
   ]
  },
  {
   "cell_type": "code",
   "execution_count": 23,
   "metadata": {},
   "outputs": [],
   "source": [
    "# learn.show_results(rows=10)"
   ]
  },
  {
   "cell_type": "markdown",
   "metadata": {},
   "source": [
    "### Sagemaker route"
   ]
  },
  {
   "cell_type": "code",
   "execution_count": 25,
   "metadata": {},
   "outputs": [],
   "source": [
    "import tarfile\n",
    "import sagemaker\n",
    "from sagemaker.utils import name_from_base\n",
    "from sagemaker.predictor import RealTimePredictor, json_deserializer\n",
    "from sagemaker.pytorch.model import PyTorchModel\n",
    "\n",
    "with tarfile.open('../models/model.tar.gz', 'w:gz') as f:\n",
    "    t = tarfile.TarInfo('models')\n",
    "    t.type = tarfile.DIRTYPE\n",
    "    f.addfile(t)\n",
    "    f.add('../models/export.pkl', arcname='model.pkl')"
   ]
  },
  {
   "cell_type": "code",
   "execution_count": null,
   "metadata": {},
   "outputs": [],
   "source": [
    "sagemaker_session = sagemaker.Session()\n",
    "bucket = sagemaker_session.default_bucket()\n",
    "prefix = f'sagemaker/{name_from_base(\"facial-features-model\")}'\n",
    "model_artefact = sagemaker_session.upload_data(\n",
    "    path=str('../models/model.tar.gz'), \n",
    "    bucket=bucket, \n",
    "    key_prefix=prefix\n",
    ")"
   ]
  },
  {
   "cell_type": "code",
   "execution_count": null,
   "metadata": {},
   "outputs": [],
   "source": [
    "class ImagePredictor(RealTimePredictor):\n",
    "    def __init__(self, endpoint_name, sagemaker_session):\n",
    "        super().__init__(\n",
    "            endpoint_name, \n",
    "            sagemaker_session=sagemaker_session, \n",
    "            serializer=None, \n",
    "            deserializer=json_deserializer, \n",
    "            content_type='image/jpeg'\n",
    "        )"
   ]
  },
  {
   "cell_type": "code",
   "execution_count": 35,
   "metadata": {},
   "outputs": [],
   "source": [
    "role = ###\n",
    "# sagemaker.get_execution_role()\n",
    "\n",
    "model = PyTorchModel(\n",
    "    model_data=model_artefact, \n",
    "    name=name_from_base(\"facial-features-model\"),\n",
    "    role=role,\n",
    "    framework_version='1.2.0', \n",
    "    entry_point='serve.py', \n",
    "    predictor_cls=ImagePredictor\n",
    ")"
   ]
  },
  {
   "cell_type": "code",
   "execution_count": 36,
   "metadata": {},
   "outputs": [
    {
     "name": "stdout",
     "output_type": "stream",
     "text": [
      "-------------------------------------------------------------------------------------------------------------------------------------!"
     ]
    }
   ],
   "source": [
    "predictor = model.deploy(initial_instance_count=1, instance_type='ml.t2.medium')"
   ]
  },
  {
   "cell_type": "code",
   "execution_count": 11,
   "metadata": {},
   "outputs": [],
   "source": [
    "url = \"https://mtpcontent-dev.s3.amazonaws.com/ce99060e047d44279e0887270af5afe6.png\"\n",
    "img_bytes = requests.get(url).content\n",
    "predictor.predict(img_bytes); response"
   ]
  },
  {
   "cell_type": "markdown",
   "metadata": {},
   "source": [
    "### Bentoml Route"
   ]
  },
  {
   "cell_type": "code",
   "execution_count": 26,
   "metadata": {},
   "outputs": [
    {
     "name": "stdout",
     "output_type": "stream",
     "text": [
      "Overwriting pet_regression.py\n"
     ]
    }
   ],
   "source": [
    "%%writefile pet_regression.py\n",
    "from bentoml import BentoService, api, env, artifacts \n",
    "from bentoml.artifact import FastaiModelArtifact\n",
    "from bentoml.handlers import FastaiImageHandler\n",
    "\n",
    "@env(pip_dependencies=['fastai'])\n",
    "@artifacts([FastaiModelArtifact('pet_regressor')])\n",
    "class PetRegression(BentoService):\n",
    "    \n",
    "    @api(FastaiImageHandler)\n",
    "    def predict(self, image):\n",
    "        result = self.artifacts.pet_regressor.predict(image)\n",
    "        return str(result)"
   ]
  },
  {
   "cell_type": "code",
   "execution_count": 27,
   "metadata": {},
   "outputs": [
    {
     "name": "stdout",
     "output_type": "stream",
     "text": [
      "[2019-12-02 23:33:08,301] INFO - BentoService bundle 'PetRegression:20191202233106_823B69' created at: /private/var/folders/yl/c5z1v7897q3g9ywlj63pm0840000gn/T/bentoml-temp-r3enypu5\n",
      "[2019-12-02 23:33:14,883] INFO - BentoService bundle 'PetRegression:20191202233106_823B69' created at: /Users/HenryDashwood/bentoml/repository/PetRegression/20191202233106_823B69\n"
     ]
    }
   ],
   "source": [
    "# 1) import the custom BentoService defined above\n",
    "from pet_regression import PetRegression\n",
    "\n",
    "# 2) `pack` it with required artifacts\n",
    "service = PetRegression.pack(pet_regressor=learn)\n",
    "\n",
    "# 3) save your BentoSerivce\n",
    "saved_path = service.save()"
   ]
  },
  {
   "cell_type": "code",
   "execution_count": 28,
   "metadata": {},
   "outputs": [
    {
     "name": "stdout",
     "output_type": "stream",
     "text": [
      "[2019-12-02 23:33:15,686] WARNING - Module `pet_regression` already loaded, using existing imported module.\n",
      "(ImagePoints (320, 320), tensor([[-0.2351, -0.2560],\n",
      "        [-0.4411, -0.2174],\n",
      "        [-0.4887,  0.1409],\n",
      "        [-0.3563,  0.3775],\n",
      "        [-0.0818,  0.4484],\n",
      "        [ 0.1933, -0.0060],\n",
      "        [-0.2732, -0.0603],\n",
      "        [-0.2323,  0.2372],\n",
      "        [ 0.1059, -0.0733],\n",
      "        [ 0.0767,  0.0006],\n",
      "        [ 0.1394,  0.0717]]), tensor([-0.2351, -0.2560, -0.4411, -0.2174, -0.4887,  0.1409, -0.3563,  0.3775,\n",
      "        -0.0818,  0.4484,  0.1933, -0.0060, -0.2732, -0.0603, -0.2323,  0.2372,\n",
      "         0.1059, -0.0733,  0.0767,  0.0006,  0.1394,  0.0717]))\n"
     ]
    }
   ],
   "source": [
    "from bentoml import load\n",
    "\n",
    "service = load(saved_path)\n",
    "\n",
    "print(service.predict(data.get(0)))"
   ]
  },
  {
   "cell_type": "code",
   "execution_count": 29,
   "metadata": {},
   "outputs": [
    {
     "name": "stdout",
     "output_type": "stream",
     "text": [
      "Processing /Users/HenryDashwood/bentoml/repository/PetRegression/20191202233106_823B69\n",
      "Collecting bentoml==0.5.2\n",
      "  Using cached https://files.pythonhosted.org/packages/6d/9e/a612288dd4296b7c40f4e2d6826c94986947afa6918f9088f0de87d71286/BentoML-0.5.2-py3-none-any.whl\n",
      "Requirement already satisfied, skipping upgrade: fastai in /Users/HenryDashwood/.pyenv/versions/miniconda3-latest/lib/python3.7/site-packages (from PetRegression===20191202233106-823B69) (1.0.59)\n",
      "Requirement already satisfied, skipping upgrade: imageio in /Users/HenryDashwood/.pyenv/versions/miniconda3-latest/lib/python3.7/site-packages (from PetRegression===20191202233106-823B69) (2.6.1)\n",
      "Requirement already satisfied, skipping upgrade: packaging in /Users/HenryDashwood/.pyenv/versions/miniconda3-latest/lib/python3.7/site-packages (from bentoml==0.5.2->PetRegression===20191202233106-823B69) (19.2)\n",
      "Requirement already satisfied, skipping upgrade: configparser in /Users/HenryDashwood/.pyenv/versions/miniconda3-latest/lib/python3.7/site-packages (from bentoml==0.5.2->PetRegression===20191202233106-823B69) (4.0.2)\n",
      "Requirement already satisfied, skipping upgrade: protobuf>=3.6.0 in /Users/HenryDashwood/.pyenv/versions/miniconda3-latest/lib/python3.7/site-packages (from bentoml==0.5.2->PetRegression===20191202233106-823B69) (3.10.0)\n",
      "Requirement already satisfied, skipping upgrade: sqlalchemy>=1.3.0 in /Users/HenryDashwood/.pyenv/versions/miniconda3-latest/lib/python3.7/site-packages (from bentoml==0.5.2->PetRegression===20191202233106-823B69) (1.3.11)\n",
      "Requirement already satisfied, skipping upgrade: ruamel.yaml>=0.15.0 in /Users/HenryDashwood/.pyenv/versions/miniconda3-latest/lib/python3.7/site-packages (from bentoml==0.5.2->PetRegression===20191202233106-823B69) (0.16.5)\n",
      "Requirement already satisfied, skipping upgrade: python-json-logger in /Users/HenryDashwood/.pyenv/versions/miniconda3-latest/lib/python3.7/site-packages (from bentoml==0.5.2->PetRegression===20191202233106-823B69) (0.1.11)\n",
      "Requirement already satisfied, skipping upgrade: flask in /Users/HenryDashwood/.local/lib/python3.7/site-packages (from bentoml==0.5.2->PetRegression===20191202233106-823B69) (1.0.4)\n",
      "Requirement already satisfied, skipping upgrade: alembic in /Users/HenryDashwood/.pyenv/versions/miniconda3-latest/lib/python3.7/site-packages (from bentoml==0.5.2->PetRegression===20191202233106-823B69) (1.3.0)\n",
      "Requirement already satisfied, skipping upgrade: prometheus-client in /Users/HenryDashwood/.pyenv/versions/miniconda3-latest/lib/python3.7/site-packages (from bentoml==0.5.2->PetRegression===20191202233106-823B69) (0.7.1)\n",
      "Requirement already satisfied, skipping upgrade: pathlib2 in /Users/HenryDashwood/.pyenv/versions/miniconda3-latest/lib/python3.7/site-packages (from bentoml==0.5.2->PetRegression===20191202233106-823B69) (2.3.5)\n",
      "Requirement already satisfied, skipping upgrade: gunicorn in /Users/HenryDashwood/.pyenv/versions/miniconda3-latest/lib/python3.7/site-packages (from bentoml==0.5.2->PetRegression===20191202233106-823B69) (20.0.0)\n",
      "Requirement already satisfied, skipping upgrade: six in /Users/HenryDashwood/.local/lib/python3.7/site-packages (from bentoml==0.5.2->PetRegression===20191202233106-823B69) (1.11.0)\n",
      "Requirement already satisfied, skipping upgrade: pandas in /Users/HenryDashwood/.pyenv/versions/miniconda3-latest/lib/python3.7/site-packages (from bentoml==0.5.2->PetRegression===20191202233106-823B69) (0.25.3)\n",
      "Requirement already satisfied, skipping upgrade: cerberus in /Users/HenryDashwood/.pyenv/versions/miniconda3-latest/lib/python3.7/site-packages (from bentoml==0.5.2->PetRegression===20191202233106-823B69) (1.3.2)\n",
      "Requirement already satisfied, skipping upgrade: click>=7.0 in /Users/HenryDashwood/.pyenv/versions/miniconda3-latest/lib/python3.7/site-packages (from bentoml==0.5.2->PetRegression===20191202233106-823B69) (7.0)\n",
      "Requirement already satisfied, skipping upgrade: docker in /Users/HenryDashwood/.pyenv/versions/miniconda3-latest/lib/python3.7/site-packages (from bentoml==0.5.2->PetRegression===20191202233106-823B69) (4.1.0)\n",
      "Requirement already satisfied, skipping upgrade: tabulate in /Users/HenryDashwood/.pyenv/versions/miniconda3-latest/lib/python3.7/site-packages (from bentoml==0.5.2->PetRegression===20191202233106-823B69) (0.8.5)\n",
      "Requirement already satisfied, skipping upgrade: grpcio in /Users/HenryDashwood/.pyenv/versions/miniconda3-latest/lib/python3.7/site-packages (from bentoml==0.5.2->PetRegression===20191202233106-823B69) (1.25.0)\n",
      "Requirement already satisfied, skipping upgrade: humanfriendly in /Users/HenryDashwood/.pyenv/versions/miniconda3-latest/lib/python3.7/site-packages (from bentoml==0.5.2->PetRegression===20191202233106-823B69) (4.18)\n",
      "Requirement already satisfied, skipping upgrade: numpy in /Users/HenryDashwood/.pyenv/versions/miniconda3-latest/lib/python3.7/site-packages (from bentoml==0.5.2->PetRegression===20191202233106-823B69) (1.17.4)\n",
      "Requirement already satisfied, skipping upgrade: requests in /Users/HenryDashwood/.pyenv/versions/miniconda3-latest/lib/python3.7/site-packages (from bentoml==0.5.2->PetRegression===20191202233106-823B69) (2.22.0)\n",
      "Requirement already satisfied, skipping upgrade: boto3 in /Users/HenryDashwood/.pyenv/versions/miniconda3-latest/lib/python3.7/site-packages (from bentoml==0.5.2->PetRegression===20191202233106-823B69) (1.10.16)\n",
      "Requirement already satisfied, skipping upgrade: Pillow in /Users/HenryDashwood/.pyenv/versions/miniconda3-latest/lib/python3.7/site-packages (from fastai->PetRegression===20191202233106-823B69) (6.2.1)\n",
      "Requirement already satisfied, skipping upgrade: beautifulsoup4 in /Users/HenryDashwood/.pyenv/versions/miniconda3-latest/lib/python3.7/site-packages (from fastai->PetRegression===20191202233106-823B69) (4.8.1)\n",
      "Requirement already satisfied, skipping upgrade: torch>=1.0.0 in /Users/HenryDashwood/.pyenv/versions/miniconda3-latest/lib/python3.7/site-packages (from fastai->PetRegression===20191202233106-823B69) (1.3.1)\n",
      "Requirement already satisfied, skipping upgrade: nvidia-ml-py3 in /Users/HenryDashwood/.pyenv/versions/miniconda3-latest/lib/python3.7/site-packages (from fastai->PetRegression===20191202233106-823B69) (7.352.0)\n",
      "Requirement already satisfied, skipping upgrade: bottleneck in /Users/HenryDashwood/.pyenv/versions/miniconda3-latest/lib/python3.7/site-packages (from fastai->PetRegression===20191202233106-823B69) (1.2.1)\n",
      "Requirement already satisfied, skipping upgrade: fastprogress>=0.1.19 in /Users/HenryDashwood/.pyenv/versions/miniconda3-latest/lib/python3.7/site-packages (from fastai->PetRegression===20191202233106-823B69) (0.1.21)\n",
      "Requirement already satisfied, skipping upgrade: scipy in /Users/HenryDashwood/.pyenv/versions/miniconda3-latest/lib/python3.7/site-packages (from fastai->PetRegression===20191202233106-823B69) (1.3.2)\n",
      "Requirement already satisfied, skipping upgrade: numexpr in /Users/HenryDashwood/.pyenv/versions/miniconda3-latest/lib/python3.7/site-packages (from fastai->PetRegression===20191202233106-823B69) (2.7.0)\n",
      "Requirement already satisfied, skipping upgrade: spacy>=2.0.18 in /Users/HenryDashwood/.pyenv/versions/miniconda3-latest/lib/python3.7/site-packages (from fastai->PetRegression===20191202233106-823B69) (2.2.2)\n",
      "Requirement already satisfied, skipping upgrade: pynvx>=1.0.0; platform_system == \"Darwin\" in /Users/HenryDashwood/.pyenv/versions/miniconda3-latest/lib/python3.7/site-packages (from fastai->PetRegression===20191202233106-823B69) (1.0.0)\n",
      "Requirement already satisfied, skipping upgrade: pyyaml in /Users/HenryDashwood/.pyenv/versions/miniconda3-latest/lib/python3.7/site-packages (from fastai->PetRegression===20191202233106-823B69) (5.1.2)\n",
      "Requirement already satisfied, skipping upgrade: torchvision in /Users/HenryDashwood/.pyenv/versions/miniconda3-latest/lib/python3.7/site-packages (from fastai->PetRegression===20191202233106-823B69) (0.4.2)\n",
      "Requirement already satisfied, skipping upgrade: matplotlib in /Users/HenryDashwood/.pyenv/versions/miniconda3-latest/lib/python3.7/site-packages (from fastai->PetRegression===20191202233106-823B69) (3.1.1)\n",
      "Requirement already satisfied, skipping upgrade: pyparsing>=2.0.2 in /Users/HenryDashwood/.pyenv/versions/miniconda3-latest/lib/python3.7/site-packages (from packaging->bentoml==0.5.2->PetRegression===20191202233106-823B69) (2.4.5)\n",
      "Requirement already satisfied, skipping upgrade: setuptools in /Users/HenryDashwood/.local/lib/python3.7/site-packages (from protobuf>=3.6.0->bentoml==0.5.2->PetRegression===20191202233106-823B69) (41.4.0)\n",
      "Requirement already satisfied, skipping upgrade: ruamel.yaml.clib>=0.1.2; platform_python_implementation == \"CPython\" and python_version < \"3.8\" in /Users/HenryDashwood/.pyenv/versions/miniconda3-latest/lib/python3.7/site-packages (from ruamel.yaml>=0.15.0->bentoml==0.5.2->PetRegression===20191202233106-823B69) (0.2.0)\n",
      "Requirement already satisfied, skipping upgrade: Werkzeug>=0.14 in /Users/HenryDashwood/.pyenv/versions/miniconda3-latest/lib/python3.7/site-packages (from flask->bentoml==0.5.2->PetRegression===20191202233106-823B69) (0.16.0)\n",
      "Requirement already satisfied, skipping upgrade: Jinja2>=2.10 in /Users/HenryDashwood/.pyenv/versions/miniconda3-latest/lib/python3.7/site-packages (from flask->bentoml==0.5.2->PetRegression===20191202233106-823B69) (2.10.3)\n",
      "Requirement already satisfied, skipping upgrade: itsdangerous>=0.24 in /Users/HenryDashwood/.pyenv/versions/miniconda3-latest/lib/python3.7/site-packages (from flask->bentoml==0.5.2->PetRegression===20191202233106-823B69) (1.1.0)\n",
      "Requirement already satisfied, skipping upgrade: Mako in /Users/HenryDashwood/.pyenv/versions/miniconda3-latest/lib/python3.7/site-packages (from alembic->bentoml==0.5.2->PetRegression===20191202233106-823B69) (1.1.0)\n",
      "Requirement already satisfied, skipping upgrade: python-editor>=0.3 in /Users/HenryDashwood/.pyenv/versions/miniconda3-latest/lib/python3.7/site-packages (from alembic->bentoml==0.5.2->PetRegression===20191202233106-823B69) (1.0.4)\n",
      "Requirement already satisfied, skipping upgrade: python-dateutil in /Users/HenryDashwood/.local/lib/python3.7/site-packages (from alembic->bentoml==0.5.2->PetRegression===20191202233106-823B69) (2.8.0)\n",
      "Requirement already satisfied, skipping upgrade: pytz>=2017.2 in /Users/HenryDashwood/.pyenv/versions/miniconda3-latest/lib/python3.7/site-packages (from pandas->bentoml==0.5.2->PetRegression===20191202233106-823B69) (2019.3)\n",
      "Requirement already satisfied, skipping upgrade: websocket-client>=0.32.0 in /Users/HenryDashwood/.pyenv/versions/miniconda3-latest/lib/python3.7/site-packages (from docker->bentoml==0.5.2->PetRegression===20191202233106-823B69) (0.56.0)\n",
      "Requirement already satisfied, skipping upgrade: chardet<3.1.0,>=3.0.2 in /Users/HenryDashwood/.pyenv/versions/miniconda3-latest/lib/python3.7/site-packages (from requests->bentoml==0.5.2->PetRegression===20191202233106-823B69) (3.0.4)\n",
      "Requirement already satisfied, skipping upgrade: certifi>=2017.4.17 in /Users/HenryDashwood/.pyenv/versions/miniconda3-latest/lib/python3.7/site-packages (from requests->bentoml==0.5.2->PetRegression===20191202233106-823B69) (2019.9.11)\n",
      "Requirement already satisfied, skipping upgrade: idna<2.9,>=2.5 in /Users/HenryDashwood/.local/lib/python3.7/site-packages (from requests->bentoml==0.5.2->PetRegression===20191202233106-823B69) (2.6)\n",
      "Requirement already satisfied, skipping upgrade: urllib3!=1.25.0,!=1.25.1,<1.26,>=1.21.1 in /Users/HenryDashwood/.local/lib/python3.7/site-packages (from requests->bentoml==0.5.2->PetRegression===20191202233106-823B69) (1.22)\n",
      "Requirement already satisfied, skipping upgrade: botocore<1.14.0,>=1.13.16 in /Users/HenryDashwood/.pyenv/versions/miniconda3-latest/lib/python3.7/site-packages (from boto3->bentoml==0.5.2->PetRegression===20191202233106-823B69) (1.13.28)\n",
      "Requirement already satisfied, skipping upgrade: jmespath<1.0.0,>=0.7.1 in /Users/HenryDashwood/.local/lib/python3.7/site-packages (from boto3->bentoml==0.5.2->PetRegression===20191202233106-823B69) (0.9.4)\n",
      "Requirement already satisfied, skipping upgrade: s3transfer<0.3.0,>=0.2.0 in /Users/HenryDashwood/.pyenv/versions/miniconda3-latest/lib/python3.7/site-packages (from boto3->bentoml==0.5.2->PetRegression===20191202233106-823B69) (0.2.1)\n",
      "Requirement already satisfied, skipping upgrade: soupsieve>=1.2 in /Users/HenryDashwood/.pyenv/versions/miniconda3-latest/lib/python3.7/site-packages (from beautifulsoup4->fastai->PetRegression===20191202233106-823B69) (1.9.5)\n",
      "Requirement already satisfied, skipping upgrade: murmurhash<1.1.0,>=0.28.0 in /Users/HenryDashwood/.pyenv/versions/miniconda3-latest/lib/python3.7/site-packages (from spacy>=2.0.18->fastai->PetRegression===20191202233106-823B69) (1.0.2)\n",
      "Requirement already satisfied, skipping upgrade: blis<0.5.0,>=0.4.0 in /Users/HenryDashwood/.pyenv/versions/miniconda3-latest/lib/python3.7/site-packages (from spacy>=2.0.18->fastai->PetRegression===20191202233106-823B69) (0.4.1)\n",
      "Requirement already satisfied, skipping upgrade: thinc<7.4.0,>=7.3.0 in /Users/HenryDashwood/.pyenv/versions/miniconda3-latest/lib/python3.7/site-packages (from spacy>=2.0.18->fastai->PetRegression===20191202233106-823B69) (7.3.1)\n",
      "Requirement already satisfied, skipping upgrade: importlib-metadata>=0.20; python_version < \"3.8\" in /Users/HenryDashwood/.pyenv/versions/miniconda3-latest/lib/python3.7/site-packages (from spacy>=2.0.18->fastai->PetRegression===20191202233106-823B69) (0.23)\n",
      "Requirement already satisfied, skipping upgrade: plac<1.2.0,>=0.9.6 in /Users/HenryDashwood/.pyenv/versions/miniconda3-latest/lib/python3.7/site-packages (from spacy>=2.0.18->fastai->PetRegression===20191202233106-823B69) (1.1.3)\n",
      "Requirement already satisfied, skipping upgrade: cymem<2.1.0,>=2.0.2 in /Users/HenryDashwood/.pyenv/versions/miniconda3-latest/lib/python3.7/site-packages (from spacy>=2.0.18->fastai->PetRegression===20191202233106-823B69) (2.0.2)\n",
      "Requirement already satisfied, skipping upgrade: preshed<3.1.0,>=3.0.2 in /Users/HenryDashwood/.pyenv/versions/miniconda3-latest/lib/python3.7/site-packages (from spacy>=2.0.18->fastai->PetRegression===20191202233106-823B69) (3.0.2)\n",
      "Requirement already satisfied, skipping upgrade: srsly<1.1.0,>=0.1.0 in /Users/HenryDashwood/.pyenv/versions/miniconda3-latest/lib/python3.7/site-packages (from spacy>=2.0.18->fastai->PetRegression===20191202233106-823B69) (0.2.0)\n",
      "Requirement already satisfied, skipping upgrade: wasabi<1.1.0,>=0.3.0 in /Users/HenryDashwood/.pyenv/versions/miniconda3-latest/lib/python3.7/site-packages (from spacy>=2.0.18->fastai->PetRegression===20191202233106-823B69) (0.4.0)\n",
      "Requirement already satisfied, skipping upgrade: kiwisolver>=1.0.1 in /Users/HenryDashwood/.pyenv/versions/miniconda3-latest/lib/python3.7/site-packages (from matplotlib->fastai->PetRegression===20191202233106-823B69) (1.1.0)\n",
      "Requirement already satisfied, skipping upgrade: cycler>=0.10 in /Users/HenryDashwood/.pyenv/versions/miniconda3-latest/lib/python3.7/site-packages (from matplotlib->fastai->PetRegression===20191202233106-823B69) (0.10.0)\n",
      "Requirement already satisfied, skipping upgrade: MarkupSafe>=0.23 in /Users/HenryDashwood/.pyenv/versions/miniconda3-latest/lib/python3.7/site-packages (from Jinja2>=2.10->flask->bentoml==0.5.2->PetRegression===20191202233106-823B69) (1.1.1)\n",
      "Requirement already satisfied, skipping upgrade: docutils<0.16,>=0.10 in /Users/HenryDashwood/.pyenv/versions/miniconda3-latest/lib/python3.7/site-packages (from botocore<1.14.0,>=1.13.16->boto3->bentoml==0.5.2->PetRegression===20191202233106-823B69) (0.15.2)\n",
      "Requirement already satisfied, skipping upgrade: tqdm<5.0.0,>=4.10.0 in /Users/HenryDashwood/.pyenv/versions/miniconda3-latest/lib/python3.7/site-packages (from thinc<7.4.0,>=7.3.0->spacy>=2.0.18->fastai->PetRegression===20191202233106-823B69) (4.36.1)\n",
      "Requirement already satisfied, skipping upgrade: zipp>=0.5 in /Users/HenryDashwood/.pyenv/versions/miniconda3-latest/lib/python3.7/site-packages (from importlib-metadata>=0.20; python_version < \"3.8\"->spacy>=2.0.18->fastai->PetRegression===20191202233106-823B69) (0.6.0)\n",
      "Requirement already satisfied, skipping upgrade: more-itertools in /Users/HenryDashwood/.pyenv/versions/miniconda3-latest/lib/python3.7/site-packages (from zipp>=0.5->importlib-metadata>=0.20; python_version < \"3.8\"->spacy>=2.0.18->fastai->PetRegression===20191202233106-823B69) (7.2.0)\n",
      "Building wheels for collected packages: PetRegression\n",
      "  Building wheel for PetRegression (setup.py) ... \u001b[?25ldone\n",
      "\u001b[?25h  Created wheel for PetRegression: filename=PetRegression-20191202233106_823B69-cp37-none-any.whl size=51628405 sha256=ab2bb7c0e1c72590ba274083fe8d88237d8765ef98cb1198734a499a512e8320\n",
      "  Stored in directory: /private/var/folders/yl/c5z1v7897q3g9ywlj63pm0840000gn/T/pip-ephem-wheel-cache-hhyy2m20/wheels/14/a7/4b/c127bb520b70d7e434d0938b5641bd90bbfd85688819d24df1\n",
      "Successfully built PetRegression\n",
      "Installing collected packages: bentoml, PetRegression\n",
      "  Found existing installation: BentoML 0.5.3\n",
      "    Uninstalling BentoML-0.5.3:\n",
      "      Successfully uninstalled BentoML-0.5.3\n",
      "  Found existing installation: PetRegression 20191127081517-CDD662\n",
      "    Uninstalling PetRegression-20191127081517-CDD662:\n",
      "      Successfully uninstalled PetRegression-20191127081517-CDD662\n",
      "Successfully installed PetRegression-20191202233106-823B69 bentoml-0.5.2\n"
     ]
    }
   ],
   "source": [
    "!pip install --upgrade {saved_path}"
   ]
  },
  {
   "cell_type": "code",
   "execution_count": 30,
   "metadata": {},
   "outputs": [
    {
     "name": "stdout",
     "output_type": "stream",
     "text": [
      "(ImagePoints (320, 320), tensor([[-0.4128,  0.1322],\n",
      "        [-0.7365,  0.1464],\n",
      "        [-0.6189,  0.2665],\n",
      "        [-0.7248,  0.4663],\n",
      "        [-0.4005,  0.3247],\n",
      "        [-0.2695,  0.2497],\n",
      "        [-0.3914,  0.2126],\n",
      "        [-0.4023,  0.3228],\n",
      "        [-0.2775,  0.2574],\n",
      "        [-0.2962,  0.2582],\n",
      "        [-0.2722,  0.2691]]), tensor([-0.4128,  0.1322, -0.7365,  0.1464, -0.6189,  0.2665, -0.7248,  0.4663,\n",
      "        -0.4005,  0.3247, -0.2695,  0.2497, -0.3914,  0.2126, -0.4023,  0.3228,\n",
      "        -0.2775,  0.2574, -0.2962,  0.2582, -0.2722,  0.2691]))\n"
     ]
    }
   ],
   "source": [
    "!PetRegression predict --input=../data/resized_images/Abyssinian_1.jpg"
   ]
  },
  {
   "cell_type": "code",
   "execution_count": 31,
   "metadata": {},
   "outputs": [
    {
     "name": "stdout",
     "output_type": "stream",
     "text": [
      "PetRegression:20191202233106_823B69\n"
     ]
    }
   ],
   "source": [
    "bento_tag = '{name}:{version}'.format(name=service.name, version=service.version)\n",
    "print(bento_tag)"
   ]
  },
  {
   "cell_type": "code",
   "execution_count": 32,
   "metadata": {},
   "outputs": [
    {
     "name": "stdout",
     "output_type": "stream",
     "text": [
      "[2019-12-02 23:35:46,859] DEBUG - Using BentoML with local Yatai server\n",
      "[2019-12-02 23:35:49,437] DEBUG - Upgrading tables to the latest revision\n",
      "\u001b[31mFailed to get deployment facial-features-detector for deletion. NOT_FOUND:Deployment \"facial-features-detector\" in namespace \"default\" not found\u001b[0m\n"
     ]
    }
   ],
   "source": [
    "!bentoml --verbose deployments delete facial-features-detector --force"
   ]
  },
  {
   "cell_type": "code",
   "execution_count": 33,
   "metadata": {},
   "outputs": [
    {
     "name": "stdout",
     "output_type": "stream",
     "text": [
      "[2019-12-02 23:35:51,979] DEBUG - Using BentoML with local Yatai server\n",
      "[2019-12-02 23:35:52,142] DEBUG - Upgrading tables to the latest revision\n",
      "[2019-12-02 23:35:56,015] DEBUG - Creating s3 bucket: btml-default-facial-features-detector-32d2cd\n",
      "[2019-12-02 23:35:57,197] DEBUG - Uploading artifacts to S3 bucket\n",
      "[2019-12-02 23:35:57,197] DEBUG - This lambda deployment requires uploading artifacts to s3\n",
      "[2019-12-02 23:35:57,205] DEBUG - Uploading __init__.py to s3 btml-default-facial-features-detector-32d2cd/default/facial-features-detector/artifacts/PetRegression/20191202233106_823B69/__init__.py\n",
      "[2019-12-02 23:35:57,884] DEBUG - Uploading pet_regressor.pkl to s3 btml-default-facial-features-detector-32d2cd/default/facial-features-detector/artifacts/PetRegression/20191202233106_823B69/pet_regressor.pkl\n",
      "[2019-12-02 23:36:41,909] DEBUG - Created temporary directory: /private/var/folders/yl/c5z1v7897q3g9ywlj63pm0840000gn/T/bentoml-temp-ul5ervvj\n",
      "[2019-12-02 23:36:41,909] DEBUG - Generating cloudformation template.yaml for lambda project at /private/var/folders/yl/c5z1v7897q3g9ywlj63pm0840000gn/T/bentoml-temp-ul5ervvj\n",
      "[2019-12-02 23:36:47,211] DEBUG - Lambda project directory: /private/var/folders/yl/c5z1v7897q3g9ywlj63pm0840000gn/T/bentoml-temp-ul5ervvj\n",
      "[2019-12-02 23:36:47,211] DEBUG - initializing lambda project\n",
      "[2019-12-02 23:36:47,212] DEBUG - Coping requirements.txt\n",
      "[2019-12-02 23:36:47,213] DEBUG - Coping bundled_dependencies\n",
      "[2019-12-02 23:36:47,213] DEBUG - Coping model directory\n",
      "[2019-12-02 23:36:49,396] DEBUG - Removing artifacts directory\n",
      "[2019-12-02 23:36:49,436] DEBUG - Creating python files for lambda function\n",
      "[2019-12-02 23:36:49,438] INFO - Building lambda project\n",
      "^C\n"
     ]
    }
   ],
   "source": [
    "!bentoml --verbose deployment create facial-features-detector --bento {bento_tag} --platform aws-lambda "
   ]
  },
  {
   "cell_type": "code",
   "execution_count": null,
   "metadata": {},
   "outputs": [],
   "source": []
  }
 ],
 "metadata": {
  "kernelspec": {
   "display_name": "bentoml_env",
   "language": "python",
   "name": "bentoml_env"
  },
  "language_info": {
   "codemirror_mode": {
    "name": "ipython",
    "version": 3
   },
   "file_extension": ".py",
   "mimetype": "text/x-python",
   "name": "python",
   "nbconvert_exporter": "python",
   "pygments_lexer": "ipython3",
   "version": "3.7.5"
  }
 },
 "nbformat": 4,
 "nbformat_minor": 4
}
