{
 "cells": [
  {
   "cell_type": "code",
   "execution_count": 1,
   "metadata": {},
   "outputs": [],
   "source": [
    "%reload_ext autoreload\n",
    "%autoreload 2"
   ]
  },
  {
   "cell_type": "code",
   "execution_count": 2,
   "metadata": {},
   "outputs": [],
   "source": [
    "from fastai.vision import (ImageList, PointsItemList, get_transforms, ResizeMethod, open_image, Tensor, \n",
    "                           tensor, Image, imagenet_stats, Flatten, cnn_learner, models, Path)\n",
    "from fastai.callbacks import SaveModelCallback, EarlyStoppingCallback\n",
    "from fastprogress import progress_bar\n",
    "import numpy as np\n",
    "import pandas as pd\n",
    "\n",
    "import torch\n",
    "from  torch import nn\n",
    "\n",
    "from henrys_model_utils import MSELossFlat, Reshape"
   ]
  },
  {
   "cell_type": "code",
   "execution_count": 3,
   "metadata": {},
   "outputs": [],
   "source": [
    "images_path = '../data/resized_images'\n",
    "labels_path = '../data/resized_labels.csv'\n",
    "target_size = 320"
   ]
  },
  {
   "cell_type": "code",
   "execution_count": 4,
   "metadata": {},
   "outputs": [],
   "source": [
    "y = pd.read_csv(labels_path, index_col='filename')"
   ]
  },
  {
   "cell_type": "code",
   "execution_count": 5,
   "metadata": {},
   "outputs": [],
   "source": [
    "def get_y_func(x):\n",
    "    filename = str(x).split('/')[-1]\n",
    "    coord_list = []\n",
    "    coords = list(y.loc[filename])\n",
    "    for i in range(len(coords)//2):\n",
    "        coord_list.append([coords[i*2+1],coords[i*2]])\n",
    "    return tensor(coord_list)"
   ]
  },
  {
   "cell_type": "code",
   "execution_count": 6,
   "metadata": {},
   "outputs": [],
   "source": [
    "transforms = get_transforms(\n",
    "    do_flip=False,\n",
    "    max_rotate=45, \n",
    "    max_zoom=1.5, \n",
    "    max_lighting=0.5, \n",
    "    max_warp=0.4, \n",
    "    p_affine=1., \n",
    "    p_lighting=1.\n",
    ") "
   ]
  },
  {
   "cell_type": "code",
   "execution_count": 7,
   "metadata": {},
   "outputs": [],
   "source": [
    "data = (\n",
    "    PointsItemList\n",
    "        .from_folder(images_path)\n",
    "        .split_by_rand_pct(0.15)\n",
    "        .label_from_func(get_y_func)\n",
    "        .transform(\n",
    "            transforms,\n",
    "            size=320,\n",
    "            tfm_y=True, \n",
    "            remove_out=False, \n",
    "            padding_mode='reflection', \n",
    "            resize_method=ResizeMethod.PAD\n",
    "        )\n",
    "        .databunch()\n",
    "        .normalize(imagenet_stats)\n",
    ")"
   ]
  },
  {
   "cell_type": "code",
   "execution_count": 8,
   "metadata": {},
   "outputs": [],
   "source": [
    "# data.show_batch(3, figsize=(6,6))"
   ]
  },
  {
   "cell_type": "code",
   "execution_count": 9,
   "metadata": {},
   "outputs": [],
   "source": [
    "# class Reshape(nn.Module):\n",
    "#     def __init__(self, *args):\n",
    "#         super(Reshape, self).__init__()\n",
    "#         self.shape = args\n",
    "\n",
    "#     def forward(self, x):\n",
    "#         return x.view(self.shape)\n",
    "    \n",
    "# class MSELossFlat(nn.MSELoss):\n",
    "#     def forward(self, input, target):\n",
    "#         return super().forward(input.view(-1), target.view(-1))"
   ]
  },
  {
   "cell_type": "code",
   "execution_count": 10,
   "metadata": {},
   "outputs": [],
   "source": [
    "head_reg = nn.Sequential(\n",
    "    Flatten(), \n",
    "    nn.ReLU(),\n",
    "    nn.Dropout(0.5),\n",
    "    nn.Linear(51200, 256),\n",
    "    nn.ReLU(),\n",
    "    nn.BatchNorm1d(256),\n",
    "    nn.Dropout(0.5),\n",
    "    nn.Linear(256, 22),\n",
    "    Reshape(-1,11,2),\n",
    "    nn.Tanh()\n",
    ")"
   ]
  },
  {
   "cell_type": "code",
   "execution_count": 11,
   "metadata": {},
   "outputs": [],
   "source": [
    "mse_loss_flat = MSELossFlat()\n",
    "\n",
    "learn = cnn_learner(\n",
    "    data, \n",
    "    models.resnet34, \n",
    "    loss_func=mse_loss_flat,\n",
    "    custom_head=head_reg\n",
    ").to_fp16()"
   ]
  },
  {
   "cell_type": "code",
   "execution_count": 12,
   "metadata": {},
   "outputs": [],
   "source": [
    "learn.path = Path('..')"
   ]
  },
  {
   "cell_type": "code",
   "execution_count": 13,
   "metadata": {},
   "outputs": [],
   "source": [
    "# learn.lr_find()\n",
    "# learn.recorder.plot()"
   ]
  },
  {
   "cell_type": "code",
   "execution_count": 14,
   "metadata": {},
   "outputs": [],
   "source": [
    "# learn.freeze_to(-1)\n",
    "# learn.fit_one_cycle(\n",
    "#     10, \n",
    "#     slice(1e-2), \n",
    "#     callbacks=[\n",
    "#         SaveModelCallback(learn, every='improvement', monitor='valid_loss', name='resnet34_frozen_to_-1'),\n",
    "#         EarlyStoppingCallback(learn, monitor='valid_loss', min_delta=0.01, patience=10)\n",
    "#     ]\n",
    "# )"
   ]
  },
  {
   "cell_type": "code",
   "execution_count": 15,
   "metadata": {},
   "outputs": [],
   "source": [
    "learn = learn.load('fastai_resnet34')\n",
    "learn = learn.to_fp32()"
   ]
  },
  {
   "cell_type": "code",
   "execution_count": 16,
   "metadata": {},
   "outputs": [],
   "source": [
    "# learn.freeze_to(-2)\n",
    "# learn.fit_one_cycle(\n",
    "#     10, \n",
    "#     slice(1e-3), \n",
    "#     callbacks=[\n",
    "#         SaveModelCallback(learn, every='improvement', monitor='valid_loss', name='resnet34_frozen_to_-2'),\n",
    "#         EarlyStoppingCallback(learn, monitor='valid_loss', min_delta=0.01, patience=10)\n",
    "#     ]\n",
    "# )"
   ]
  },
  {
   "cell_type": "code",
   "execution_count": 17,
   "metadata": {},
   "outputs": [],
   "source": [
    "# learn.show_results(rows=10)"
   ]
  },
  {
   "cell_type": "markdown",
   "metadata": {},
   "source": [
    "## Deploy to AWS Lambda"
   ]
  },
  {
   "cell_type": "code",
   "execution_count": 46,
   "metadata": {},
   "outputs": [
    {
     "name": "stdout",
     "output_type": "stream",
     "text": [
      "Overwriting pet_regression.py\n"
     ]
    }
   ],
   "source": [
    "%%writefile pet_regression.py\n",
    "from bentoml import BentoService, api, env, artifacts \n",
    "from bentoml.artifact import FastaiModelArtifact\n",
    "from bentoml.handlers import FastaiImageHandler\n",
    "\n",
    "@env(pip_dependencies=['fastai', 'henrys_model_utils'])\n",
    "@artifacts([FastaiModelArtifact('pet_regressor')])\n",
    "class PetRegression(BentoService):\n",
    "    \n",
    "    @api(FastaiImageHandler)\n",
    "    def predict(self, image):\n",
    "        result = self.artifacts.pet_regressor.predict(image)\n",
    "        return str(result)"
   ]
  },
  {
   "cell_type": "code",
   "execution_count": 47,
   "metadata": {},
   "outputs": [
    {
     "name": "stdout",
     "output_type": "stream",
     "text": [
      "[2019-10-27 15:16:07,247] INFO - Successfully saved Bento 'PetRegression:20191027151536_347C4E' to path: /Users/HenryDashwood/bentoml/repository/PetRegression/20191027151536_347C4E\n"
     ]
    }
   ],
   "source": [
    "# 1) import the custom BentoService defined above\n",
    "from pet_regression import PetRegression\n",
    "\n",
    "# 2) `pack` it with required artifacts\n",
    "service = PetRegression.pack(pet_regressor=learn)\n",
    "\n",
    "# 3) save your BentoSerivce\n",
    "saved_path = service.save()"
   ]
  },
  {
   "cell_type": "code",
   "execution_count": 48,
   "metadata": {},
   "outputs": [
    {
     "name": "stdout",
     "output_type": "stream",
     "text": [
      "[2019-10-27 15:16:08,354] WARNING - Module `pet_regression` already loaded, using existing imported module.\n",
      "(ImagePoints (320, 320), tensor([[-0.2089, -0.2455],\n",
      "        [-0.4590, -0.1428],\n",
      "        [-0.4067,  0.1761],\n",
      "        [-0.3185,  0.4969],\n",
      "        [-0.0623,  0.4999],\n",
      "        [ 0.1735,  0.0348],\n",
      "        [-0.2068, -0.0289],\n",
      "        [-0.1468,  0.2570],\n",
      "        [ 0.0906, -0.0429],\n",
      "        [ 0.0733,  0.0498],\n",
      "        [ 0.1184,  0.1269]]), tensor([[-0.2089, -0.2455],\n",
      "        [-0.4590, -0.1428],\n",
      "        [-0.4067,  0.1761],\n",
      "        [-0.3185,  0.4969],\n",
      "        [-0.0623,  0.4999],\n",
      "        [ 0.1735,  0.0348],\n",
      "        [-0.2068, -0.0289],\n",
      "        [-0.1468,  0.2570],\n",
      "        [ 0.0906, -0.0429],\n",
      "        [ 0.0733,  0.0498],\n",
      "        [ 0.1184,  0.1269]]))\n"
     ]
    }
   ],
   "source": [
    "from bentoml import load\n",
    "\n",
    "service = load(saved_path)\n",
    "\n",
    "print(service.predict(data.get(0)))"
   ]
  },
  {
   "cell_type": "code",
   "execution_count": 49,
   "metadata": {},
   "outputs": [
    {
     "name": "stdout",
     "output_type": "stream",
     "text": [
      "Processing /Users/HenryDashwood/bentoml/repository/PetRegression/20191027151536_347C4E\n",
      "Building wheels for collected packages: PetRegression\n",
      "  Building wheel for PetRegression (setup.py) ... \u001b[?25ldone\n",
      "\u001b[?25h  Created wheel for PetRegression: filename=PetRegression-20191027151536_347C4E-cp37-none-any.whl size=81246769 sha256=e5a7273bbbb7b40d869566e1523d6978bb40e5b2e44c795fee5d5228958d57ed\n",
      "  Stored in directory: /private/var/folders/yl/c5z1v7897q3g9ywlj63pm0840000gn/T/pip-ephem-wheel-cache-zou6deer/wheels/31/15/c9/17dce9959d16572c86fb4cc1027f02d5bd58ac7aa294053a8b\n",
      "Successfully built PetRegression\n",
      "Installing collected packages: PetRegression\n",
      "  Found existing installation: PetRegression 20191027150507-1C6DFA\n",
      "    Uninstalling PetRegression-20191027150507-1C6DFA:\n",
      "      Successfully uninstalled PetRegression-20191027150507-1C6DFA\n",
      "Successfully installed PetRegression-20191027151536-347C4E\n"
     ]
    }
   ],
   "source": [
    "!pip install --upgrade {saved_path}"
   ]
  },
  {
   "cell_type": "code",
   "execution_count": 50,
   "metadata": {},
   "outputs": [
    {
     "name": "stdout",
     "output_type": "stream",
     "text": [
      "(ImagePoints (320, 320), tensor([[-0.3867,  0.0846],\n",
      "        [-0.6847,  0.0874],\n",
      "        [-0.5517,  0.2640],\n",
      "        [-0.6337,  0.4377],\n",
      "        [-0.3433,  0.4129],\n",
      "        [-0.1768,  0.2797],\n",
      "        [-0.3842,  0.1987],\n",
      "        [-0.3603,  0.3473],\n",
      "        [-0.2144,  0.2346],\n",
      "        [-0.2251,  0.2833],\n",
      "        [-0.2118,  0.3196]]), tensor([[-0.3867,  0.0846],\n",
      "        [-0.6847,  0.0874],\n",
      "        [-0.5517,  0.2640],\n",
      "        [-0.6337,  0.4377],\n",
      "        [-0.3433,  0.4129],\n",
      "        [-0.1768,  0.2797],\n",
      "        [-0.3842,  0.1987],\n",
      "        [-0.3603,  0.3473],\n",
      "        [-0.2144,  0.2346],\n",
      "        [-0.2251,  0.2833],\n",
      "        [-0.2118,  0.3196]]))\n"
     ]
    }
   ],
   "source": [
    "!PetRegression predict --input=../data/resized_images/Abyssinian_1.jpg"
   ]
  },
  {
   "cell_type": "code",
   "execution_count": 51,
   "metadata": {},
   "outputs": [],
   "source": [
    "# !bentoml serve {saved_path}"
   ]
  },
  {
   "cell_type": "code",
   "execution_count": 52,
   "metadata": {},
   "outputs": [
    {
     "name": "stdout",
     "output_type": "stream",
     "text": [
      "PetRegression:20191027151536_347C4E\n"
     ]
    }
   ],
   "source": [
    "bento_tag = '{name}:{version}'.format(name=service.name, version=service.version)\n",
    "print(bento_tag)"
   ]
  },
  {
   "cell_type": "code",
   "execution_count": 53,
   "metadata": {},
   "outputs": [
    {
     "name": "stdout",
     "output_type": "stream",
     "text": [
      "[2019-10-27 15:17:25,253] DEBUG - Using BentoML with local Yatai server\n",
      "[2019-10-27 15:17:25,398] DEBUG - Upgrading tables to the latest revision\n",
      "\u001b[32mSuccessfully deleted deployment \"facial-features-detector\"\u001b[0m\n"
     ]
    }
   ],
   "source": [
    "!bentoml --verbose deployments delete facial-features-detector --force"
   ]
  },
  {
   "cell_type": "code",
   "execution_count": 54,
   "metadata": {},
   "outputs": [
    {
     "name": "stdout",
     "output_type": "stream",
     "text": [
      "[2019-10-27 15:17:28,669] DEBUG - Using BentoML with local Yatai server\n",
      "[2019-10-27 15:17:28,799] DEBUG - Upgrading tables to the latest revision\n",
      "[2019-10-27 15:17:29,605] DEBUG - Created temporary directory: /private/var/folders/yl/c5z1v7897q3g9ywlj63pm0840000gn/T/bentoml-temp-xa4ebrj1\n",
      "[2019-10-27 15:18:14,281] DEBUG - sls cmd output: Serverless: Generating boilerplate...\n",
      " _______                             __\n",
      "|   _   .-----.----.--.--.-----.----|  .-----.-----.-----.\n",
      "|   |___|  -__|   _|  |  |  -__|   _|  |  -__|__ --|__ --|\n",
      "|____   |_____|__|  \\___/|_____|__| |__|_____|_____|_____|\n",
      "|   |   |             The Serverless Application Framework\n",
      "|       |                           serverless.com, v1.53.0\n",
      " -------'\n",
      "\n",
      "Serverless: Successfully generated boilerplate for template: \"aws-python3\"\n",
      "\n",
      "[2019-10-27 15:18:18,079] INFO - Installing additional packages: serverless-python-requirements\n",
      "[2019-10-27 15:18:26,824] DEBUG - sls cmd output: Serverless: Creating an empty package.json file in your service directory\n",
      "Serverless: Installing plugin \"serverless-python-requirements@latest\" (this might take a few seconds...)\n",
      "Serverless: Successfully installed \"serverless-python-requirements@latest\"\n",
      "\n",
      "[2019-10-27 15:18:26,825] INFO - Deploying to AWS Lambda\n",
      "[2019-10-27 15:20:09,112] DEBUG - sls cmd output: Serverless: Adding Python requirements helper...\n",
      "Serverless: Generated requirements from /private/var/folders/yl/c5z1v7897q3g9ywlj63pm0840000gn/T/bentoml-temp-xa4ebrj1/requirements.txt in /private/var/folders/yl/c5z1v7897q3g9ywlj63pm0840000gn/T/bentoml-temp-xa4ebrj1/.serverless/requirements.txt...\n",
      "Serverless: Installing requirements from /Users/HenryDashwood/Library/Caches/serverless-python-requirements/9d4ebdc57e232429d00a33fc7f0b444d9a747415ca7043992e0720b472bd2661_slspyc/requirements.txt ...\n",
      "Serverless: Docker Image: lambci/lambda:build-python3.7\n",
      "Serverless: Using download cache directory /Users/HenryDashwood/Library/Caches/serverless-python-requirements/downloadCacheslspyc\n",
      "Serverless: Running docker run --rm -v /Users/HenryDashwood/Library/Caches/serverless-python-requirements/9d4ebdc57e232429d00a33fc7f0b444d9a747415ca7043992e0720b472bd2661_slspyc\\:/var/task\\:z -v /Users/HenryDashwood/Library/Caches/serverless-python-requirements/downloadCacheslspyc\\:/var/useDownloadCache\\:z -u 0 -v /private/var/folders/yl/c5z1v7897q3g9ywlj63pm0840000gn/T/bentoml-temp-xa4ebrj1/bundled_pip_dependencies\\:/var/task/bundled_pip_dependencies\\:z lambci/lambda\\:build-python3.7 /bin/sh -c 'python3.7 -m pip install -t /var/task/ -r /var/task/requirements.txt --cache-dir /var/useDownloadCache && find /var/task -name \\\\*.so -exec strip \\\\{\\\\} \\\\;'...\n",
      " \n",
      "  Error --------------------------------------------------\n",
      " \n",
      "  Error: STDOUT: Collecting bentoml==0.4.8\n",
      "    Using cached https://files.pythonhosted.org/packages/b0/07/7d1f4c6c7a476c8dd54efe9a444983ca7b1cea0420562f77ecdf20474804/BentoML-0.4.8-py3-none-any.whl\n",
      "  Collecting fastai\n",
      "    Using cached https://files.pythonhosted.org/packages/94/58/d78c39b2fcbe3358a54a4042219eaf78bc196e771dc02a6f540ee2194a2e/fastai-1.0.59.tar.gz\n",
      "  Collecting henrys_model_utils\n",
      "    Using cached https://files.pythonhosted.org/packages/6a/88/20d5d79cf0cd57b8512495fb70f1089fbc86f2bc56ec6cc371d31b21ab07/henrys_model_utils-0.1-py3-none-any.whl\n",
      "  Collecting imageio\n",
      "    Using cached https://files.pythonhosted.org/packages/1a/de/f7f985018f462ceeffada7f6e609919fbcc934acd9301929cba14bc2c24a/imageio-2.6.1-py3-none-any.whl\n",
      "  Processing /var/useDownloadCache/wheels/e1/41/5e/e201f95d90fc84f93aa629b6638adacda680fe63aac47174ab/tabulate-0.8.5-cp37-none-any.whl\n",
      "  Collecting configparser\n",
      "    Using cached https://files.pythonhosted.org/packages/7a/2a/95ed0501cf5d8709490b1d3a3f9b5cf340da6c433f896bbe9ce08dbe6785/configparser-4.0.2-py2.py3-none-any.whl\n",
      "  Collecting docker\n",
      "    Using cached https://files.pythonhosted.org/packages/cc/ca/699d4754a932787ef353a157ada74efd1ceb6d1fc0bfb7989ae1e7b33111/docker-4.1.0-py2.py3-none-any.whl\n",
      "  Collecting six\n",
      "    Using cached https://files.pythonhosted.org/packages/73/fb/00a976f728d0d1fecfe898238ce23f502a721c0ac0ecfedb80e0d88c64e9/six-1.12.0-py2.py3-none-any.whl\n",
      "  Collecting humanfriendly\n",
      "    Using cached https://files.pythonhosted.org/packages/90/df/88bff450f333114680698dc4aac7506ff7cab164b794461906de31998665/humanfriendly-4.18-py2.py3-none-any.whl\n",
      "  Collecting ruamel.yaml>=0.15.0\n",
      "    Using cached https://files.pythonhosted.org/packages/fa/90/ecff85a2e9c497e2fa7142496e10233556b5137db5bd46f3f3b006935ca8/ruamel.yaml-0.16.5-py2.py3-none-any.whl\n",
      "  Collecting boto3\n",
      "    Using cached https://files.pythonhosted.org/packages/0e/41/27fb3969a76240d4c42a8f64b9d5ae78c676bab38e980e03b1bbaef279bd/boto3-1.10.2-py2.py3-none-any.whl\n",
      "  Processing /var/useDownloadCache/wheels/97/f7/a1/752e22bb30c1cfe38194ea0070a5c66e76ef4d06ad0c7dc401/python_json_logger-0.1.11-py2.py3-none-any.whl\n",
      "  Processing /var/useDownloadCache/wheels/4b/b2/89/cd2231ee623987c605f049df55f40a3e4252ef6a15b94836c2/SQLAlchemy-1.3.10-cp37-cp37m-linux_x86_64.whl\n",
      "  Collecting flask\n",
      "    Using cached https://files.pythonhosted.org/packages/9b/93/628509b8d5dc749656a9641f4caf13540e2cdec85276964ff8f43bbb1d3b/Flask-1.1.1-py2.py3-none-any.whl\n",
      "  Processing /var/useDownloadCache/wheels/1c/54/34/fd47cd9b308826cc4292b54449c1899a30251ef3b506bc91ea/prometheus_client-0.7.1-cp37-none-any.whl\n",
      "  Collecting requests\n",
      "    Using cached https://files.pythonhosted.org/packages/51/bd/23c926cd341ea6b7dd0b2a00aba99ae0f828be89d72b2190f27c11d4b7fb/requests-2.22.0-py2.py3-none-any.whl\n",
      "  Processing /var/useDownloadCache/wheels/59/b1/91/f02e76c732915c4015ab4010f3015469866c1eb9b14058d8e7/dill-0.3.1.1-cp37-none-any.whl\n",
      "  Collecting protobuf>=3.6.0\n",
      "    Using cached https://files.pythonhosted.org/packages/d7/34/02a2083afc14adff644a1e29783f276f12f1f914ca4cab157d73bb3d2fed/protobuf-3.10.0-cp37-cp37m-manylinux1_x86_64.whl\n",
      "  Collecting numpy\n",
      "    Using cached https://files.pythonhosted.org/packages/00/4a/e34fce8f18c0e052c2b49f1b3713469d855f7662d58ae2b82a88341e865b/numpy-1.17.3-cp37-cp37m-manylinux1_x86_64.whl\n",
      "  Processing /var/useDownloadCache/wheels/c6/b8/fd/1f16371156a8184172c4935cbbef6a345d57dd447e31a36633/alembic-1.2.1-py2.py3-none-any.whl\n",
      "  Collecting gunicorn\n",
      "    Using cached https://files.pythonhosted.org/packages/8c/da/b8dd8deb741bff556db53902d4706774c8e1e67265f69528c14c003644e6/gunicorn-19.9.0-py2.py3-none-any.whl\n",
      "  Processing /var/useDownloadCache/wheels/4f/b4/2b/83fc9a02bdbb49350a9eeb6d34753e4d7df7f77cb027e1d4b3/Cerberus-1.3.1-cp37-none-any.whl\n",
      "  Collecting packaging\n",
      "    Using cached https://files.pythonhosted.org/packages/cf/94/9672c2d4b126e74c4496c6b3c58a8b51d6419267be9e70660ba23374c875/packaging-19.2-py2.py3-none-any.whl\n",
      "  Collecting click>=7.0\n",
      "    Using cached https://files.pythonhosted.org/packages/fa/37/45185cb5abbc30d7257104c434fe0b07e5a195a6847506c074527aa599ec/Click-7.0-py2.py3-none-any.whl\n",
      "  Collecting grpcio\n",
      "    Using cached https://files.pythonhosted.org/packages/b9/ba/254011b066e6675411ba913dafd6e40ce8d3235bebf64fb226a7305f29ac/grpcio-1.24.3-cp37-cp37m-manylinux2010_x86_64.whl\n",
      "  Collecting pandas\n",
      "    Using cached https://files.pythonhosted.org/packages/91/9d/217fc3c4fe19123fcb99385a35c3211e65d5eb07fbe8dd0008fae0d1fe74/pandas-0.25.2-cp37-cp37m-manylinux1_x86_64.whl\n",
      "  Collecting pathlib2\n",
      "    Using cached https://files.pythonhosted.org/packages/e9/45/9c82d3666af4ef9f221cbb954e1d77ddbb513faf552aea6df5f37f1a4859/pathlib2-2.3.5-py2.py3-none-any.whl\n",
      "  Processing /var/useDownloadCache/wheels/f2/bf/ec/e0f39aa27001525ad455139ee57ec7d0776fe074dfd78c97e4/Bottleneck-1.2.1-cp37-cp37m-linux_x86_64.whl\n",
      "  Collecting fastprogress>=0.1.19\n",
      "    Using cached https://files.pythonhosted.org/packages/83/db/794db47024a26c75635c35f0ee5431aa8b528e895ad1ed958041290f83f7/fastprogress-0.1.21-py3-none-any.whl\n",
      "  Collecting beautifulsoup4\n",
      "    Using cached https://files.pythonhosted.org/packages/3b/c8/a55eb6ea11cd7e5ac4bacdf92bac4693b90d3ba79268be16527555e186f0/beautifulsoup4-4.8.1-py3-none-any.whl\n",
      "  Collecting matplotlib\n",
      "    Using cached https://files.pythonhosted.org/packages/19/7a/60bd79c5d79559150f8bba866dd7d434f0a170312e4d15e8aefa5faba294/matplotlib-3.1.1-cp37-cp37m-manylinux1_x86_64.whl\n",
      "  Collecting numexpr\n",
      "    Using cached https://files.pythonhosted.org/packages/2c/69/274c2b81b9bdf7783150461c8982f23248dc917402ed4c6f8aa4b90bb98e/numexpr-2.7.0-cp37-cp37m-manylinux1_x86_64.whl\n",
      "  Processing /var/useDownloadCache/wheels/e4/1d/06/640c93f5270d67d0247f30be91f232700d19023f9e66d735c7/nvidia_ml_py3-7.352.0-cp37-none-any.whl\n",
      "  Collecting Pillow\n",
      "    Using cached https://files.pythonhosted.org/packages/89/3e/31c2e5385d7588016c6f7ac552e81c3fff2bef4bc61b6f82f8177752405c/Pillow-6.2.1-cp37-cp37m-manylinux1_x86_64.whl\n",
      "  Processing /var/useDownloadCache/wheels/d9/45/dd/65f0b38450c47cf7e5312883deb97d065e030c5cca0a365030/PyYAML-5.1.2-cp37-cp37m-linux_x86_64.whl\n",
      "  Collecting scipy\n",
      "    Using cached https://files.pythonhosted.org/packages/94/7f/b535ec711cbcc3246abea4385d17e1b325d4c3404dd86f15fc4f3dba1dbb/scipy-1.3.1-cp37-cp37m-manylinux1_x86_64.whl\n",
      "  Collecting torch>=1.0.0\n",
      "  \n",
      "  \n",
      "  STDERR: /bin/sh: line 1:     6 Killed                  python3.7 -m pip install -t /var/task/ -r /var/task/requirements.txt --cache-dir /var/useDownloadCache\n",
      "  \n",
      "      at filterCommands.forEach (/private/var/folders/yl/c5z1v7897q3g9ywlj63pm0840000gn/T/bentoml-temp-xa4ebrj1/node_modules/serverless-python-requirements/lib/pip.js:320:13)\n",
      "      at Array.forEach (<anonymous>)\n",
      "      at installRequirements (/private/var/folders/yl/c5z1v7897q3g9ywlj63pm0840000gn/T/bentoml-temp-xa4ebrj1/node_modules/serverless-python-requirements/lib/pip.js:307:28)\n",
      "      at installRequirementsIfNeeded (/private/var/folders/yl/c5z1v7897q3g9ywlj63pm0840000gn/T/bentoml-temp-xa4ebrj1/node_modules/serverless-python-requirements/lib/pip.js:532:3)\n",
      "      at ServerlessPythonRequirements.installAllRequirements (/private/var/folders/yl/c5z1v7897q3g9ywlj63pm0840000gn/T/bentoml-temp-xa4ebrj1/node_modules/serverless-python-requirements/lib/pip.js:611:29)\n",
      "      at ServerlessPythonRequirements.tryCatcher (/private/var/folders/yl/c5z1v7897q3g9ywlj63pm0840000gn/T/bentoml-temp-xa4ebrj1/node_modules/bluebird/js/release/util.js:16:23)\n",
      "      at Promise._settlePromiseFromHandler (/private/var/folders/yl/c5z1v7897q3g9ywlj63pm0840000gn/T/bentoml-temp-xa4ebrj1/node_modules/bluebird/js/release/promise.js:547:31)\n",
      "      at Promise._settlePromise (/private/var/folders/yl/c5z1v7897q3g9ywlj63pm0840000gn/T/bentoml-temp-xa4ebrj1/node_modules/bluebird/js/release/promise.js:604:18)\n",
      "      at Promise._settlePromise0 (/private/var/folders/yl/c5z1v7897q3g9ywlj63pm0840000gn/T/bentoml-temp-xa4ebrj1/node_modules/bluebird/js/release/promise.js:649:10)\n",
      "      at Promise._settlePromises (/private/var/folders/yl/c5z1v7897q3g9ywlj63pm0840000gn/T/bentoml-temp-xa4ebrj1/node_modules/bluebird/js/release/promise.js:729:18)\n",
      "      at Promise._fulfill (/private/var/folders/yl/c5z1v7897q3g9ywlj63pm0840000gn/T/bentoml-temp-xa4ebrj1/node_modules/bluebird/js/release/promise.js:673:18)\n",
      "      at /private/var/folders/yl/c5z1v7897q3g9ywlj63pm0840000gn/T/bentoml-temp-xa4ebrj1/node_modules/bluebird/js/release/nodeback.js:42:21\n",
      "      at fs.chmod.err (/private/var/folders/yl/c5z1v7897q3g9ywlj63pm0840000gn/T/bentoml-temp-xa4ebrj1/node_modules/fs-extra/lib/copy/copy.js:120:12)\n",
      "      at /private/var/folders/yl/c5z1v7897q3g9ywlj63pm0840000gn/T/bentoml-temp-xa4ebrj1/node_modules/graceful-fs/polyfills.js:243:20\n",
      "      at /Users/HenryDashwood/bentoml/node_modules/graceful-fs/polyfills.js:243:20\n",
      "      at FSReqWrap.args [as oncomplete] (fs.js:140:20)\n",
      " \n",
      "     For debugging logs, run again after setting the \"SLS_DEBUG=*\" environment variable.\n",
      " \n",
      "  Get Support --------------------------------------------\n",
      "     Docs:          docs.serverless.com\n",
      "     Bugs:          github.com/serverless/serverless/issues\n",
      "     Issues:        forum.serverless.com\n",
      " \n",
      "  Your Environment Information ---------------------------\n",
      "     Operating System:          darwin\n",
      "     Node Version:              10.16.3\n",
      "     Framework Version:         1.53.0\n",
      "     Plugin Version:            3.2.0\n",
      "     SDK Version:               2.1.2\n",
      "     Components Core Version:   1.1.2\n",
      "     Components CLI Version:    1.4.0\n",
      " \n",
      "\n",
      "\u001b[31mFailed to create deployment facial-features-detector. INTERNAL:   Error: STDOUT: Collecting bentoml==0.4.8\u001b[0m\n"
     ]
    }
   ],
   "source": [
    "!bentoml --verbose deployment create facial-features-detector --bento {bento_tag} --platform aws-lambda --region us-east-1"
   ]
  },
  {
   "cell_type": "code",
   "execution_count": 28,
   "metadata": {},
   "outputs": [],
   "source": [
    "# !bentoml deployment list"
   ]
  },
  {
   "cell_type": "code",
   "execution_count": null,
   "metadata": {},
   "outputs": [],
   "source": []
  }
 ],
 "metadata": {
  "kernelspec": {
   "display_name": "py37",
   "language": "python",
   "name": "py37"
  },
  "language_info": {
   "codemirror_mode": {
    "name": "ipython",
    "version": 3
   },
   "file_extension": ".py",
   "mimetype": "text/x-python",
   "name": "python",
   "nbconvert_exporter": "python",
   "pygments_lexer": "ipython3",
   "version": "3.7.3"
  }
 },
 "nbformat": 4,
 "nbformat_minor": 4
}
