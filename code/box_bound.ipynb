{
 "cells": [
  {
   "cell_type": "code",
   "execution_count": 1,
   "metadata": {},
   "outputs": [],
   "source": [
    "%load_ext autoreload\n",
    "%autoreload 2"
   ]
  },
  {
   "cell_type": "code",
   "execution_count": 14,
   "metadata": {},
   "outputs": [
    {
     "name": "stderr",
     "output_type": "stream",
     "text": [
      "Using TensorFlow backend.\n"
     ]
    }
   ],
   "source": [
    "import matplotlib.pyplot as plt\n",
    "import numpy as np\n",
    "import pandas as pd\n",
    "from sklearn.model_selection import train_test_split\n",
    "from random import randint\n",
    "\n",
    "import keras\n",
    "from keras.preprocessing.image import ImageDataGenerator\n",
    "from keras.models import Sequential\n",
    "from keras.layers import (Dense, Activation, SeparableConv2D, MaxPooling2D, Flatten, Dropout, \n",
    "                          BatchNormalization)\n",
    "from keras.optimizers import Adam\n",
    "\n",
    "import imgaug\n",
    "from imgaug import augmenters as iaa\n",
    "from imgaug.augmentables.kps import Keypoint, KeypointsOnImage\n",
    "\n",
    "from preprocess import load, generator\n",
    "from utils import plot_labelled_image, plot_labelled_sample, plot_loss, load_model, save_model\n",
    "from model import MyModel"
   ]
  },
  {
   "cell_type": "code",
   "execution_count": 3,
   "metadata": {},
   "outputs": [],
   "source": [
    "images_path = '../data/images/'\n",
    "labels_path = '../data/landmarks.csv'\n",
    "target_size = 80"
   ]
  },
  {
   "cell_type": "code",
   "execution_count": 15,
   "metadata": {},
   "outputs": [
    {
     "data": {
      "text/html": [
       "\n",
       "    <div>\n",
       "        <style>\n",
       "            /* Turns off some styling */\n",
       "            progress {\n",
       "                /* gets rid of default border in Firefox and Opera. */\n",
       "                border: none;\n",
       "                /* Needs to be in here for Safari polyfill so background images work as expected. */\n",
       "                background-size: auto;\n",
       "            }\n",
       "            .progress-bar-interrupted, .progress-bar-interrupted::-webkit-progress-bar {\n",
       "                background: #F44336;\n",
       "            }\n",
       "        </style>\n",
       "      <progress value='5999' class='' max='5999', style='width:300px; height:20px; vertical-align: middle;'></progress>\n",
       "      100.00% [5999/5999 04:32<00:00]\n",
       "    </div>\n",
       "    "
      ],
      "text/plain": [
       "<IPython.core.display.HTML object>"
      ]
     },
     "metadata": {},
     "output_type": "display_data"
    },
    {
     "name": "stdout",
     "output_type": "stream",
     "text": [
      "(4192, 80, 80, 3) (898, 80, 80, 3) (899, 80, 80, 3)\n"
     ]
    }
   ],
   "source": [
    "X, y = load(images_path, labels_path)\n",
    "\n",
    "X_train, X_test_, y_train, y_test_ = train_test_split(X, y, test_size=0.3, random_state=42)\n",
    "X_val, X_test, y_val, y_test = train_test_split(X_test_, y_test_, test_size=0.5, random_state=42)\n",
    "\n",
    "print(X_train.shape, X_val.shape, X_test.shape)"
   ]
  },
  {
   "cell_type": "code",
   "execution_count": 17,
   "metadata": {},
   "outputs": [
    {
     "data": {
      "text/html": [
       "<div>\n",
       "<style scoped>\n",
       "    .dataframe tbody tr th:only-of-type {\n",
       "        vertical-align: middle;\n",
       "    }\n",
       "\n",
       "    .dataframe tbody tr th {\n",
       "        vertical-align: top;\n",
       "    }\n",
       "\n",
       "    .dataframe thead th {\n",
       "        text-align: right;\n",
       "    }\n",
       "</style>\n",
       "<table border=\"1\" class=\"dataframe\">\n",
       "  <thead>\n",
       "    <tr style=\"text-align: right;\">\n",
       "      <th></th>\n",
       "      <th>0_x</th>\n",
       "      <th>0_y</th>\n",
       "      <th>1_x</th>\n",
       "      <th>1_y</th>\n",
       "      <th>2_x</th>\n",
       "      <th>2_y</th>\n",
       "      <th>3_x</th>\n",
       "      <th>3_y</th>\n",
       "      <th>4_x</th>\n",
       "      <th>4_y</th>\n",
       "      <th>...</th>\n",
       "      <th>6_x</th>\n",
       "      <th>6_y</th>\n",
       "      <th>7_x</th>\n",
       "      <th>7_y</th>\n",
       "      <th>8_x</th>\n",
       "      <th>8_y</th>\n",
       "      <th>9_x</th>\n",
       "      <th>9_y</th>\n",
       "      <th>10_x</th>\n",
       "      <th>10_y</th>\n",
       "    </tr>\n",
       "    <tr>\n",
       "      <th>filename</th>\n",
       "      <th></th>\n",
       "      <th></th>\n",
       "      <th></th>\n",
       "      <th></th>\n",
       "      <th></th>\n",
       "      <th></th>\n",
       "      <th></th>\n",
       "      <th></th>\n",
       "      <th></th>\n",
       "      <th></th>\n",
       "      <th></th>\n",
       "      <th></th>\n",
       "      <th></th>\n",
       "      <th></th>\n",
       "      <th></th>\n",
       "      <th></th>\n",
       "      <th></th>\n",
       "      <th></th>\n",
       "      <th></th>\n",
       "      <th></th>\n",
       "      <th></th>\n",
       "    </tr>\n",
       "  </thead>\n",
       "  <tbody>\n",
       "    <tr>\n",
       "      <th>Abyssinian_1.jpg</th>\n",
       "      <td>45.200001</td>\n",
       "      <td>26.199999</td>\n",
       "      <td>45.200001</td>\n",
       "      <td>15.599999</td>\n",
       "      <td>50.666664</td>\n",
       "      <td>20.200001</td>\n",
       "      <td>55.866665</td>\n",
       "      <td>15.400000</td>\n",
       "      <td>55.599998</td>\n",
       "      <td>26.199999</td>\n",
       "      <td>...</td>\n",
       "      <td>48.266670</td>\n",
       "      <td>24.400002</td>\n",
       "      <td>52.266663</td>\n",
       "      <td>24.600000</td>\n",
       "      <td>48.800003</td>\n",
       "      <td>29.799999</td>\n",
       "      <td>49.733334</td>\n",
       "      <td>28.800001</td>\n",
       "      <td>51.333332</td>\n",
       "      <td>29.799999</td>\n",
       "    </tr>\n",
       "    <tr>\n",
       "      <th>Abyssinian_100.jpg</th>\n",
       "      <td>31.675127</td>\n",
       "      <td>31.680000</td>\n",
       "      <td>38.375633</td>\n",
       "      <td>16.320000</td>\n",
       "      <td>49.746193</td>\n",
       "      <td>20.000000</td>\n",
       "      <td>67.005074</td>\n",
       "      <td>12.640000</td>\n",
       "      <td>65.786804</td>\n",
       "      <td>28.800001</td>\n",
       "      <td>...</td>\n",
       "      <td>46.294418</td>\n",
       "      <td>30.720001</td>\n",
       "      <td>59.492386</td>\n",
       "      <td>29.600000</td>\n",
       "      <td>51.370560</td>\n",
       "      <td>40.639999</td>\n",
       "      <td>55.634518</td>\n",
       "      <td>39.200001</td>\n",
       "      <td>59.289341</td>\n",
       "      <td>40.000000</td>\n",
       "    </tr>\n",
       "    <tr>\n",
       "      <th>Abyssinian_102.jpg</th>\n",
       "      <td>15.200000</td>\n",
       "      <td>40.430107</td>\n",
       "      <td>4.480000</td>\n",
       "      <td>13.763441</td>\n",
       "      <td>31.359999</td>\n",
       "      <td>18.580645</td>\n",
       "      <td>50.720001</td>\n",
       "      <td>5.677419</td>\n",
       "      <td>50.879997</td>\n",
       "      <td>32.860214</td>\n",
       "      <td>...</td>\n",
       "      <td>25.280001</td>\n",
       "      <td>36.129032</td>\n",
       "      <td>40.159996</td>\n",
       "      <td>34.580647</td>\n",
       "      <td>28.800001</td>\n",
       "      <td>52.989250</td>\n",
       "      <td>33.919998</td>\n",
       "      <td>50.580643</td>\n",
       "      <td>38.880001</td>\n",
       "      <td>51.440857</td>\n",
       "    </tr>\n",
       "    <tr>\n",
       "      <th>Abyssinian_103.jpg</th>\n",
       "      <td>42.880001</td>\n",
       "      <td>37.606838</td>\n",
       "      <td>38.880001</td>\n",
       "      <td>23.019943</td>\n",
       "      <td>48.320000</td>\n",
       "      <td>23.475782</td>\n",
       "      <td>56.639999</td>\n",
       "      <td>16.182335</td>\n",
       "      <td>57.760002</td>\n",
       "      <td>32.592590</td>\n",
       "      <td>...</td>\n",
       "      <td>47.519997</td>\n",
       "      <td>35.555557</td>\n",
       "      <td>53.920002</td>\n",
       "      <td>33.732193</td>\n",
       "      <td>50.720001</td>\n",
       "      <td>43.988605</td>\n",
       "      <td>52.160000</td>\n",
       "      <td>43.304844</td>\n",
       "      <td>54.080002</td>\n",
       "      <td>42.849003</td>\n",
       "    </tr>\n",
       "    <tr>\n",
       "      <th>Abyssinian_105.jpg</th>\n",
       "      <td>40.159996</td>\n",
       "      <td>36.480000</td>\n",
       "      <td>38.239998</td>\n",
       "      <td>22.613333</td>\n",
       "      <td>48.800003</td>\n",
       "      <td>22.613333</td>\n",
       "      <td>59.360001</td>\n",
       "      <td>22.613333</td>\n",
       "      <td>57.119999</td>\n",
       "      <td>35.840000</td>\n",
       "      <td>...</td>\n",
       "      <td>45.120003</td>\n",
       "      <td>38.826668</td>\n",
       "      <td>52.480003</td>\n",
       "      <td>38.826668</td>\n",
       "      <td>46.880001</td>\n",
       "      <td>47.786667</td>\n",
       "      <td>48.639999</td>\n",
       "      <td>47.573334</td>\n",
       "      <td>50.400002</td>\n",
       "      <td>48.000000</td>\n",
       "    </tr>\n",
       "  </tbody>\n",
       "</table>\n",
       "<p>5 rows × 22 columns</p>\n",
       "</div>"
      ],
      "text/plain": [
       "                          0_x        0_y        1_x        1_y        2_x  \\\n",
       "filename                                                                    \n",
       "Abyssinian_1.jpg    45.200001  26.199999  45.200001  15.599999  50.666664   \n",
       "Abyssinian_100.jpg  31.675127  31.680000  38.375633  16.320000  49.746193   \n",
       "Abyssinian_102.jpg  15.200000  40.430107   4.480000  13.763441  31.359999   \n",
       "Abyssinian_103.jpg  42.880001  37.606838  38.880001  23.019943  48.320000   \n",
       "Abyssinian_105.jpg  40.159996  36.480000  38.239998  22.613333  48.800003   \n",
       "\n",
       "                          2_y        3_x        3_y        4_x        4_y  \\\n",
       "filename                                                                    \n",
       "Abyssinian_1.jpg    20.200001  55.866665  15.400000  55.599998  26.199999   \n",
       "Abyssinian_100.jpg  20.000000  67.005074  12.640000  65.786804  28.800001   \n",
       "Abyssinian_102.jpg  18.580645  50.720001   5.677419  50.879997  32.860214   \n",
       "Abyssinian_103.jpg  23.475782  56.639999  16.182335  57.760002  32.592590   \n",
       "Abyssinian_105.jpg  22.613333  59.360001  22.613333  57.119999  35.840000   \n",
       "\n",
       "                    ...        6_x        6_y        7_x        7_y  \\\n",
       "filename            ...                                               \n",
       "Abyssinian_1.jpg    ...  48.266670  24.400002  52.266663  24.600000   \n",
       "Abyssinian_100.jpg  ...  46.294418  30.720001  59.492386  29.600000   \n",
       "Abyssinian_102.jpg  ...  25.280001  36.129032  40.159996  34.580647   \n",
       "Abyssinian_103.jpg  ...  47.519997  35.555557  53.920002  33.732193   \n",
       "Abyssinian_105.jpg  ...  45.120003  38.826668  52.480003  38.826668   \n",
       "\n",
       "                          8_x        8_y        9_x        9_y       10_x  \\\n",
       "filename                                                                    \n",
       "Abyssinian_1.jpg    48.800003  29.799999  49.733334  28.800001  51.333332   \n",
       "Abyssinian_100.jpg  51.370560  40.639999  55.634518  39.200001  59.289341   \n",
       "Abyssinian_102.jpg  28.800001  52.989250  33.919998  50.580643  38.880001   \n",
       "Abyssinian_103.jpg  50.720001  43.988605  52.160000  43.304844  54.080002   \n",
       "Abyssinian_105.jpg  46.880001  47.786667  48.639999  47.573334  50.400002   \n",
       "\n",
       "                         10_y  \n",
       "filename                       \n",
       "Abyssinian_1.jpg    29.799999  \n",
       "Abyssinian_100.jpg  40.000000  \n",
       "Abyssinian_102.jpg  51.440857  \n",
       "Abyssinian_103.jpg  42.849003  \n",
       "Abyssinian_105.jpg  48.000000  \n",
       "\n",
       "[5 rows x 22 columns]"
      ]
     },
     "execution_count": 17,
     "metadata": {},
     "output_type": "execute_result"
    }
   ],
   "source": [
    "y.head()"
   ]
  },
  {
   "cell_type": "code",
   "execution_count": 43,
   "metadata": {},
   "outputs": [],
   "source": [
    "y['left'] = y[y.columns[y.columns.str.endswith('x')]].min(axis=1).values\n",
    "y['right'] = y[y.columns[y.columns.str.endswith('x')]].max(axis=1).values\n",
    "y['top'] = y[y.columns[y.columns.str.endswith('y')]].min(axis=1).values\n",
    "y['bottom'] = y[y.columns[y.columns.str.endswith('y')]].max(axis=1).values"
   ]
  },
  {
   "cell_type": "code",
   "execution_count": 44,
   "metadata": {},
   "outputs": [],
   "source": [
    "box_labels = y[['left', 'top', 'right', 'bottom']]"
   ]
  },
  {
   "cell_type": "code",
   "execution_count": 49,
   "metadata": {},
   "outputs": [
    {
     "data": {
      "image/png": "[encoded data removed]",
      "text/plain": [
       "<Figure size 432x288 with 1 Axes>"
      ]
     },
     "metadata": {
      "needs_background": "light"
     },
     "output_type": "display_data"
    }
   ],
   "source": [
    "plot_labelled_image(X[3000], box_labels.iloc[3000], 80, False)"
   ]
  },
  {
   "cell_type": "code",
   "execution_count": null,
   "metadata": {},
   "outputs": [],
   "source": []
  }
 ],
 "metadata": {
  "kernelspec": {
   "display_name": "py37",
   "language": "python",
   "name": "py37"
  },
  "language_info": {
   "codemirror_mode": {
    "name": "ipython",
    "version": 3
   },
   "file_extension": ".py",
   "mimetype": "text/x-python",
   "name": "python",
   "nbconvert_exporter": "python",
   "pygments_lexer": "ipython3",
   "version": "3.7.3"
  }
 },
 "nbformat": 4,
 "nbformat_minor": 2
}
