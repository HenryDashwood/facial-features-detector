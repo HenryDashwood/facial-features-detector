{
 "metadata": {
  "language_info": {
   "codemirror_mode": {
    "name": "ipython",
    "version": 3
   },
   "file_extension": ".py",
   "mimetype": "text/x-python",
   "name": "python",
   "nbconvert_exporter": "python",
   "pygments_lexer": "ipython3",
   "version": "3.8.5-final"
  },
  "orig_nbformat": 2,
  "kernelspec": {
   "name": "Python 3.8.5 64-bit ('py385')",
   "display_name": "Python 3.8.5 64-bit ('py385')",
   "metadata": {
    "interpreter": {
     "hash": "03b2c8230f2ecf2192da6428f7f5e434a1ef0aefb54f65f293ba2ec59df1c4b3"
    }
   }
  }
 },
 "nbformat": 4,
 "nbformat_minor": 2,
 "cells": [
  {
   "cell_type": "code",
   "execution_count": 21,
   "metadata": {},
   "outputs": [],
   "source": [
    "from matplotlib import pyplot as plt\n",
    "import numpy as np\n",
    "import pandas as pd\n",
    "\n",
    "from results import invoke"
   ]
  },
  {
   "cell_type": "code",
   "execution_count": 47,
   "metadata": {},
   "outputs": [],
   "source": [
    "test_images = os.listdir(\"/home/henry/facial-features-detector/data/resized_and_user_images\")[:10]"
   ]
  },
  {
   "cell_type": "code",
   "execution_count": 49,
   "metadata": {},
   "outputs": [],
   "source": [
    "fig, axes = plt.subplots(nrows=len(test_images), ncols=2, figsize=(40, 40))\n",
    "for ax, col in zip(axes[0], [\"dev-efficientnet-2\", \"facial-features-detector\"]):\n",
    "    ax.set_title(col)\n",
    "for i, img_name in enumerate(test_images):\n",
    "    img, preds = invoke(\"dev-efficientnet-2\", f\"data/resized_and_user_images/{img_name}\")\n",
    "    axes[i, 0].imshow(np.array(img))\n",
    "    axes[i, 0].scatter(np.array(preds[0::2]), np.array(preds[1::2]))\n",
    "    img, preds = invoke(\"dev-facial-features-detector\", f\"data/resized_and_user_images/{img_name}\")\n",
    "    axes[i, 1].imshow(np.array(img))\n",
    "    axes[i, 1].scatter(np.array(preds[1::2]), np.array(preds[0::2]))"
   ]
  },
  {
   "cell_type": "code",
   "execution_count": null,
   "metadata": {},
   "outputs": [],
   "source": []
  }
 ]
}